{
 "metadata": {
  "language_info": {
   "codemirror_mode": {
    "name": "ipython",
    "version": 3
   },
   "file_extension": ".py",
   "mimetype": "text/x-python",
   "name": "python",
   "nbconvert_exporter": "python",
   "pygments_lexer": "ipython3",
   "version": "3.6.10-final"
  },
  "orig_nbformat": 2,
  "kernelspec": {
   "name": "python3",
   "display_name": "Python 3",
   "language": "python"
  }
 },
 "nbformat": 4,
 "nbformat_minor": 2,
 "cells": [
  {
   "cell_type": "code",
   "execution_count": 204,
   "metadata": {},
   "outputs": [],
   "source": [
    "from sklearn.linear_model import LinearRegression,Lasso\n",
    "from sklearn.model_selection import train_test_split, GridSearchCV\n",
    "from sklearn.metrics import mean_squared_error,mean_absolute_error, r2_score\n",
    "import numpy as np\n",
    "import pandas as pd\n",
    "import matplotlib.pyplot as plt\n",
    "import datetime as dt"
   ]
  },
  {
   "cell_type": "code",
   "execution_count": 311,
   "metadata": {},
   "outputs": [
    {
     "output_type": "execute_result",
     "data": {
      "text/plain": "   Year CH4(ppb) CO2(ppm) N2O(ppb)\n0  1978  1488.05  333.476   299.37\n1  1979   1495.1   335.26  300.515\n2  1980   1540.1  336.526   301.66\n3  1981  1560.74  338.294    302.1\n4  1982  1581.38  340.062   302.54",
      "text/html": "<div>\n<style scoped>\n    .dataframe tbody tr th:only-of-type {\n        vertical-align: middle;\n    }\n\n    .dataframe tbody tr th {\n        vertical-align: top;\n    }\n\n    .dataframe thead th {\n        text-align: right;\n    }\n</style>\n<table border=\"1\" class=\"dataframe\">\n  <thead>\n    <tr style=\"text-align: right;\">\n      <th></th>\n      <th>Year</th>\n      <th>CH4(ppb)</th>\n      <th>CO2(ppm)</th>\n      <th>N2O(ppb)</th>\n    </tr>\n  </thead>\n  <tbody>\n    <tr>\n      <th>0</th>\n      <td>1978</td>\n      <td>1488.05</td>\n      <td>333.476</td>\n      <td>299.37</td>\n    </tr>\n    <tr>\n      <th>1</th>\n      <td>1979</td>\n      <td>1495.1</td>\n      <td>335.26</td>\n      <td>300.515</td>\n    </tr>\n    <tr>\n      <th>2</th>\n      <td>1980</td>\n      <td>1540.1</td>\n      <td>336.526</td>\n      <td>301.66</td>\n    </tr>\n    <tr>\n      <th>3</th>\n      <td>1981</td>\n      <td>1560.74</td>\n      <td>338.294</td>\n      <td>302.1</td>\n    </tr>\n    <tr>\n      <th>4</th>\n      <td>1982</td>\n      <td>1581.38</td>\n      <td>340.062</td>\n      <td>302.54</td>\n    </tr>\n  </tbody>\n</table>\n</div>"
     },
     "metadata": {},
     "execution_count": 311
    }
   ],
   "source": [
    "df = pd.read_csv(\"../data/raw/co2/CapeGrim_CH4.csv\",usecols=[0,4])\n",
    "df1 = pd.read_csv(\"../data/raw/co2/CapeGrim_CO2.csv\",usecols=[0,4])\n",
    "df2 = pd.read_csv(\"../data/raw/co2/CapeGrim_N2O.csv\",usecols=[0,4])\n",
    "df = df.groupby('Year').mean().reset_index()\n",
    "df1 = df1.groupby('Year').mean().reset_index()\n",
    "df2 = df2.groupby('Year').mean().reset_index()\n",
    "aus_df = (df.merge(df1,on='Year',how='left')).merge(df2,on='Year',how='left')\n",
    "aus_df.iloc[1,3] = 300.515\n",
    "aus_df.iloc[4,3] = 303.72\n",
    "aus_df.iloc[40,3] = 332.608\n",
    "aus_df.loc[41] = ''\n",
    "aus_df.iloc[41,[0,1,2,3]]= [1981,aus_df.iloc[2,1]+20.64,aus_df.iloc[2,2]+1.768,aus_df.iloc[2,3]+0.44]\n",
    "aus_df.loc[42] = ''\n",
    "aus_df.iloc[42,[0,1,2,3]] = [1982,aus_df.iloc[2,1]+20.64*2,\\\n",
    "    aus_df.iloc[2,2]+1.768*2,aus_df.iloc[2,3]+0.44*2]\n",
    "aus_df.loc[43] = ''\n",
    "aus_df.iloc[43,[0,1,2,3]] = [1983,aus_df.iloc[2,1]+20.64*3,\\\n",
    "    aus_df.iloc[2,2]+1.768*3,aus_df.iloc[2,3]+0.44*3]\n",
    "aus_df = aus_df.sort_values('Year').reset_index(drop=True)\n",
    "aus_df.head()"
   ]
  },
  {
   "cell_type": "code",
   "execution_count": 312,
   "metadata": {
    "tags": []
   },
   "outputs": [
    {
     "output_type": "execute_result",
     "data": {
      "text/plain": "   Year  avg_temp  max_temp  min_temp  rainfall_anom\n0  1978     -0.31     -0.50     -0.12          51.35\n1  1979      0.37      0.44      0.30         -14.23\n2  1980      0.74      0.93      0.54         -36.28\n3  1981      0.27      0.18      0.36          61.31\n4  1982     -0.04      0.21     -0.29         -50.90",
      "text/html": "<div>\n<style scoped>\n    .dataframe tbody tr th:only-of-type {\n        vertical-align: middle;\n    }\n\n    .dataframe tbody tr th {\n        vertical-align: top;\n    }\n\n    .dataframe thead th {\n        text-align: right;\n    }\n</style>\n<table border=\"1\" class=\"dataframe\">\n  <thead>\n    <tr style=\"text-align: right;\">\n      <th></th>\n      <th>Year</th>\n      <th>avg_temp</th>\n      <th>max_temp</th>\n      <th>min_temp</th>\n      <th>rainfall_anom</th>\n    </tr>\n  </thead>\n  <tbody>\n    <tr>\n      <th>0</th>\n      <td>1978</td>\n      <td>-0.31</td>\n      <td>-0.50</td>\n      <td>-0.12</td>\n      <td>51.35</td>\n    </tr>\n    <tr>\n      <th>1</th>\n      <td>1979</td>\n      <td>0.37</td>\n      <td>0.44</td>\n      <td>0.30</td>\n      <td>-14.23</td>\n    </tr>\n    <tr>\n      <th>2</th>\n      <td>1980</td>\n      <td>0.74</td>\n      <td>0.93</td>\n      <td>0.54</td>\n      <td>-36.28</td>\n    </tr>\n    <tr>\n      <th>3</th>\n      <td>1981</td>\n      <td>0.27</td>\n      <td>0.18</td>\n      <td>0.36</td>\n      <td>61.31</td>\n    </tr>\n    <tr>\n      <th>4</th>\n      <td>1982</td>\n      <td>-0.04</td>\n      <td>0.21</td>\n      <td>-0.29</td>\n      <td>-50.90</td>\n    </tr>\n  </tbody>\n</table>\n</div>"
     },
     "metadata": {},
     "execution_count": 312
    }
   ],
   "source": [
    "#global anomalies Australia\n",
    "aus_sum = pd.read_csv('../data/cleaned/australia_extreme_summary.csv')\n",
    "aus_sum = aus_sum[aus_sum['Year']>1977]\n",
    "cols = ['avg_temp', 'max_temp', 'min_temp', 'rainfall_anom']\n",
    "aus_sum = aus_sum[['Year', 'avg_temp', 'max_temp', 'min_temp', 'rainfall_anom']].\\\n",
    "    reset_index(drop=True)\n",
    "aus_sum.head()"
   ]
  },
  {
   "cell_type": "code",
   "execution_count": 313,
   "metadata": {},
   "outputs": [
    {
     "output_type": "execute_result",
     "data": {
      "text/plain": "   Year CH4(ppb) CO2(ppm) N2O(ppb)  avg_temp  max_temp  min_temp  \\\n0  1978  1488.05  333.476   299.37     -0.31     -0.50     -0.12   \n1  1979   1495.1   335.26  300.515      0.37      0.44      0.30   \n2  1980   1540.1  336.526   301.66      0.74      0.93      0.54   \n3  1981  1560.74  338.294    302.1      0.27      0.18      0.36   \n4  1982  1581.38  340.062   302.54     -0.04      0.21     -0.29   \n\n   rainfall_anom  \n0          51.35  \n1         -14.23  \n2         -36.28  \n3          61.31  \n4         -50.90  ",
      "text/html": "<div>\n<style scoped>\n    .dataframe tbody tr th:only-of-type {\n        vertical-align: middle;\n    }\n\n    .dataframe tbody tr th {\n        vertical-align: top;\n    }\n\n    .dataframe thead th {\n        text-align: right;\n    }\n</style>\n<table border=\"1\" class=\"dataframe\">\n  <thead>\n    <tr style=\"text-align: right;\">\n      <th></th>\n      <th>Year</th>\n      <th>CH4(ppb)</th>\n      <th>CO2(ppm)</th>\n      <th>N2O(ppb)</th>\n      <th>avg_temp</th>\n      <th>max_temp</th>\n      <th>min_temp</th>\n      <th>rainfall_anom</th>\n    </tr>\n  </thead>\n  <tbody>\n    <tr>\n      <th>0</th>\n      <td>1978</td>\n      <td>1488.05</td>\n      <td>333.476</td>\n      <td>299.37</td>\n      <td>-0.31</td>\n      <td>-0.50</td>\n      <td>-0.12</td>\n      <td>51.35</td>\n    </tr>\n    <tr>\n      <th>1</th>\n      <td>1979</td>\n      <td>1495.1</td>\n      <td>335.26</td>\n      <td>300.515</td>\n      <td>0.37</td>\n      <td>0.44</td>\n      <td>0.30</td>\n      <td>-14.23</td>\n    </tr>\n    <tr>\n      <th>2</th>\n      <td>1980</td>\n      <td>1540.1</td>\n      <td>336.526</td>\n      <td>301.66</td>\n      <td>0.74</td>\n      <td>0.93</td>\n      <td>0.54</td>\n      <td>-36.28</td>\n    </tr>\n    <tr>\n      <th>3</th>\n      <td>1981</td>\n      <td>1560.74</td>\n      <td>338.294</td>\n      <td>302.1</td>\n      <td>0.27</td>\n      <td>0.18</td>\n      <td>0.36</td>\n      <td>61.31</td>\n    </tr>\n    <tr>\n      <th>4</th>\n      <td>1982</td>\n      <td>1581.38</td>\n      <td>340.062</td>\n      <td>302.54</td>\n      <td>-0.04</td>\n      <td>0.21</td>\n      <td>-0.29</td>\n      <td>-50.90</td>\n    </tr>\n  </tbody>\n</table>\n</div>"
     },
     "metadata": {},
     "execution_count": 313
    }
   ],
   "source": [
    "final_df = aus_df.merge(aus_sum,on='Year',how='left')\n",
    "final_df.head()"
   ]
  },
  {
   "cell_type": "markdown",
   "metadata": {},
   "source": [
    "## [Arima for greenhouse gases predictions]"
   ]
  },
  {
   "cell_type": "code",
   "execution_count": 314,
   "metadata": {},
   "outputs": [
    {
     "output_type": "execute_result",
     "data": {
      "text/plain": "   Year CH4(ppb) CO2(ppm) N2O(ppb)  avg_temp  max_temp  min_temp  \\\n0  1978  1488.05  333.476   299.37     -0.31     -0.50     -0.12   \n1  1979   1495.1   335.26  300.515      0.37      0.44      0.30   \n2  1980   1540.1  336.526   301.66      0.74      0.93      0.54   \n3  1981  1560.74  338.294    302.1      0.27      0.18      0.36   \n4  1982  1581.38  340.062   302.54     -0.04      0.21     -0.29   \n\n   rainfall_anom  \n0          51.35  \n1         -14.23  \n2         -36.28  \n3          61.31  \n4         -50.90  ",
      "text/html": "<div>\n<style scoped>\n    .dataframe tbody tr th:only-of-type {\n        vertical-align: middle;\n    }\n\n    .dataframe tbody tr th {\n        vertical-align: top;\n    }\n\n    .dataframe thead th {\n        text-align: right;\n    }\n</style>\n<table border=\"1\" class=\"dataframe\">\n  <thead>\n    <tr style=\"text-align: right;\">\n      <th></th>\n      <th>Year</th>\n      <th>CH4(ppb)</th>\n      <th>CO2(ppm)</th>\n      <th>N2O(ppb)</th>\n      <th>avg_temp</th>\n      <th>max_temp</th>\n      <th>min_temp</th>\n      <th>rainfall_anom</th>\n    </tr>\n  </thead>\n  <tbody>\n    <tr>\n      <th>0</th>\n      <td>1978</td>\n      <td>1488.05</td>\n      <td>333.476</td>\n      <td>299.37</td>\n      <td>-0.31</td>\n      <td>-0.50</td>\n      <td>-0.12</td>\n      <td>51.35</td>\n    </tr>\n    <tr>\n      <th>1</th>\n      <td>1979</td>\n      <td>1495.1</td>\n      <td>335.26</td>\n      <td>300.515</td>\n      <td>0.37</td>\n      <td>0.44</td>\n      <td>0.30</td>\n      <td>-14.23</td>\n    </tr>\n    <tr>\n      <th>2</th>\n      <td>1980</td>\n      <td>1540.1</td>\n      <td>336.526</td>\n      <td>301.66</td>\n      <td>0.74</td>\n      <td>0.93</td>\n      <td>0.54</td>\n      <td>-36.28</td>\n    </tr>\n    <tr>\n      <th>3</th>\n      <td>1981</td>\n      <td>1560.74</td>\n      <td>338.294</td>\n      <td>302.1</td>\n      <td>0.27</td>\n      <td>0.18</td>\n      <td>0.36</td>\n      <td>61.31</td>\n    </tr>\n    <tr>\n      <th>4</th>\n      <td>1982</td>\n      <td>1581.38</td>\n      <td>340.062</td>\n      <td>302.54</td>\n      <td>-0.04</td>\n      <td>0.21</td>\n      <td>-0.29</td>\n      <td>-50.90</td>\n    </tr>\n  </tbody>\n</table>\n</div>"
     },
     "metadata": {},
     "execution_count": 314
    }
   ],
   "source": [
    "df=final_df.copy()\n",
    "df.head()"
   ]
  },
  {
   "cell_type": "code",
   "execution_count": 315,
   "metadata": {},
   "outputs": [
    {
     "output_type": "execute_result",
     "data": {
      "text/plain": "<AxesSubplot:xlabel='Year'>"
     },
     "metadata": {},
     "execution_count": 315
    },
    {
     "output_type": "display_data",
     "data": {
      "text/plain": "<Figure size 432x288 with 1 Axes>",
      "image/svg+xml": "<?xml version=\"1.0\" encoding=\"utf-8\" standalone=\"no\"?>\n<!DOCTYPE svg PUBLIC \"-//W3C//DTD SVG 1.1//EN\"\n  \"http://www.w3.org/Graphics/SVG/1.1/DTD/svg11.dtd\">\n<!-- Created with matplotlib (https://matplotlib.org/) -->\n<svg height=\"262.19625pt\" version=\"1.1\" viewBox=\"0 0 381.65 262.19625\" width=\"381.65pt\" xmlns=\"http://www.w3.org/2000/svg\" xmlns:xlink=\"http://www.w3.org/1999/xlink\">\n <metadata>\n  <rdf:RDF xmlns:cc=\"http://creativecommons.org/ns#\" xmlns:dc=\"http://purl.org/dc/elements/1.1/\" xmlns:rdf=\"http://www.w3.org/1999/02/22-rdf-syntax-ns#\">\n   <cc:Work>\n    <dc:type rdf:resource=\"http://purl.org/dc/dcmitype/StillImage\"/>\n    <dc:date>2021-02-16T07:45:52.251959</dc:date>\n    <dc:format>image/svg+xml</dc:format>\n    <dc:creator>\n     <cc:Agent>\n      <dc:title>Matplotlib v3.3.1, https://matplotlib.org/</dc:title>\n     </cc:Agent>\n    </dc:creator>\n   </cc:Work>\n  </rdf:RDF>\n </metadata>\n <defs>\n  <style type=\"text/css\">*{stroke-linecap:butt;stroke-linejoin:round;}</style>\n </defs>\n <g id=\"figure_1\">\n  <g id=\"patch_1\">\n   <path d=\"M -0 262.19625 \nL 381.65 262.19625 \nL 381.65 0 \nL -0 0 \nz\n\" style=\"fill:none;\"/>\n  </g>\n  <g id=\"axes_1\">\n   <g id=\"patch_2\">\n    <path d=\"M 39.65 224.64 \nL 374.45 224.64 \nL 374.45 7.2 \nL 39.65 7.2 \nz\n\" style=\"fill:#ffffff;\"/>\n   </g>\n   <g id=\"matplotlib.axis_1\">\n    <g id=\"xtick_1\">\n     <g id=\"line2d_1\">\n      <defs>\n       <path d=\"M 0 0 \nL 0 3.5 \n\" id=\"mf53a0cd889\" style=\"stroke:#000000;stroke-width:0.8;\"/>\n      </defs>\n      <g>\n       <use style=\"stroke:#000000;stroke-width:0.8;\" x=\"69.02463\" xlink:href=\"#mf53a0cd889\" y=\"224.64\"/>\n      </g>\n     </g>\n     <g id=\"text_1\">\n      <!-- 1980 -->\n      <g transform=\"translate(56.29963 239.238437)scale(0.1 -0.1)\">\n       <defs>\n        <path d=\"M 12.40625 8.296875 \nL 28.515625 8.296875 \nL 28.515625 63.921875 \nL 10.984375 60.40625 \nL 10.984375 69.390625 \nL 28.421875 72.90625 \nL 38.28125 72.90625 \nL 38.28125 8.296875 \nL 54.390625 8.296875 \nL 54.390625 0 \nL 12.40625 0 \nz\n\" id=\"DejaVuSans-49\"/>\n        <path d=\"M 10.984375 1.515625 \nL 10.984375 10.5 \nQ 14.703125 8.734375 18.5 7.8125 \nQ 22.3125 6.890625 25.984375 6.890625 \nQ 35.75 6.890625 40.890625 13.453125 \nQ 46.046875 20.015625 46.78125 33.40625 \nQ 43.953125 29.203125 39.59375 26.953125 \nQ 35.25 24.703125 29.984375 24.703125 \nQ 19.046875 24.703125 12.671875 31.3125 \nQ 6.296875 37.9375 6.296875 49.421875 \nQ 6.296875 60.640625 12.9375 67.421875 \nQ 19.578125 74.21875 30.609375 74.21875 \nQ 43.265625 74.21875 49.921875 64.515625 \nQ 56.59375 54.828125 56.59375 36.375 \nQ 56.59375 19.140625 48.40625 8.859375 \nQ 40.234375 -1.421875 26.421875 -1.421875 \nQ 22.703125 -1.421875 18.890625 -0.6875 \nQ 15.09375 0.046875 10.984375 1.515625 \nz\nM 30.609375 32.421875 \nQ 37.25 32.421875 41.125 36.953125 \nQ 45.015625 41.5 45.015625 49.421875 \nQ 45.015625 57.28125 41.125 61.84375 \nQ 37.25 66.40625 30.609375 66.40625 \nQ 23.96875 66.40625 20.09375 61.84375 \nQ 16.21875 57.28125 16.21875 49.421875 \nQ 16.21875 41.5 20.09375 36.953125 \nQ 23.96875 32.421875 30.609375 32.421875 \nz\n\" id=\"DejaVuSans-57\"/>\n        <path d=\"M 31.78125 34.625 \nQ 24.75 34.625 20.71875 30.859375 \nQ 16.703125 27.09375 16.703125 20.515625 \nQ 16.703125 13.921875 20.71875 10.15625 \nQ 24.75 6.390625 31.78125 6.390625 \nQ 38.8125 6.390625 42.859375 10.171875 \nQ 46.921875 13.96875 46.921875 20.515625 \nQ 46.921875 27.09375 42.890625 30.859375 \nQ 38.875 34.625 31.78125 34.625 \nz\nM 21.921875 38.8125 \nQ 15.578125 40.375 12.03125 44.71875 \nQ 8.5 49.078125 8.5 55.328125 \nQ 8.5 64.0625 14.71875 69.140625 \nQ 20.953125 74.21875 31.78125 74.21875 \nQ 42.671875 74.21875 48.875 69.140625 \nQ 55.078125 64.0625 55.078125 55.328125 \nQ 55.078125 49.078125 51.53125 44.71875 \nQ 48 40.375 41.703125 38.8125 \nQ 48.828125 37.15625 52.796875 32.3125 \nQ 56.78125 27.484375 56.78125 20.515625 \nQ 56.78125 9.90625 50.3125 4.234375 \nQ 43.84375 -1.421875 31.78125 -1.421875 \nQ 19.734375 -1.421875 13.25 4.234375 \nQ 6.78125 9.90625 6.78125 20.515625 \nQ 6.78125 27.484375 10.78125 32.3125 \nQ 14.796875 37.15625 21.921875 38.8125 \nz\nM 18.3125 54.390625 \nQ 18.3125 48.734375 21.84375 45.5625 \nQ 25.390625 42.390625 31.78125 42.390625 \nQ 38.140625 42.390625 41.71875 45.5625 \nQ 45.3125 48.734375 45.3125 54.390625 \nQ 45.3125 60.0625 41.71875 63.234375 \nQ 38.140625 66.40625 31.78125 66.40625 \nQ 25.390625 66.40625 21.84375 63.234375 \nQ 18.3125 60.0625 18.3125 54.390625 \nz\n\" id=\"DejaVuSans-56\"/>\n        <path d=\"M 31.78125 66.40625 \nQ 24.171875 66.40625 20.328125 58.90625 \nQ 16.5 51.421875 16.5 36.375 \nQ 16.5 21.390625 20.328125 13.890625 \nQ 24.171875 6.390625 31.78125 6.390625 \nQ 39.453125 6.390625 43.28125 13.890625 \nQ 47.125 21.390625 47.125 36.375 \nQ 47.125 51.421875 43.28125 58.90625 \nQ 39.453125 66.40625 31.78125 66.40625 \nz\nM 31.78125 74.21875 \nQ 44.046875 74.21875 50.515625 64.515625 \nQ 56.984375 54.828125 56.984375 36.375 \nQ 56.984375 17.96875 50.515625 8.265625 \nQ 44.046875 -1.421875 31.78125 -1.421875 \nQ 19.53125 -1.421875 13.0625 8.265625 \nQ 6.59375 17.96875 6.59375 36.375 \nQ 6.59375 54.828125 13.0625 64.515625 \nQ 19.53125 74.21875 31.78125 74.21875 \nz\n\" id=\"DejaVuSans-48\"/>\n       </defs>\n       <use xlink:href=\"#DejaVuSans-49\"/>\n       <use x=\"63.623047\" xlink:href=\"#DejaVuSans-57\"/>\n       <use x=\"127.246094\" xlink:href=\"#DejaVuSans-56\"/>\n       <use x=\"190.869141\" xlink:href=\"#DejaVuSans-48\"/>\n      </g>\n     </g>\n    </g>\n    <g id=\"xtick_2\">\n     <g id=\"line2d_2\">\n      <g>\n       <use style=\"stroke:#000000;stroke-width:0.8;\" x=\"139.806871\" xlink:href=\"#mf53a0cd889\" y=\"224.64\"/>\n      </g>\n     </g>\n     <g id=\"text_2\">\n      <!-- 1990 -->\n      <g transform=\"translate(127.081871 239.238437)scale(0.1 -0.1)\">\n       <use xlink:href=\"#DejaVuSans-49\"/>\n       <use x=\"63.623047\" xlink:href=\"#DejaVuSans-57\"/>\n       <use x=\"127.246094\" xlink:href=\"#DejaVuSans-57\"/>\n       <use x=\"190.869141\" xlink:href=\"#DejaVuSans-48\"/>\n      </g>\n     </g>\n    </g>\n    <g id=\"xtick_3\">\n     <g id=\"line2d_3\">\n      <g>\n       <use style=\"stroke:#000000;stroke-width:0.8;\" x=\"210.589112\" xlink:href=\"#mf53a0cd889\" y=\"224.64\"/>\n      </g>\n     </g>\n     <g id=\"text_3\">\n      <!-- 2000 -->\n      <g transform=\"translate(197.864112 239.238437)scale(0.1 -0.1)\">\n       <defs>\n        <path d=\"M 19.1875 8.296875 \nL 53.609375 8.296875 \nL 53.609375 0 \nL 7.328125 0 \nL 7.328125 8.296875 \nQ 12.9375 14.109375 22.625 23.890625 \nQ 32.328125 33.6875 34.8125 36.53125 \nQ 39.546875 41.84375 41.421875 45.53125 \nQ 43.3125 49.21875 43.3125 52.78125 \nQ 43.3125 58.59375 39.234375 62.25 \nQ 35.15625 65.921875 28.609375 65.921875 \nQ 23.96875 65.921875 18.8125 64.3125 \nQ 13.671875 62.703125 7.8125 59.421875 \nL 7.8125 69.390625 \nQ 13.765625 71.78125 18.9375 73 \nQ 24.125 74.21875 28.421875 74.21875 \nQ 39.75 74.21875 46.484375 68.546875 \nQ 53.21875 62.890625 53.21875 53.421875 \nQ 53.21875 48.921875 51.53125 44.890625 \nQ 49.859375 40.875 45.40625 35.40625 \nQ 44.1875 33.984375 37.640625 27.21875 \nQ 31.109375 20.453125 19.1875 8.296875 \nz\n\" id=\"DejaVuSans-50\"/>\n       </defs>\n       <use xlink:href=\"#DejaVuSans-50\"/>\n       <use x=\"63.623047\" xlink:href=\"#DejaVuSans-48\"/>\n       <use x=\"127.246094\" xlink:href=\"#DejaVuSans-48\"/>\n       <use x=\"190.869141\" xlink:href=\"#DejaVuSans-48\"/>\n      </g>\n     </g>\n    </g>\n    <g id=\"xtick_4\">\n     <g id=\"line2d_4\">\n      <g>\n       <use style=\"stroke:#000000;stroke-width:0.8;\" x=\"281.371353\" xlink:href=\"#mf53a0cd889\" y=\"224.64\"/>\n      </g>\n     </g>\n     <g id=\"text_4\">\n      <!-- 2010 -->\n      <g transform=\"translate(268.646353 239.238437)scale(0.1 -0.1)\">\n       <use xlink:href=\"#DejaVuSans-50\"/>\n       <use x=\"63.623047\" xlink:href=\"#DejaVuSans-48\"/>\n       <use x=\"127.246094\" xlink:href=\"#DejaVuSans-49\"/>\n       <use x=\"190.869141\" xlink:href=\"#DejaVuSans-48\"/>\n      </g>\n     </g>\n    </g>\n    <g id=\"xtick_5\">\n     <g id=\"line2d_5\">\n      <g>\n       <use style=\"stroke:#000000;stroke-width:0.8;\" x=\"352.153594\" xlink:href=\"#mf53a0cd889\" y=\"224.64\"/>\n      </g>\n     </g>\n     <g id=\"text_5\">\n      <!-- 2020 -->\n      <g transform=\"translate(339.428594 239.238437)scale(0.1 -0.1)\">\n       <use xlink:href=\"#DejaVuSans-50\"/>\n       <use x=\"63.623047\" xlink:href=\"#DejaVuSans-48\"/>\n       <use x=\"127.246094\" xlink:href=\"#DejaVuSans-50\"/>\n       <use x=\"190.869141\" xlink:href=\"#DejaVuSans-48\"/>\n      </g>\n     </g>\n    </g>\n    <g id=\"text_6\">\n     <!-- Year -->\n     <g transform=\"translate(196.4625 252.916562)scale(0.1 -0.1)\">\n      <defs>\n       <path d=\"M -0.203125 72.90625 \nL 10.40625 72.90625 \nL 30.609375 42.921875 \nL 50.6875 72.90625 \nL 61.28125 72.90625 \nL 35.5 34.71875 \nL 35.5 0 \nL 25.59375 0 \nL 25.59375 34.71875 \nz\n\" id=\"DejaVuSans-89\"/>\n       <path d=\"M 56.203125 29.59375 \nL 56.203125 25.203125 \nL 14.890625 25.203125 \nQ 15.484375 15.921875 20.484375 11.0625 \nQ 25.484375 6.203125 34.421875 6.203125 \nQ 39.59375 6.203125 44.453125 7.46875 \nQ 49.3125 8.734375 54.109375 11.28125 \nL 54.109375 2.78125 \nQ 49.265625 0.734375 44.1875 -0.34375 \nQ 39.109375 -1.421875 33.890625 -1.421875 \nQ 20.796875 -1.421875 13.15625 6.1875 \nQ 5.515625 13.8125 5.515625 26.8125 \nQ 5.515625 40.234375 12.765625 48.109375 \nQ 20.015625 56 32.328125 56 \nQ 43.359375 56 49.78125 48.890625 \nQ 56.203125 41.796875 56.203125 29.59375 \nz\nM 47.21875 32.234375 \nQ 47.125 39.59375 43.09375 43.984375 \nQ 39.0625 48.390625 32.421875 48.390625 \nQ 24.90625 48.390625 20.390625 44.140625 \nQ 15.875 39.890625 15.1875 32.171875 \nz\n\" id=\"DejaVuSans-101\"/>\n       <path d=\"M 34.28125 27.484375 \nQ 23.390625 27.484375 19.1875 25 \nQ 14.984375 22.515625 14.984375 16.5 \nQ 14.984375 11.71875 18.140625 8.90625 \nQ 21.296875 6.109375 26.703125 6.109375 \nQ 34.1875 6.109375 38.703125 11.40625 \nQ 43.21875 16.703125 43.21875 25.484375 \nL 43.21875 27.484375 \nz\nM 52.203125 31.203125 \nL 52.203125 0 \nL 43.21875 0 \nL 43.21875 8.296875 \nQ 40.140625 3.328125 35.546875 0.953125 \nQ 30.953125 -1.421875 24.3125 -1.421875 \nQ 15.921875 -1.421875 10.953125 3.296875 \nQ 6 8.015625 6 15.921875 \nQ 6 25.140625 12.171875 29.828125 \nQ 18.359375 34.515625 30.609375 34.515625 \nL 43.21875 34.515625 \nL 43.21875 35.40625 \nQ 43.21875 41.609375 39.140625 45 \nQ 35.0625 48.390625 27.6875 48.390625 \nQ 23 48.390625 18.546875 47.265625 \nQ 14.109375 46.140625 10.015625 43.890625 \nL 10.015625 52.203125 \nQ 14.9375 54.109375 19.578125 55.046875 \nQ 24.21875 56 28.609375 56 \nQ 40.484375 56 46.34375 49.84375 \nQ 52.203125 43.703125 52.203125 31.203125 \nz\n\" id=\"DejaVuSans-97\"/>\n       <path d=\"M 41.109375 46.296875 \nQ 39.59375 47.171875 37.8125 47.578125 \nQ 36.03125 48 33.890625 48 \nQ 26.265625 48 22.1875 43.046875 \nQ 18.109375 38.09375 18.109375 28.8125 \nL 18.109375 0 \nL 9.078125 0 \nL 9.078125 54.6875 \nL 18.109375 54.6875 \nL 18.109375 46.1875 \nQ 20.953125 51.171875 25.484375 53.578125 \nQ 30.03125 56 36.53125 56 \nQ 37.453125 56 38.578125 55.875 \nQ 39.703125 55.765625 41.0625 55.515625 \nz\n\" id=\"DejaVuSans-114\"/>\n      </defs>\n      <use xlink:href=\"#DejaVuSans-89\"/>\n      <use x=\"47.833984\" xlink:href=\"#DejaVuSans-101\"/>\n      <use x=\"109.357422\" xlink:href=\"#DejaVuSans-97\"/>\n      <use x=\"170.636719\" xlink:href=\"#DejaVuSans-114\"/>\n     </g>\n    </g>\n   </g>\n   <g id=\"matplotlib.axis_2\">\n    <g id=\"ytick_1\">\n     <g id=\"line2d_6\">\n      <defs>\n       <path d=\"M 0 0 \nL -3.5 0 \n\" id=\"m81338bed71\" style=\"stroke:#000000;stroke-width:0.8;\"/>\n      </defs>\n      <g>\n       <use style=\"stroke:#000000;stroke-width:0.8;\" x=\"39.65\" xlink:href=\"#m81338bed71\" y=\"201.715036\"/>\n      </g>\n     </g>\n     <g id=\"text_7\">\n      <!-- 400 -->\n      <g transform=\"translate(13.5625 205.514255)scale(0.1 -0.1)\">\n       <defs>\n        <path d=\"M 37.796875 64.3125 \nL 12.890625 25.390625 \nL 37.796875 25.390625 \nz\nM 35.203125 72.90625 \nL 47.609375 72.90625 \nL 47.609375 25.390625 \nL 58.015625 25.390625 \nL 58.015625 17.1875 \nL 47.609375 17.1875 \nL 47.609375 0 \nL 37.796875 0 \nL 37.796875 17.1875 \nL 4.890625 17.1875 \nL 4.890625 26.703125 \nz\n\" id=\"DejaVuSans-52\"/>\n       </defs>\n       <use xlink:href=\"#DejaVuSans-52\"/>\n       <use x=\"63.623047\" xlink:href=\"#DejaVuSans-48\"/>\n       <use x=\"127.246094\" xlink:href=\"#DejaVuSans-48\"/>\n      </g>\n     </g>\n    </g>\n    <g id=\"ytick_2\">\n     <g id=\"line2d_7\">\n      <g>\n       <use style=\"stroke:#000000;stroke-width:0.8;\" x=\"39.65\" xlink:href=\"#m81338bed71\" y=\"175.795673\"/>\n      </g>\n     </g>\n     <g id=\"text_8\">\n      <!-- 600 -->\n      <g transform=\"translate(13.5625 179.594892)scale(0.1 -0.1)\">\n       <defs>\n        <path d=\"M 33.015625 40.375 \nQ 26.375 40.375 22.484375 35.828125 \nQ 18.609375 31.296875 18.609375 23.390625 \nQ 18.609375 15.53125 22.484375 10.953125 \nQ 26.375 6.390625 33.015625 6.390625 \nQ 39.65625 6.390625 43.53125 10.953125 \nQ 47.40625 15.53125 47.40625 23.390625 \nQ 47.40625 31.296875 43.53125 35.828125 \nQ 39.65625 40.375 33.015625 40.375 \nz\nM 52.59375 71.296875 \nL 52.59375 62.3125 \nQ 48.875 64.0625 45.09375 64.984375 \nQ 41.3125 65.921875 37.59375 65.921875 \nQ 27.828125 65.921875 22.671875 59.328125 \nQ 17.53125 52.734375 16.796875 39.40625 \nQ 19.671875 43.65625 24.015625 45.921875 \nQ 28.375 48.1875 33.59375 48.1875 \nQ 44.578125 48.1875 50.953125 41.515625 \nQ 57.328125 34.859375 57.328125 23.390625 \nQ 57.328125 12.15625 50.6875 5.359375 \nQ 44.046875 -1.421875 33.015625 -1.421875 \nQ 20.359375 -1.421875 13.671875 8.265625 \nQ 6.984375 17.96875 6.984375 36.375 \nQ 6.984375 53.65625 15.1875 63.9375 \nQ 23.390625 74.21875 37.203125 74.21875 \nQ 40.921875 74.21875 44.703125 73.484375 \nQ 48.484375 72.75 52.59375 71.296875 \nz\n\" id=\"DejaVuSans-54\"/>\n       </defs>\n       <use xlink:href=\"#DejaVuSans-54\"/>\n       <use x=\"63.623047\" xlink:href=\"#DejaVuSans-48\"/>\n       <use x=\"127.246094\" xlink:href=\"#DejaVuSans-48\"/>\n      </g>\n     </g>\n    </g>\n    <g id=\"ytick_3\">\n     <g id=\"line2d_8\">\n      <g>\n       <use style=\"stroke:#000000;stroke-width:0.8;\" x=\"39.65\" xlink:href=\"#m81338bed71\" y=\"149.87631\"/>\n      </g>\n     </g>\n     <g id=\"text_9\">\n      <!-- 800 -->\n      <g transform=\"translate(13.5625 153.675528)scale(0.1 -0.1)\">\n       <use xlink:href=\"#DejaVuSans-56\"/>\n       <use x=\"63.623047\" xlink:href=\"#DejaVuSans-48\"/>\n       <use x=\"127.246094\" xlink:href=\"#DejaVuSans-48\"/>\n      </g>\n     </g>\n    </g>\n    <g id=\"ytick_4\">\n     <g id=\"line2d_9\">\n      <g>\n       <use style=\"stroke:#000000;stroke-width:0.8;\" x=\"39.65\" xlink:href=\"#m81338bed71\" y=\"123.956947\"/>\n      </g>\n     </g>\n     <g id=\"text_10\">\n      <!-- 1000 -->\n      <g transform=\"translate(7.2 127.756165)scale(0.1 -0.1)\">\n       <use xlink:href=\"#DejaVuSans-49\"/>\n       <use x=\"63.623047\" xlink:href=\"#DejaVuSans-48\"/>\n       <use x=\"127.246094\" xlink:href=\"#DejaVuSans-48\"/>\n       <use x=\"190.869141\" xlink:href=\"#DejaVuSans-48\"/>\n      </g>\n     </g>\n    </g>\n    <g id=\"ytick_5\">\n     <g id=\"line2d_10\">\n      <g>\n       <use style=\"stroke:#000000;stroke-width:0.8;\" x=\"39.65\" xlink:href=\"#m81338bed71\" y=\"98.037583\"/>\n      </g>\n     </g>\n     <g id=\"text_11\">\n      <!-- 1200 -->\n      <g transform=\"translate(7.2 101.836802)scale(0.1 -0.1)\">\n       <use xlink:href=\"#DejaVuSans-49\"/>\n       <use x=\"63.623047\" xlink:href=\"#DejaVuSans-50\"/>\n       <use x=\"127.246094\" xlink:href=\"#DejaVuSans-48\"/>\n       <use x=\"190.869141\" xlink:href=\"#DejaVuSans-48\"/>\n      </g>\n     </g>\n    </g>\n    <g id=\"ytick_6\">\n     <g id=\"line2d_11\">\n      <g>\n       <use style=\"stroke:#000000;stroke-width:0.8;\" x=\"39.65\" xlink:href=\"#m81338bed71\" y=\"72.11822\"/>\n      </g>\n     </g>\n     <g id=\"text_12\">\n      <!-- 1400 -->\n      <g transform=\"translate(7.2 75.917439)scale(0.1 -0.1)\">\n       <use xlink:href=\"#DejaVuSans-49\"/>\n       <use x=\"63.623047\" xlink:href=\"#DejaVuSans-52\"/>\n       <use x=\"127.246094\" xlink:href=\"#DejaVuSans-48\"/>\n       <use x=\"190.869141\" xlink:href=\"#DejaVuSans-48\"/>\n      </g>\n     </g>\n    </g>\n    <g id=\"ytick_7\">\n     <g id=\"line2d_12\">\n      <g>\n       <use style=\"stroke:#000000;stroke-width:0.8;\" x=\"39.65\" xlink:href=\"#m81338bed71\" y=\"46.198857\"/>\n      </g>\n     </g>\n     <g id=\"text_13\">\n      <!-- 1600 -->\n      <g transform=\"translate(7.2 49.998076)scale(0.1 -0.1)\">\n       <use xlink:href=\"#DejaVuSans-49\"/>\n       <use x=\"63.623047\" xlink:href=\"#DejaVuSans-54\"/>\n       <use x=\"127.246094\" xlink:href=\"#DejaVuSans-48\"/>\n       <use x=\"190.869141\" xlink:href=\"#DejaVuSans-48\"/>\n      </g>\n     </g>\n    </g>\n    <g id=\"ytick_8\">\n     <g id=\"line2d_13\">\n      <g>\n       <use style=\"stroke:#000000;stroke-width:0.8;\" x=\"39.65\" xlink:href=\"#m81338bed71\" y=\"20.279494\"/>\n      </g>\n     </g>\n     <g id=\"text_14\">\n      <!-- 1800 -->\n      <g transform=\"translate(7.2 24.078713)scale(0.1 -0.1)\">\n       <use xlink:href=\"#DejaVuSans-49\"/>\n       <use x=\"63.623047\" xlink:href=\"#DejaVuSans-56\"/>\n       <use x=\"127.246094\" xlink:href=\"#DejaVuSans-48\"/>\n       <use x=\"190.869141\" xlink:href=\"#DejaVuSans-48\"/>\n      </g>\n     </g>\n    </g>\n   </g>\n   <g id=\"line2d_14\">\n    <path clip-path=\"url(#p5f3322045f)\" d=\"M 54.868182 60.707221 \nL 61.946406 59.793563 \nL 69.02463 53.961706 \nL 76.102854 51.286828 \nL 83.181078 48.61195 \nL 90.259302 45.937071 \nL 97.337526 45.934048 \nL 104.415751 45.861581 \nL 111.493975 43.901429 \nL 118.572199 42.082862 \nL 125.650423 40.778794 \nL 132.728647 39.009366 \nL 139.806871 38.065901 \nL 146.885095 36.610421 \nL 153.963319 34.910866 \nL 161.041543 34.681156 \nL 168.119767 34.002717 \nL 175.197992 33.210772 \nL 182.276216 32.985598 \nL 189.35444 32.0606 \nL 196.432664 31.099856 \nL 203.510888 29.785744 \nL 210.589112 29.595669 \nL 217.667336 29.771057 \nL 224.74556 29.510567 \nL 231.823784 29.430865 \nL 238.902008 29.502467 \nL 245.980233 29.601177 \nL 253.058457 29.676559 \nL 260.136681 28.97058 \nL 267.214905 27.863068 \nL 274.293129 27.546203 \nL 281.371353 26.697884 \nL 288.449577 25.735196 \nL 295.527801 25.200177 \nL 302.606025 24.720993 \nL 309.684249 23.505267 \nL 316.762474 22.100761 \nL 323.840698 21.351368 \nL 330.918922 20.474429 \nL 337.997146 18.891512 \nL 345.07537 18.131751 \nL 352.153594 17.083636 \nL 359.231818 17.542409 \n\" style=\"fill:none;stroke:#1f77b4;stroke-linecap:square;stroke-width:1.5;\"/>\n   </g>\n   <g id=\"line2d_15\">\n    <path clip-path=\"url(#p5f3322045f)\" d=\"M 54.868182 210.336335 \nL 61.946406 210.105177 \nL 69.02463 209.941043 \nL 76.102854 209.711916 \nL 83.181078 209.482788 \nL 90.259302 209.253661 \nL 97.337526 209.252495 \nL 104.415751 209.068316 \nL 111.493975 208.911936 \nL 118.572199 208.696147 \nL 125.650423 208.415245 \nL 132.728647 208.259643 \nL 139.806871 208.068077 \nL 146.885095 207.846164 \nL 153.963319 207.654069 \nL 161.041543 207.557023 \nL 168.119767 207.370015 \nL 175.197992 207.106339 \nL 182.276216 206.91054 \nL 189.35444 206.736567 \nL 196.432664 206.412208 \nL 203.510888 206.160898 \nL 210.589112 205.994712 \nL 217.667336 205.797336 \nL 224.74556 205.520755 \nL 231.823784 205.227574 \nL 238.902008 204.984904 \nL 245.980233 204.727492 \nL 253.058457 204.47817 \nL 260.136681 204.234042 \nL 267.214905 203.958044 \nL 274.293129 203.755441 \nL 281.371353 203.519812 \nL 288.449577 203.278092 \nL 295.527801 203.014676 \nL 302.606025 202.644969 \nL 309.684249 202.38476 \nL 316.762474 202.064451 \nL 323.840698 201.654169 \nL 330.918922 201.399198 \nL 337.997146 201.078856 \nL 345.07537 200.76264 \nL 352.153594 200.460841 \nL 359.231818 200.342735 \n\" style=\"fill:none;stroke:#ff7f0e;stroke-linecap:square;stroke-width:1.5;\"/>\n   </g>\n   <g id=\"line2d_16\">\n    <path clip-path=\"url(#p5f3322045f)\" d=\"M 54.868182 214.756364 \nL 61.946406 214.607975 \nL 69.02463 214.459587 \nL 76.102854 214.402564 \nL 83.181078 214.345542 \nL 90.259302 214.288519 \nL 97.337526 214.288519 \nL 104.415751 214.192617 \nL 111.493975 214.096716 \nL 118.572199 214.009238 \nL 125.650423 213.942496 \nL 132.728647 213.731901 \nL 139.806871 213.650125 \nL 146.885095 213.551113 \nL 153.963319 213.47023 \nL 161.041543 213.475267 \nL 168.119767 213.389776 \nL 175.197992 213.318368 \nL 182.276216 213.232024 \nL 189.35444 213.099047 \nL 196.432664 212.987259 \nL 203.510888 212.865848 \nL 210.589112 212.756501 \nL 217.667336 212.687869 \nL 224.74556 212.596514 \nL 231.823784 212.530636 \nL 238.902008 212.42604 \nL 245.980233 212.335614 \nL 253.058457 212.231904 \nL 260.136681 212.147526 \nL 267.214905 211.985044 \nL 274.293129 211.899132 \nL 281.371353 211.768801 \nL 288.449577 211.660987 \nL 295.527801 211.526336 \nL 302.606025 211.423501 \nL 309.684249 211.307414 \nL 316.762474 211.161208 \nL 323.840698 211.07468 \nL 330.918922 210.959976 \nL 337.997146 210.756984 \nL 345.07537 210.692391 \nL 352.153594 210.571067 \nL 359.231818 210.448825 \n\" style=\"fill:none;stroke:#2ca02c;stroke-linecap:square;stroke-width:1.5;\"/>\n   </g>\n   <g id=\"patch_3\">\n    <path d=\"M 39.65 224.64 \nL 39.65 7.2 \n\" style=\"fill:none;stroke:#000000;stroke-linecap:square;stroke-linejoin:miter;stroke-width:0.8;\"/>\n   </g>\n   <g id=\"patch_4\">\n    <path d=\"M 374.45 224.64 \nL 374.45 7.2 \n\" style=\"fill:none;stroke:#000000;stroke-linecap:square;stroke-linejoin:miter;stroke-width:0.8;\"/>\n   </g>\n   <g id=\"patch_5\">\n    <path d=\"M 39.65 224.64 \nL 374.45 224.64 \n\" style=\"fill:none;stroke:#000000;stroke-linecap:square;stroke-linejoin:miter;stroke-width:0.8;\"/>\n   </g>\n   <g id=\"patch_6\">\n    <path d=\"M 39.65 7.2 \nL 374.45 7.2 \n\" style=\"fill:none;stroke:#000000;stroke-linecap:square;stroke-linejoin:miter;stroke-width:0.8;\"/>\n   </g>\n   <g id=\"legend_1\">\n    <g id=\"patch_7\">\n     <path d=\"M 283.992188 139.437187 \nL 367.45 139.437187 \nQ 369.45 139.437187 369.45 137.437187 \nL 369.45 94.402812 \nQ 369.45 92.402812 367.45 92.402812 \nL 283.992188 92.402812 \nQ 281.992188 92.402812 281.992188 94.402812 \nL 281.992188 137.437187 \nQ 281.992188 139.437187 283.992188 139.437187 \nz\n\" style=\"fill:#ffffff;opacity:0.8;stroke:#cccccc;stroke-linejoin:miter;\"/>\n    </g>\n    <g id=\"line2d_17\">\n     <path d=\"M 285.992188 100.50125 \nL 305.992188 100.50125 \n\" style=\"fill:none;stroke:#1f77b4;stroke-linecap:square;stroke-width:1.5;\"/>\n    </g>\n    <g id=\"line2d_18\"/>\n    <g id=\"text_15\">\n     <!-- CH4(ppb) -->\n     <g transform=\"translate(313.992188 104.00125)scale(0.1 -0.1)\">\n      <defs>\n       <path d=\"M 64.40625 67.28125 \nL 64.40625 56.890625 \nQ 59.421875 61.53125 53.78125 63.8125 \nQ 48.140625 66.109375 41.796875 66.109375 \nQ 29.296875 66.109375 22.65625 58.46875 \nQ 16.015625 50.828125 16.015625 36.375 \nQ 16.015625 21.96875 22.65625 14.328125 \nQ 29.296875 6.6875 41.796875 6.6875 \nQ 48.140625 6.6875 53.78125 8.984375 \nQ 59.421875 11.28125 64.40625 15.921875 \nL 64.40625 5.609375 \nQ 59.234375 2.09375 53.4375 0.328125 \nQ 47.65625 -1.421875 41.21875 -1.421875 \nQ 24.65625 -1.421875 15.125 8.703125 \nQ 5.609375 18.84375 5.609375 36.375 \nQ 5.609375 53.953125 15.125 64.078125 \nQ 24.65625 74.21875 41.21875 74.21875 \nQ 47.75 74.21875 53.53125 72.484375 \nQ 59.328125 70.75 64.40625 67.28125 \nz\n\" id=\"DejaVuSans-67\"/>\n       <path d=\"M 9.8125 72.90625 \nL 19.671875 72.90625 \nL 19.671875 43.015625 \nL 55.515625 43.015625 \nL 55.515625 72.90625 \nL 65.375 72.90625 \nL 65.375 0 \nL 55.515625 0 \nL 55.515625 34.71875 \nL 19.671875 34.71875 \nL 19.671875 0 \nL 9.8125 0 \nz\n\" id=\"DejaVuSans-72\"/>\n       <path d=\"M 31 75.875 \nQ 24.46875 64.65625 21.28125 53.65625 \nQ 18.109375 42.671875 18.109375 31.390625 \nQ 18.109375 20.125 21.3125 9.0625 \nQ 24.515625 -2 31 -13.1875 \nL 23.1875 -13.1875 \nQ 15.875 -1.703125 12.234375 9.375 \nQ 8.59375 20.453125 8.59375 31.390625 \nQ 8.59375 42.28125 12.203125 53.3125 \nQ 15.828125 64.359375 23.1875 75.875 \nz\n\" id=\"DejaVuSans-40\"/>\n       <path d=\"M 18.109375 8.203125 \nL 18.109375 -20.796875 \nL 9.078125 -20.796875 \nL 9.078125 54.6875 \nL 18.109375 54.6875 \nL 18.109375 46.390625 \nQ 20.953125 51.265625 25.265625 53.625 \nQ 29.59375 56 35.59375 56 \nQ 45.5625 56 51.78125 48.09375 \nQ 58.015625 40.1875 58.015625 27.296875 \nQ 58.015625 14.40625 51.78125 6.484375 \nQ 45.5625 -1.421875 35.59375 -1.421875 \nQ 29.59375 -1.421875 25.265625 0.953125 \nQ 20.953125 3.328125 18.109375 8.203125 \nz\nM 48.6875 27.296875 \nQ 48.6875 37.203125 44.609375 42.84375 \nQ 40.53125 48.484375 33.40625 48.484375 \nQ 26.265625 48.484375 22.1875 42.84375 \nQ 18.109375 37.203125 18.109375 27.296875 \nQ 18.109375 17.390625 22.1875 11.75 \nQ 26.265625 6.109375 33.40625 6.109375 \nQ 40.53125 6.109375 44.609375 11.75 \nQ 48.6875 17.390625 48.6875 27.296875 \nz\n\" id=\"DejaVuSans-112\"/>\n       <path d=\"M 48.6875 27.296875 \nQ 48.6875 37.203125 44.609375 42.84375 \nQ 40.53125 48.484375 33.40625 48.484375 \nQ 26.265625 48.484375 22.1875 42.84375 \nQ 18.109375 37.203125 18.109375 27.296875 \nQ 18.109375 17.390625 22.1875 11.75 \nQ 26.265625 6.109375 33.40625 6.109375 \nQ 40.53125 6.109375 44.609375 11.75 \nQ 48.6875 17.390625 48.6875 27.296875 \nz\nM 18.109375 46.390625 \nQ 20.953125 51.265625 25.265625 53.625 \nQ 29.59375 56 35.59375 56 \nQ 45.5625 56 51.78125 48.09375 \nQ 58.015625 40.1875 58.015625 27.296875 \nQ 58.015625 14.40625 51.78125 6.484375 \nQ 45.5625 -1.421875 35.59375 -1.421875 \nQ 29.59375 -1.421875 25.265625 0.953125 \nQ 20.953125 3.328125 18.109375 8.203125 \nL 18.109375 0 \nL 9.078125 0 \nL 9.078125 75.984375 \nL 18.109375 75.984375 \nz\n\" id=\"DejaVuSans-98\"/>\n       <path d=\"M 8.015625 75.875 \nL 15.828125 75.875 \nQ 23.140625 64.359375 26.78125 53.3125 \nQ 30.421875 42.28125 30.421875 31.390625 \nQ 30.421875 20.453125 26.78125 9.375 \nQ 23.140625 -1.703125 15.828125 -13.1875 \nL 8.015625 -13.1875 \nQ 14.5 -2 17.703125 9.0625 \nQ 20.90625 20.125 20.90625 31.390625 \nQ 20.90625 42.671875 17.703125 53.65625 \nQ 14.5 64.65625 8.015625 75.875 \nz\n\" id=\"DejaVuSans-41\"/>\n      </defs>\n      <use xlink:href=\"#DejaVuSans-67\"/>\n      <use x=\"69.824219\" xlink:href=\"#DejaVuSans-72\"/>\n      <use x=\"145.019531\" xlink:href=\"#DejaVuSans-52\"/>\n      <use x=\"208.642578\" xlink:href=\"#DejaVuSans-40\"/>\n      <use x=\"247.65625\" xlink:href=\"#DejaVuSans-112\"/>\n      <use x=\"311.132812\" xlink:href=\"#DejaVuSans-112\"/>\n      <use x=\"374.609375\" xlink:href=\"#DejaVuSans-98\"/>\n      <use x=\"438.085938\" xlink:href=\"#DejaVuSans-41\"/>\n     </g>\n    </g>\n    <g id=\"line2d_19\">\n     <path d=\"M 285.992188 115.179375 \nL 305.992188 115.179375 \n\" style=\"fill:none;stroke:#ff7f0e;stroke-linecap:square;stroke-width:1.5;\"/>\n    </g>\n    <g id=\"line2d_20\"/>\n    <g id=\"text_16\">\n     <!-- CO2(ppm) -->\n     <g transform=\"translate(313.992188 118.679375)scale(0.1 -0.1)\">\n      <defs>\n       <path d=\"M 39.40625 66.21875 \nQ 28.65625 66.21875 22.328125 58.203125 \nQ 16.015625 50.203125 16.015625 36.375 \nQ 16.015625 22.609375 22.328125 14.59375 \nQ 28.65625 6.59375 39.40625 6.59375 \nQ 50.140625 6.59375 56.421875 14.59375 \nQ 62.703125 22.609375 62.703125 36.375 \nQ 62.703125 50.203125 56.421875 58.203125 \nQ 50.140625 66.21875 39.40625 66.21875 \nz\nM 39.40625 74.21875 \nQ 54.734375 74.21875 63.90625 63.9375 \nQ 73.09375 53.65625 73.09375 36.375 \nQ 73.09375 19.140625 63.90625 8.859375 \nQ 54.734375 -1.421875 39.40625 -1.421875 \nQ 24.03125 -1.421875 14.8125 8.828125 \nQ 5.609375 19.09375 5.609375 36.375 \nQ 5.609375 53.65625 14.8125 63.9375 \nQ 24.03125 74.21875 39.40625 74.21875 \nz\n\" id=\"DejaVuSans-79\"/>\n       <path d=\"M 52 44.1875 \nQ 55.375 50.25 60.0625 53.125 \nQ 64.75 56 71.09375 56 \nQ 79.640625 56 84.28125 50.015625 \nQ 88.921875 44.046875 88.921875 33.015625 \nL 88.921875 0 \nL 79.890625 0 \nL 79.890625 32.71875 \nQ 79.890625 40.578125 77.09375 44.375 \nQ 74.3125 48.1875 68.609375 48.1875 \nQ 61.625 48.1875 57.5625 43.546875 \nQ 53.515625 38.921875 53.515625 30.90625 \nL 53.515625 0 \nL 44.484375 0 \nL 44.484375 32.71875 \nQ 44.484375 40.625 41.703125 44.40625 \nQ 38.921875 48.1875 33.109375 48.1875 \nQ 26.21875 48.1875 22.15625 43.53125 \nQ 18.109375 38.875 18.109375 30.90625 \nL 18.109375 0 \nL 9.078125 0 \nL 9.078125 54.6875 \nL 18.109375 54.6875 \nL 18.109375 46.1875 \nQ 21.1875 51.21875 25.484375 53.609375 \nQ 29.78125 56 35.6875 56 \nQ 41.65625 56 45.828125 52.96875 \nQ 50 49.953125 52 44.1875 \nz\n\" id=\"DejaVuSans-109\"/>\n      </defs>\n      <use xlink:href=\"#DejaVuSans-67\"/>\n      <use x=\"69.824219\" xlink:href=\"#DejaVuSans-79\"/>\n      <use x=\"148.535156\" xlink:href=\"#DejaVuSans-50\"/>\n      <use x=\"212.158203\" xlink:href=\"#DejaVuSans-40\"/>\n      <use x=\"251.171875\" xlink:href=\"#DejaVuSans-112\"/>\n      <use x=\"314.648438\" xlink:href=\"#DejaVuSans-112\"/>\n      <use x=\"378.125\" xlink:href=\"#DejaVuSans-109\"/>\n      <use x=\"475.537109\" xlink:href=\"#DejaVuSans-41\"/>\n     </g>\n    </g>\n    <g id=\"line2d_21\">\n     <path d=\"M 285.992188 129.8575 \nL 305.992188 129.8575 \n\" style=\"fill:none;stroke:#2ca02c;stroke-linecap:square;stroke-width:1.5;\"/>\n    </g>\n    <g id=\"line2d_22\"/>\n    <g id=\"text_17\">\n     <!-- N2O(ppb) -->\n     <g transform=\"translate(313.992188 133.3575)scale(0.1 -0.1)\">\n      <defs>\n       <path d=\"M 9.8125 72.90625 \nL 23.09375 72.90625 \nL 55.421875 11.921875 \nL 55.421875 72.90625 \nL 64.984375 72.90625 \nL 64.984375 0 \nL 51.703125 0 \nL 19.390625 60.984375 \nL 19.390625 0 \nL 9.8125 0 \nz\n\" id=\"DejaVuSans-78\"/>\n      </defs>\n      <use xlink:href=\"#DejaVuSans-78\"/>\n      <use x=\"74.804688\" xlink:href=\"#DejaVuSans-50\"/>\n      <use x=\"138.427734\" xlink:href=\"#DejaVuSans-79\"/>\n      <use x=\"217.138672\" xlink:href=\"#DejaVuSans-40\"/>\n      <use x=\"256.152344\" xlink:href=\"#DejaVuSans-112\"/>\n      <use x=\"319.628906\" xlink:href=\"#DejaVuSans-112\"/>\n      <use x=\"383.105469\" xlink:href=\"#DejaVuSans-98\"/>\n      <use x=\"446.582031\" xlink:href=\"#DejaVuSans-41\"/>\n     </g>\n    </g>\n   </g>\n  </g>\n </g>\n <defs>\n  <clipPath id=\"p5f3322045f\">\n   <rect height=\"217.44\" width=\"334.8\" x=\"39.65\" y=\"7.2\"/>\n  </clipPath>\n </defs>\n</svg>\n",
      "image/png": "[encoded data removed]"
     },
     "metadata": {
      "needs_background": "light"
     }
    }
   ],
   "source": [
    "df = df[['Year','CH4(ppb)','CO2(ppm)','N2O(ppb)']]\n",
    "df.set_index('Year',inplace=True)\n",
    "df.plot()"
   ]
  },
  {
   "cell_type": "code",
   "execution_count": 318,
   "metadata": {
    "tags": []
   },
   "outputs": [
    {
     "output_type": "stream",
     "name": "stdout",
     "text": "CH4(ppb)\nBest ARIMA(0, 2, 1) RMSE=4.522\nCO2(ppm)\nBest ARIMA(2, 2, 0) RMSE=0.551\nN2O(ppb)\nBest ARIMA(10, 0, 2) RMSE=0.268\n"
    }
   ],
   "source": [
    "# grid search ARIMA parameters for time series\n",
    "import warnings\n",
    "from math import sqrt\n",
    "from pandas import read_csv\n",
    "from pandas import datetime\n",
    "from statsmodels.tsa.arima.model import ARIMA\n",
    "from sklearn.metrics import mean_squared_error\n",
    " \n",
    "# evaluate an ARIMA model for a given order (p,d,q)\n",
    "def evaluate_arima_model(X, arima_order):\n",
    "\t# prepare training dataset\n",
    "\ttrain_size = int(len(X) * 0.66)\n",
    "\ttrain, test = X[0:train_size], X[train_size:]\n",
    "\thistory = [x for x in train]\n",
    "\t# make predictions\n",
    "\tpredictions = list()\n",
    "\tfor t in range(len(test)):\n",
    "\t\tmodel = ARIMA(history, order=arima_order)\n",
    "\t\tmodel_fit = model.fit()\n",
    "\t\tyhat = model_fit.forecast()[0]\n",
    "\t\tpredictions.append(yhat)\n",
    "\t\thistory.append(test[t])\n",
    "\t# calculate out of sample error\n",
    "\trmse = sqrt(mean_squared_error(test, predictions))\n",
    "\treturn rmse\n",
    " \n",
    "# evaluate combinations of p, d and q values for an ARIMA model\n",
    "def evaluate_models(dataset, p_values, d_values, q_values):\n",
    "\tdataset = dataset.astype('float32')\n",
    "\tbest_score, best_cfg = float(\"inf\"), None\n",
    "\tfor p in p_values:\n",
    "\t\tfor d in d_values:\n",
    "\t\t\tfor q in q_values:\n",
    "\t\t\t\torder = (p,d,q)\n",
    "\t\t\t\ttry:\n",
    "\t\t\t\t\trmse = evaluate_arima_model(dataset, order)\n",
    "\t\t\t\t\tif rmse < best_score:\n",
    "\t\t\t\t\t\tbest_score, best_cfg = rmse, order\n",
    "\t\t\t\texcept:\n",
    "\t\t\t\t\tcontinue\n",
    "\tprint('Best ARIMA%s RMSE=%.3f' % (best_cfg, best_score))\n",
    " \n",
    "# evaluate parameters\n",
    "p_values = [0, 1, 2, 4, 6, 8, 10]\n",
    "d_values = range(0, 3)\n",
    "q_values = range(0, 3)\n",
    "warnings.filterwarnings(\"ignore\")\n",
    "for c in ['CH4(ppb)','CO2(ppm)','N2O(ppb)']:\n",
    "    series = df[c]\n",
    "    print(c)\n",
    "    evaluate_models(series.values, p_values, d_values, q_values)"
   ]
  },
  {
   "cell_type": "code",
   "execution_count": 326,
   "metadata": {},
   "outputs": [
    {
     "output_type": "execute_result",
     "data": {
      "text/plain": "    Year     CH4(ppb)    CO2(ppm)    N2O(ppb)\n45  2022  1830.371049  414.290678  333.808196\n46  2023  1834.996573  415.738439  334.695951\n47  2024  1839.622098  417.409906  335.403317\n48  2025  1844.247622  419.150056  336.114695\n49  2026  1848.873147  420.750422  336.968081",
      "text/html": "<div>\n<style scoped>\n    .dataframe tbody tr th:only-of-type {\n        vertical-align: middle;\n    }\n\n    .dataframe tbody tr th {\n        vertical-align: top;\n    }\n\n    .dataframe thead th {\n        text-align: right;\n    }\n</style>\n<table border=\"1\" class=\"dataframe\">\n  <thead>\n    <tr style=\"text-align: right;\">\n      <th></th>\n      <th>Year</th>\n      <th>CH4(ppb)</th>\n      <th>CO2(ppm)</th>\n      <th>N2O(ppb)</th>\n    </tr>\n  </thead>\n  <tbody>\n    <tr>\n      <th>45</th>\n      <td>2022</td>\n      <td>1830.371049</td>\n      <td>414.290678</td>\n      <td>333.808196</td>\n    </tr>\n    <tr>\n      <th>46</th>\n      <td>2023</td>\n      <td>1834.996573</td>\n      <td>415.738439</td>\n      <td>334.695951</td>\n    </tr>\n    <tr>\n      <th>47</th>\n      <td>2024</td>\n      <td>1839.622098</td>\n      <td>417.409906</td>\n      <td>335.403317</td>\n    </tr>\n    <tr>\n      <th>48</th>\n      <td>2025</td>\n      <td>1844.247622</td>\n      <td>419.150056</td>\n      <td>336.114695</td>\n    </tr>\n    <tr>\n      <th>49</th>\n      <td>2026</td>\n      <td>1848.873147</td>\n      <td>420.750422</td>\n      <td>336.968081</td>\n    </tr>\n  </tbody>\n</table>\n</div>"
     },
     "metadata": {},
     "execution_count": 326
    }
   ],
   "source": [
    "#Best ARIMA(0, 2, 1) RMSE=4.522 for df['CH4(ppb)']\n",
    "#Best ARIMA(2, 2, 0) RMSE=0.551 for df['CO2(ppm)']\n",
    "#Best ARIMA(10, 0, 2) RMSE=0.268 for df['N2O(ppb)']\n",
    "model_df = pd.DataFrame(df['CO2(ppm)'].astype(float))\n",
    "model = ARIMA(model_df, order=(2, 2, 0))\n",
    "model_fit = model.fit()\n",
    "start = len(df['CO2(ppm)'])+1\n",
    "end = start+78\n",
    "pred = model_fit.predict(start=start,end=end)\n",
    "\n",
    "model_df2 = pd.DataFrame(df['CH4(ppb)'].astype(float))\n",
    "model2 = ARIMA(model_df2, order=(0, 2, 1))\n",
    "model_fit2 = model2.fit()\n",
    "start2 = len(df['CH4(ppb)'])+1\n",
    "end2 = start2+78\n",
    "pred2 = model_fit2.predict(start=start2,end=end2)\n",
    "\n",
    "model_df3 = pd.DataFrame(df['N2O(ppb)'].astype(float))\n",
    "model3 = ARIMA(model_df3, order=(10, 0, 2))\n",
    "model_fit3 = model3.fit()\n",
    "start3 = len(df['N2O(ppb)'])+1\n",
    "end3 = start3+78\n",
    "pred3 = model_fit3.predict(start=start3,end=end3)\n",
    "pred_df = pd.DataFrame({\"Year\":np.arange(2022,2101),\"CH4(ppb)\":pred2,\n",
    "    \"CO2(ppm)\":pred,\"N2O(ppb)\":pred3})\n",
    "pred_df.head()"
   ]
  },
  {
   "cell_type": "code",
   "execution_count": 329,
   "metadata": {
    "tags": []
   },
   "outputs": [
    {
     "output_type": "execute_result",
     "data": {
      "text/plain": "   Year CH4(ppb) CO2(ppm) N2O(ppb)\n0  1978  1488.05  333.476   299.37\n1  1979   1495.1   335.26  300.515\n2  1980   1540.1  336.526   301.66\n3  1981  1560.74  338.294    302.1\n4  1982  1581.38  340.062   302.54",
      "text/html": "<div>\n<style scoped>\n    .dataframe tbody tr th:only-of-type {\n        vertical-align: middle;\n    }\n\n    .dataframe tbody tr th {\n        vertical-align: top;\n    }\n\n    .dataframe thead th {\n        text-align: right;\n    }\n</style>\n<table border=\"1\" class=\"dataframe\">\n  <thead>\n    <tr style=\"text-align: right;\">\n      <th></th>\n      <th>Year</th>\n      <th>CH4(ppb)</th>\n      <th>CO2(ppm)</th>\n      <th>N2O(ppb)</th>\n    </tr>\n  </thead>\n  <tbody>\n    <tr>\n      <th>0</th>\n      <td>1978</td>\n      <td>1488.05</td>\n      <td>333.476</td>\n      <td>299.37</td>\n    </tr>\n    <tr>\n      <th>1</th>\n      <td>1979</td>\n      <td>1495.1</td>\n      <td>335.26</td>\n      <td>300.515</td>\n    </tr>\n    <tr>\n      <th>2</th>\n      <td>1980</td>\n      <td>1540.1</td>\n      <td>336.526</td>\n      <td>301.66</td>\n    </tr>\n    <tr>\n      <th>3</th>\n      <td>1981</td>\n      <td>1560.74</td>\n      <td>338.294</td>\n      <td>302.1</td>\n    </tr>\n    <tr>\n      <th>4</th>\n      <td>1982</td>\n      <td>1581.38</td>\n      <td>340.062</td>\n      <td>302.54</td>\n    </tr>\n  </tbody>\n</table>\n</div>"
     },
     "metadata": {},
     "execution_count": 329
    }
   ],
   "source": [
    "df.reset_index(inplace=True)\n",
    "pred_df2 = pd.concat([df,pred_df])\n",
    "pred_df2.head()"
   ]
  },
  {
   "cell_type": "code",
   "execution_count": 330,
   "metadata": {},
   "outputs": [
    {
     "output_type": "execute_result",
     "data": {
      "text/plain": "   Year CH4(ppb) CO2(ppm) N2O(ppb)  avg_temp  max_temp  min_temp  \\\n0  1978  1488.05  333.476   299.37     -0.31     -0.50     -0.12   \n1  1979   1495.1   335.26  300.515      0.37      0.44      0.30   \n2  1980   1540.1  336.526   301.66      0.74      0.93      0.54   \n3  1981  1560.74  338.294    302.1      0.27      0.18      0.36   \n4  1982  1581.38  340.062   302.54     -0.04      0.21     -0.29   \n\n   rainfall_anom  \n0          51.35  \n1         -14.23  \n2         -36.28  \n3          61.31  \n4         -50.90  ",
      "text/html": "<div>\n<style scoped>\n    .dataframe tbody tr th:only-of-type {\n        vertical-align: middle;\n    }\n\n    .dataframe tbody tr th {\n        vertical-align: top;\n    }\n\n    .dataframe thead th {\n        text-align: right;\n    }\n</style>\n<table border=\"1\" class=\"dataframe\">\n  <thead>\n    <tr style=\"text-align: right;\">\n      <th></th>\n      <th>Year</th>\n      <th>CH4(ppb)</th>\n      <th>CO2(ppm)</th>\n      <th>N2O(ppb)</th>\n      <th>avg_temp</th>\n      <th>max_temp</th>\n      <th>min_temp</th>\n      <th>rainfall_anom</th>\n    </tr>\n  </thead>\n  <tbody>\n    <tr>\n      <th>0</th>\n      <td>1978</td>\n      <td>1488.05</td>\n      <td>333.476</td>\n      <td>299.37</td>\n      <td>-0.31</td>\n      <td>-0.50</td>\n      <td>-0.12</td>\n      <td>51.35</td>\n    </tr>\n    <tr>\n      <th>1</th>\n      <td>1979</td>\n      <td>1495.1</td>\n      <td>335.26</td>\n      <td>300.515</td>\n      <td>0.37</td>\n      <td>0.44</td>\n      <td>0.30</td>\n      <td>-14.23</td>\n    </tr>\n    <tr>\n      <th>2</th>\n      <td>1980</td>\n      <td>1540.1</td>\n      <td>336.526</td>\n      <td>301.66</td>\n      <td>0.74</td>\n      <td>0.93</td>\n      <td>0.54</td>\n      <td>-36.28</td>\n    </tr>\n    <tr>\n      <th>3</th>\n      <td>1981</td>\n      <td>1560.74</td>\n      <td>338.294</td>\n      <td>302.1</td>\n      <td>0.27</td>\n      <td>0.18</td>\n      <td>0.36</td>\n      <td>61.31</td>\n    </tr>\n    <tr>\n      <th>4</th>\n      <td>1982</td>\n      <td>1581.38</td>\n      <td>340.062</td>\n      <td>302.54</td>\n      <td>-0.04</td>\n      <td>0.21</td>\n      <td>-0.29</td>\n      <td>-50.90</td>\n    </tr>\n  </tbody>\n</table>\n</div>"
     },
     "metadata": {},
     "execution_count": 330
    }
   ],
   "source": [
    "final_df2 = final_df[['Year','avg_temp','max_temp','min_temp','rainfall_anom']]\n",
    "f_df = pred_df2.merge(final_df2,on='Year',how='left')\n",
    "f_df.head()"
   ]
  },
  {
   "cell_type": "markdown",
   "metadata": {},
   "source": [
    "## [Lineair regression for avg temp, max & min temp and rainfall anom]"
   ]
  },
  {
   "cell_type": "code",
   "execution_count": 332,
   "metadata": {
    "tags": []
   },
   "outputs": [
    {
     "output_type": "stream",
     "name": "stdout",
     "text": "avg_temp\nBest ARIMA(1, 2, 2) RMSE=0.396\nmax_temp\nBest ARIMA(1, 2, 2) RMSE=0.533\nmin_temp\nBest ARIMA(0, 2, 2) RMSE=0.358\nrainfall_anom\nBest ARIMA(1, 0, 2) RMSE=92.857\n"
    }
   ],
   "source": [
    "m_df = f_df.dropna()\n",
    "m_df.set_index('Year',inplace=True)\n",
    "p_values = [0, 1, 2, 4, 6, 8, 10]\n",
    "d_values = range(0, 3)\n",
    "q_values = range(0, 3)\n",
    "warnings.filterwarnings(\"ignore\")\n",
    "for c in ['avg_temp','max_temp','min_temp','rainfall_anom']:\n",
    "    series = m_df[c]\n",
    "    print(c)\n",
    "    evaluate_models(series.values, p_values, d_values, q_values)\n",
    "# columns = ['avg_temp','max_temp','min_temp']\n",
    "# X = m_df[['CH4(ppb)','CO2(ppm)','N2O(ppb)']]\n",
    "# pred_dic = {'avg_temp':[],'max_temp':[],'min_temp':[]}\n",
    "# to_predict = f_df[f_df['Year']>2020][['CH4(ppb)','CO2(ppm)','N2O(ppb)']]\n",
    "# for col in columns:\n",
    "#     y = m_df[col].to_numpy().reshape(-1,1)\n",
    "#     X_train,X_test,y_train,y_test = train_test_split(X,y)\n",
    "#     model = LinearRegression()\n",
    "#     model.fit(X_train,y_train)\n",
    "#     pred = model.predict(X_test)\n",
    "#     pred_dic[col] = (model.predict(to_predict)).ravel()\n",
    "#     print('#'*10)\n",
    "#     print(col)\n",
    "#     print(model.score(X_train,y_train))\n",
    "#     print(model.score(X_test,y_test))\n",
    "#     print('Mean Absolute Error:', mean_absolute_error(y_test, pred))\n",
    "#     print('Mean Squared Error:', mean_squared_error(y_test, pred))\n",
    "#     print('Root Mean Squared Error:', np.sqrt(mean_squared_error(y_test, pred)))"
   ]
  },
  {
   "cell_type": "code",
   "execution_count": 339,
   "metadata": {},
   "outputs": [],
   "source": [
    "import pandas as pd\n",
    "import numpy as np\n",
    "import warnings\n",
    "import matplotlib.pyplot as plt\n",
    "\n",
    "warnings.simplefilter('ignore')\n",
    "\n",
    "# Common code for display result\n",
    "def show_graph(df1,df2,title):\n",
    "    data = pd.concat([df1, df2])\n",
    "    data.reset_index(inplace=True, drop=True)\n",
    "    for col in data.columns:\n",
    "        if col.lower().startswith('pred'):\n",
    "            data[col].plot(label=col,linestyle=\"dotted\")\n",
    "        else:\n",
    "            data[col].plot(label=col)\n",
    "    plt.title(title)\n",
    "    plt.legend()\n",
    "    plt.show()"
   ]
  },
  {
   "cell_type": "code",
   "execution_count": 340,
   "metadata": {},
   "outputs": [
    {
     "output_type": "error",
     "ename": "AttributeError",
     "evalue": "'int' object has no attribute 'lower'",
     "traceback": [
      "\u001b[0;31m---------------------------------------------------------------------------\u001b[0m",
      "\u001b[0;31mAttributeError\u001b[0m                            Traceback (most recent call last)",
      "\u001b[0;32m<ipython-input-340-ba4a213037eb>\u001b[0m in \u001b[0;36m<module>\u001b[0;34m()\u001b[0m\n\u001b[1;32m     16\u001b[0m     \u001b[0mhistory\u001b[0m \u001b[0;34m=\u001b[0m \u001b[0;34m[\u001b[0m\u001b[0mx\u001b[0m \u001b[0;32mfor\u001b[0m \u001b[0mx\u001b[0m \u001b[0;32min\u001b[0m \u001b[0mtrain\u001b[0m\u001b[0;34m]\u001b[0m\u001b[0;34m\u001b[0m\u001b[0;34m\u001b[0m\u001b[0m\n\u001b[1;32m     17\u001b[0m     \u001b[0mdf_ret\u001b[0m \u001b[0;34m=\u001b[0m \u001b[0mAR_model\u001b[0m\u001b[0;34m(\u001b[0m\u001b[0mtrain\u001b[0m\u001b[0;34m,\u001b[0m \u001b[0mtest\u001b[0m\u001b[0;34m,\u001b[0m\u001b[0mc\u001b[0m\u001b[0;34m)\u001b[0m\u001b[0;34m\u001b[0m\u001b[0;34m\u001b[0m\u001b[0m\n\u001b[0;32m---> 18\u001b[0;31m     \u001b[0mshow_graph\u001b[0m\u001b[0;34m(\u001b[0m\u001b[0mtrain\u001b[0m\u001b[0;34m,\u001b[0m \u001b[0mdf_ret\u001b[0m\u001b[0;34m,\u001b[0m \u001b[0;34m\"Autoregression (AR)\"\u001b[0m\u001b[0;34m)\u001b[0m\u001b[0;34m\u001b[0m\u001b[0;34m\u001b[0m\u001b[0m\n\u001b[0m",
      "\u001b[0;32m<ipython-input-339-78e91af6c944>\u001b[0m in \u001b[0;36mshow_graph\u001b[0;34m(df1, df2, title)\u001b[0m\n\u001b[1;32m     11\u001b[0m     \u001b[0mdata\u001b[0m\u001b[0;34m.\u001b[0m\u001b[0mreset_index\u001b[0m\u001b[0;34m(\u001b[0m\u001b[0minplace\u001b[0m\u001b[0;34m=\u001b[0m\u001b[0;32mTrue\u001b[0m\u001b[0;34m,\u001b[0m \u001b[0mdrop\u001b[0m\u001b[0;34m=\u001b[0m\u001b[0;32mTrue\u001b[0m\u001b[0;34m)\u001b[0m\u001b[0;34m\u001b[0m\u001b[0;34m\u001b[0m\u001b[0m\n\u001b[1;32m     12\u001b[0m     \u001b[0;32mfor\u001b[0m \u001b[0mcol\u001b[0m \u001b[0;32min\u001b[0m \u001b[0mdata\u001b[0m\u001b[0;34m.\u001b[0m\u001b[0mcolumns\u001b[0m\u001b[0;34m:\u001b[0m\u001b[0;34m\u001b[0m\u001b[0;34m\u001b[0m\u001b[0m\n\u001b[0;32m---> 13\u001b[0;31m         \u001b[0;32mif\u001b[0m \u001b[0mcol\u001b[0m\u001b[0;34m.\u001b[0m\u001b[0mlower\u001b[0m\u001b[0;34m(\u001b[0m\u001b[0;34m)\u001b[0m\u001b[0;34m.\u001b[0m\u001b[0mstartswith\u001b[0m\u001b[0;34m(\u001b[0m\u001b[0;34m'pred'\u001b[0m\u001b[0;34m)\u001b[0m\u001b[0;34m:\u001b[0m\u001b[0;34m\u001b[0m\u001b[0;34m\u001b[0m\u001b[0m\n\u001b[0m\u001b[1;32m     14\u001b[0m             \u001b[0mdata\u001b[0m\u001b[0;34m[\u001b[0m\u001b[0mcol\u001b[0m\u001b[0;34m]\u001b[0m\u001b[0;34m.\u001b[0m\u001b[0mplot\u001b[0m\u001b[0;34m(\u001b[0m\u001b[0mlabel\u001b[0m\u001b[0;34m=\u001b[0m\u001b[0mcol\u001b[0m\u001b[0;34m,\u001b[0m\u001b[0mlinestyle\u001b[0m\u001b[0;34m=\u001b[0m\u001b[0;34m\"dotted\"\u001b[0m\u001b[0;34m)\u001b[0m\u001b[0;34m\u001b[0m\u001b[0;34m\u001b[0m\u001b[0m\n\u001b[1;32m     15\u001b[0m         \u001b[0;32melse\u001b[0m\u001b[0;34m:\u001b[0m\u001b[0;34m\u001b[0m\u001b[0;34m\u001b[0m\u001b[0m\n",
      "\u001b[0;31mAttributeError\u001b[0m: 'int' object has no attribute 'lower'"
     ]
    }
   ],
   "source": [
    "from statsmodels.tsa.ar_model import AutoReg\n",
    "from random import random\n",
    "\n",
    "def AR_model(train,test,c):\n",
    "    # fit model\n",
    "    model = AutoReg(train, lags=1)\n",
    "    model_fit = model.fit()\n",
    "    # make prediction\n",
    "    yhat=model_fit.predict(len(train), len(train) + len(test) - 1)\n",
    "    res=pd.DataFrame({\"Pred\":yhat, f'{c}':test.values})\n",
    "    return res\n",
    "for c in ['avg_temp','max_temp','min_temp','rainfall_anom']:\n",
    "    X = m_df[c]\n",
    "    train_size = int(len(X) * 0.66)\n",
    "    train, test = X[0:train_size], X[train_size:]\n",
    "    history = [x for x in train]\n",
    "    df_ret = AR_model(train, test,c)\n",
    "    show_graph(train, df_ret, \"Autoregression (AR)\")"
   ]
  },
  {
   "cell_type": "code",
   "execution_count": 81,
   "metadata": {},
   "outputs": [],
   "source": [
    "#global data projections\n",
    "final_df.to_csv('../data/cleaned/global_projection.csv',index=False)"
   ]
  },
  {
   "cell_type": "code",
   "execution_count": null,
   "metadata": {},
   "outputs": [],
   "source": []
  }
 ]
}