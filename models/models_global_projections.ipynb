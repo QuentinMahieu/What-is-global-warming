{
 "metadata": {
  "language_info": {
   "codemirror_mode": {
    "name": "ipython",
    "version": 3
   },
   "file_extension": ".py",
   "mimetype": "text/x-python",
   "name": "python",
   "nbconvert_exporter": "python",
   "pygments_lexer": "ipython3",
   "version": "3.6.10-final"
  },
  "orig_nbformat": 2,
  "kernelspec": {
   "name": "python3",
   "display_name": "Python 3",
   "language": "python"
  }
 },
 "nbformat": 4,
 "nbformat_minor": 2,
 "cells": [
  {
   "cell_type": "code",
   "execution_count": 1,
   "metadata": {},
   "outputs": [],
   "source": [
    "from sklearn.linear_model import LinearRegression\n",
    "from sklearn.neighbors import KNeighborsRegressor \n",
    "from sklearn.ensemble import RandomForestRegressor\n",
    "from sklearn.svm import SVR\n",
    "from sklearn.neural_network import MLPRegressor\n",
    "from sklearn.model_selection import TimeSeriesSplit,cross_val_score,train_test_split, GridSearchCV\n",
    "import numpy as np\n",
    "import pandas as pd\n",
    "import matplotlib.pyplot as plt\n",
    "import datetime as dt"
   ]
  },
  {
   "cell_type": "code",
   "execution_count": 2,
   "metadata": {},
   "outputs": [
    {
     "output_type": "execute_result",
     "data": {
      "text/plain": "Year           2029.000000\nCO2(ppm)        470.360980\nglobal_anom       1.624435\nsea_level       242.449028\ndtype: float64"
     },
     "metadata": {},
     "execution_count": 2
    }
   ],
   "source": [
    "df = pd.read_csv(\"../data/cleaned/global_projection.csv\")\n",
    "df.mean()"
   ]
  },
  {
   "cell_type": "code",
   "execution_count": 2,
   "metadata": {},
   "outputs": [
    {
     "output_type": "execute_result",
     "data": {
      "text/plain": "     Year  global_anom  All forcings     Human   Natural  \\\n139  2019         1.19      1.108846  0.996126  0.112721   \n140  2020         1.22      1.134581  1.018415  0.116166   \n\n     Anthropogenic tropospheric aerosol  Greenhouse gases  Land use  \\\n139                           -0.695457          1.537588 -0.233444   \n140                           -0.709726          1.571692 -0.237720   \n\n     Orbital changes     Ozone     Solar  Volcanic          ds  \n139         0.030672  0.030672  0.030672  0.046275  2019-12-31  \n140         0.031610  0.031610  0.031610  0.048304  2020-12-31  ",
      "text/html": "<div>\n<style scoped>\n    .dataframe tbody tr th:only-of-type {\n        vertical-align: middle;\n    }\n\n    .dataframe tbody tr th {\n        vertical-align: top;\n    }\n\n    .dataframe thead th {\n        text-align: right;\n    }\n</style>\n<table border=\"1\" class=\"dataframe\">\n  <thead>\n    <tr style=\"text-align: right;\">\n      <th></th>\n      <th>Year</th>\n      <th>global_anom</th>\n      <th>All forcings</th>\n      <th>Human</th>\n      <th>Natural</th>\n      <th>Anthropogenic tropospheric aerosol</th>\n      <th>Greenhouse gases</th>\n      <th>Land use</th>\n      <th>Orbital changes</th>\n      <th>Ozone</th>\n      <th>Solar</th>\n      <th>Volcanic</th>\n      <th>ds</th>\n    </tr>\n  </thead>\n  <tbody>\n    <tr>\n      <th>139</th>\n      <td>2019</td>\n      <td>1.19</td>\n      <td>1.108846</td>\n      <td>0.996126</td>\n      <td>0.112721</td>\n      <td>-0.695457</td>\n      <td>1.537588</td>\n      <td>-0.233444</td>\n      <td>0.030672</td>\n      <td>0.030672</td>\n      <td>0.030672</td>\n      <td>0.046275</td>\n      <td>2019-12-31</td>\n    </tr>\n    <tr>\n      <th>140</th>\n      <td>2020</td>\n      <td>1.22</td>\n      <td>1.134581</td>\n      <td>1.018415</td>\n      <td>0.116166</td>\n      <td>-0.709726</td>\n      <td>1.571692</td>\n      <td>-0.237720</td>\n      <td>0.031610</td>\n      <td>0.031610</td>\n      <td>0.031610</td>\n      <td>0.048304</td>\n      <td>2020-12-31</td>\n    </tr>\n  </tbody>\n</table>\n</div>"
     },
     "metadata": {},
     "execution_count": 2
    }
   ],
   "source": [
    "df = pd.read_csv(\"../data/cleaned/global_anomalies.csv\")\n",
    "df['ds'] = df['Year'].apply(lambda x:dt.date(x,12,31))\n",
    "df.tail(2)"
   ]
  },
  {
   "cell_type": "code",
   "execution_count": 3,
   "metadata": {},
   "outputs": [],
   "source": [
    "#Co2 data and projection\n",
    "co2_df = pd.read_csv('../data/raw/co2/monthly_in_situ_co2_mlo.csv',\n",
    "    skiprows=lambda x:x in np.arange(0,54),parse_dates=True)\n",
    "co2_df_projection = pd.read_csv('../data/raw/co2/projection2100.csv',parse_dates=True)\n",
    "co2_df1 = co2_df.iloc[2:757,[0,4,7]].copy()"
   ]
  },
  {
   "cell_type": "code",
   "execution_count": 4,
   "metadata": {},
   "outputs": [
    {
     "output_type": "execute_result",
     "data": {
      "text/plain": "   Year  Global CO2 Equivalent Emissions (GtonsCO2/year)    CO2(ppm)  \\\n0  1958                                          20.4768  232.269000   \n1  1959                                          20.5436  315.981667   \n2  1960                                          21.1158  316.909167   \n3  1961                                          21.6520  317.643333   \n4  1962                                          22.1765  318.454167   \n\n   seasonally_adjustedfit(ppm)  \n0                   315.229000  \n1                   315.998333  \n2                   316.902500  \n3                   317.628333  \n4                   318.450000  ",
      "text/html": "<div>\n<style scoped>\n    .dataframe tbody tr th:only-of-type {\n        vertical-align: middle;\n    }\n\n    .dataframe tbody tr th {\n        vertical-align: top;\n    }\n\n    .dataframe thead th {\n        text-align: right;\n    }\n</style>\n<table border=\"1\" class=\"dataframe\">\n  <thead>\n    <tr style=\"text-align: right;\">\n      <th></th>\n      <th>Year</th>\n      <th>Global CO2 Equivalent Emissions (GtonsCO2/year)</th>\n      <th>CO2(ppm)</th>\n      <th>seasonally_adjustedfit(ppm)</th>\n    </tr>\n  </thead>\n  <tbody>\n    <tr>\n      <th>0</th>\n      <td>1958</td>\n      <td>20.4768</td>\n      <td>232.269000</td>\n      <td>315.229000</td>\n    </tr>\n    <tr>\n      <th>1</th>\n      <td>1959</td>\n      <td>20.5436</td>\n      <td>315.981667</td>\n      <td>315.998333</td>\n    </tr>\n    <tr>\n      <th>2</th>\n      <td>1960</td>\n      <td>21.1158</td>\n      <td>316.909167</td>\n      <td>316.902500</td>\n    </tr>\n    <tr>\n      <th>3</th>\n      <td>1961</td>\n      <td>21.6520</td>\n      <td>317.643333</td>\n      <td>317.628333</td>\n    </tr>\n    <tr>\n      <th>4</th>\n      <td>1962</td>\n      <td>22.1765</td>\n      <td>318.454167</td>\n      <td>318.450000</td>\n    </tr>\n  </tbody>\n</table>\n</div>"
     },
     "metadata": {},
     "execution_count": 4
    }
   ],
   "source": [
    "co2_df1 = co2_df1.groupby('Year').mean()\n",
    "final_co2 = co2_df_projection.merge(co2_df1,on='Year',how='left')\n",
    "final_co2 = final_co2[final_co2['Year']>= 1958].reset_index(drop=True)\n",
    "final_co2.head()"
   ]
  },
  {
   "cell_type": "code",
   "execution_count": 5,
   "metadata": {
    "tags": []
   },
   "outputs": [
    {
     "output_type": "stream",
     "name": "stdout",
     "text": "0.8001162267989913\n0.9434977070677808\nMean Absolute Error: 4.722952176895163\nMean Squared Error: 43.43974122822095\nRoot Mean Squared Error: 6.590883190303175\n"
    }
   ],
   "source": [
    "from sklearn.metrics import mean_squared_error,mean_absolute_error, r2_score\n",
    "model_df = final_co2.dropna()\n",
    "X = model_df['Global CO2 Equivalent Emissions (GtonsCO2/year)'].to_numpy().reshape(-1,1)\n",
    "y = model_df['CO2(ppm)'].to_numpy().reshape(-1,1)\n",
    "X_train,X_test,y_train,y_test = train_test_split(X,y)\n",
    "model = LinearRegression()\n",
    "model.fit(X_train,y_train)\n",
    "pred = model.predict(X_test)\n",
    "print(model.score(X_train,y_train))\n",
    "print(model.score(X_test,y_test))\n",
    "print('Mean Absolute Error:', mean_absolute_error(y_test, pred))\n",
    "print('Mean Squared Error:', mean_squared_error(y_test, pred))\n",
    "print('Root Mean Squared Error:', np.sqrt(mean_squared_error(y_test, pred)))"
   ]
  },
  {
   "cell_type": "code",
   "execution_count": 6,
   "metadata": {},
   "outputs": [
    {
     "output_type": "execute_result",
     "data": {
      "text/plain": "   Year  Predictions\n0  2022   429.065497\n1  2023   432.093428\n2  2024   435.121060\n3  2025   438.148692\n4  2026   441.176324",
      "text/html": "<div>\n<style scoped>\n    .dataframe tbody tr th:only-of-type {\n        vertical-align: middle;\n    }\n\n    .dataframe tbody tr th {\n        vertical-align: top;\n    }\n\n    .dataframe thead th {\n        text-align: right;\n    }\n</style>\n<table border=\"1\" class=\"dataframe\">\n  <thead>\n    <tr style=\"text-align: right;\">\n      <th></th>\n      <th>Year</th>\n      <th>Predictions</th>\n    </tr>\n  </thead>\n  <tbody>\n    <tr>\n      <th>0</th>\n      <td>2022</td>\n      <td>429.065497</td>\n    </tr>\n    <tr>\n      <th>1</th>\n      <td>2023</td>\n      <td>432.093428</td>\n    </tr>\n    <tr>\n      <th>2</th>\n      <td>2024</td>\n      <td>435.121060</td>\n    </tr>\n    <tr>\n      <th>3</th>\n      <td>2025</td>\n      <td>438.148692</td>\n    </tr>\n    <tr>\n      <th>4</th>\n      <td>2026</td>\n      <td>441.176324</td>\n    </tr>\n  </tbody>\n</table>\n</div>"
     },
     "metadata": {},
     "execution_count": 6
    }
   ],
   "source": [
    "pred = model.predict(final_co2[final_co2['Year']>2021]['Global CO2 Equivalent Emissions (GtonsCO2/year)'].to_numpy().reshape(-1,1))\n",
    "pred_df = pd.DataFrame({'Year':np.arange(2022,2101),'Predictions':pred.ravel()})\n",
    "pred_df.head()"
   ]
  },
  {
   "cell_type": "code",
   "execution_count": 7,
   "metadata": {},
   "outputs": [
    {
     "output_type": "execute_result",
     "data": {
      "text/plain": "   Year  Global CO2 Equivalent Emissions (GtonsCO2/year)    CO2(ppm)\n0  1958                                          20.4768  232.269000\n1  1959                                          20.5436  315.981667\n2  1960                                          21.1158  316.909167\n3  1961                                          21.6520  317.643333\n4  1962                                          22.1765  318.454167",
      "text/html": "<div>\n<style scoped>\n    .dataframe tbody tr th:only-of-type {\n        vertical-align: middle;\n    }\n\n    .dataframe tbody tr th {\n        vertical-align: top;\n    }\n\n    .dataframe thead th {\n        text-align: right;\n    }\n</style>\n<table border=\"1\" class=\"dataframe\">\n  <thead>\n    <tr style=\"text-align: right;\">\n      <th></th>\n      <th>Year</th>\n      <th>Global CO2 Equivalent Emissions (GtonsCO2/year)</th>\n      <th>CO2(ppm)</th>\n    </tr>\n  </thead>\n  <tbody>\n    <tr>\n      <th>0</th>\n      <td>1958</td>\n      <td>20.4768</td>\n      <td>232.269000</td>\n    </tr>\n    <tr>\n      <th>1</th>\n      <td>1959</td>\n      <td>20.5436</td>\n      <td>315.981667</td>\n    </tr>\n    <tr>\n      <th>2</th>\n      <td>1960</td>\n      <td>21.1158</td>\n      <td>316.909167</td>\n    </tr>\n    <tr>\n      <th>3</th>\n      <td>1961</td>\n      <td>21.6520</td>\n      <td>317.643333</td>\n    </tr>\n    <tr>\n      <th>4</th>\n      <td>1962</td>\n      <td>22.1765</td>\n      <td>318.454167</td>\n    </tr>\n  </tbody>\n</table>\n</div>"
     },
     "metadata": {},
     "execution_count": 7
    }
   ],
   "source": [
    "final_co2.iloc[64:,2] = pred.ravel()\n",
    "final_co2 = final_co2.iloc[:,:3]\n",
    "final_co2.head()"
   ]
  },
  {
   "cell_type": "code",
   "execution_count": 13,
   "metadata": {
    "tags": []
   },
   "outputs": [
    {
     "output_type": "stream",
     "name": "stdout",
     "text": "0.8001161821247522\n0.9435523873634688\nMean Absolute Error: 4.721934017335521\nMean Squared Error: 43.397702263575425\nRoot Mean Squared Error: 6.587693242977805\n"
    }
   ],
   "source": [
    "from sklearn.linear_model import Lasso\n",
    "model2 = Lasso(alpha=0.1)\n",
    "model2.fit(X_train,y_train)\n",
    "pred2 = model2.predict(X_test)\n",
    "print(model2.score(X_train,y_train))\n",
    "print(model2.score(X_test,y_test))\n",
    "print('Mean Absolute Error:', mean_absolute_error(y_test, pred2))\n",
    "print('Mean Squared Error:', mean_squared_error(y_test, pred2))\n",
    "print('Root Mean Squared Error:', np.sqrt(mean_squared_error(y_test, pred2)))"
   ]
  },
  {
   "cell_type": "code",
   "execution_count": 32,
   "metadata": {
    "tags": []
   },
   "outputs": [
    {
     "output_type": "stream",
     "name": "stdout",
     "text": "0.8865104142311051\n0.8971710701254312\nMean Absolute Error: 0.08159029282608184\nMean Squared Error: 0.008964714475076522\nRoot Mean Squared Error: 0.09468217612136152\n"
    }
   ],
   "source": [
    "#temperature predictions\n",
    "temp_df = df[['Year','global_anom']]\n",
    "temp_df = final_co2.merge(temp_df,on='Year',how='left')\n",
    "model_temp_df = temp_df.dropna()\n",
    "X = model_temp_df[['Global CO2 Equivalent Emissions (GtonsCO2/year)','CO2(ppm)']]\n",
    "y = model_temp_df['global_anom'].to_numpy().reshape(-1,1)\n",
    "X_train,X_test,y_train,y_test = train_test_split(X,y)\n",
    "model2 = LinearRegression()\n",
    "model2.fit(X_train,y_train)\n",
    "pred2 = model2.predict(X_test)\n",
    "print(model2.score(X_train,y_train))\n",
    "print(model2.score(X_test,y_test))\n",
    "print('Mean Absolute Error:', mean_absolute_error(y_test, pred2))\n",
    "print('Mean Squared Error:', mean_squared_error(y_test, pred2))\n",
    "print('Root Mean Squared Error:', np.sqrt(mean_squared_error(y_test, pred2)))"
   ]
  },
  {
   "cell_type": "code",
   "execution_count": 61,
   "metadata": {
    "tags": []
   },
   "outputs": [
    {
     "output_type": "stream",
     "name": "stdout",
     "text": "<class 'pandas.core.frame.DataFrame'>\nInt64Index: 143 entries, 0 to 142\nData columns (total 4 columns):\n #   Column                                           Non-Null Count  Dtype  \n---  ------                                           --------------  -----  \n 0   Year                                             143 non-null    int64  \n 1   Global CO2 Equivalent Emissions (GtonsCO2/year)  143 non-null    float64\n 2   CO2(ppm)                                         143 non-null    float64\n 3   global_anom                                      143 non-null    float64\ndtypes: float64(3), int64(1)\nmemory usage: 5.6 KB\n"
    }
   ],
   "source": [
    "features = temp_df[temp_df['Year']>2020][['Global CO2 Equivalent Emissions (GtonsCO2/year)','CO2(ppm)']]\n",
    "pred2 = model2.predict(features)\n",
    "temp_df.iloc[63:,3] = pred2.ravel()\n",
    "temp_df.info()"
   ]
  },
  {
   "cell_type": "code",
   "execution_count": 79,
   "metadata": {},
   "outputs": [
    {
     "output_type": "execute_result",
     "data": {
      "text/plain": "   Year  Global CO2 Equivalent Emissions (GtonsCO2/year)    CO2(ppm)  \\\n0  1958                                          20.4768  232.269000   \n1  1959                                          20.5436  315.981667   \n2  1960                                          21.1158  316.909167   \n3  1961                                          21.6520  317.643333   \n4  1962                                          22.1765  318.454167   \n\n   global_anom  diff  rise_year  \n0         0.26   NaN        NaN  \n1         0.23   NaN        NaN  \n2         0.17   NaN        NaN  \n3         0.26   NaN        NaN  \n4         0.23   NaN        NaN  ",
      "text/html": "<div>\n<style scoped>\n    .dataframe tbody tr th:only-of-type {\n        vertical-align: middle;\n    }\n\n    .dataframe tbody tr th {\n        vertical-align: top;\n    }\n\n    .dataframe thead th {\n        text-align: right;\n    }\n</style>\n<table border=\"1\" class=\"dataframe\">\n  <thead>\n    <tr style=\"text-align: right;\">\n      <th></th>\n      <th>Year</th>\n      <th>Global CO2 Equivalent Emissions (GtonsCO2/year)</th>\n      <th>CO2(ppm)</th>\n      <th>global_anom</th>\n      <th>diff</th>\n      <th>rise_year</th>\n    </tr>\n  </thead>\n  <tbody>\n    <tr>\n      <th>0</th>\n      <td>1958</td>\n      <td>20.4768</td>\n      <td>232.269000</td>\n      <td>0.26</td>\n      <td>NaN</td>\n      <td>NaN</td>\n    </tr>\n    <tr>\n      <th>1</th>\n      <td>1959</td>\n      <td>20.5436</td>\n      <td>315.981667</td>\n      <td>0.23</td>\n      <td>NaN</td>\n      <td>NaN</td>\n    </tr>\n    <tr>\n      <th>2</th>\n      <td>1960</td>\n      <td>21.1158</td>\n      <td>316.909167</td>\n      <td>0.17</td>\n      <td>NaN</td>\n      <td>NaN</td>\n    </tr>\n    <tr>\n      <th>3</th>\n      <td>1961</td>\n      <td>21.6520</td>\n      <td>317.643333</td>\n      <td>0.26</td>\n      <td>NaN</td>\n      <td>NaN</td>\n    </tr>\n    <tr>\n      <th>4</th>\n      <td>1962</td>\n      <td>22.1765</td>\n      <td>318.454167</td>\n      <td>0.23</td>\n      <td>NaN</td>\n      <td>NaN</td>\n    </tr>\n  </tbody>\n</table>\n</div>"
     },
     "metadata": {},
     "execution_count": 79
    }
   ],
   "source": [
    "sea_level_df = pd.read_csv('../data/cleaned/sea_level_global.csv')\n",
    "final_df = temp_df.merge(sea_level_df,on='Year', how='left')\n",
    "final_df.head()"
   ]
  },
  {
   "cell_type": "code",
   "execution_count": 74,
   "metadata": {
    "tags": []
   },
   "outputs": [
    {
     "output_type": "stream",
     "name": "stdout",
     "text": "0.9998198308671348\n0.9998784374549597\nMean Absolute Error: 0.6759127317308051\nMean Squared Error: 2.695088002587067\nRoot Mean Squared Error: 1.641672318883116\n"
    }
   ],
   "source": [
    "#sea_level predictions\n",
    "model_sea_df = final_df.dropna()\n",
    "X = model_sea_df[['global_anom','CO2(ppm)']]\n",
    "y = model_sea_df['diff'].to_numpy().reshape(-1,1)\n",
    "X_train,X_test,y_train,y_test = train_test_split(X,y)\n",
    "model3 = LinearRegression()\n",
    "model3.fit(X_train,y_train)\n",
    "pred3 = model3.predict(X_test)\n",
    "print(model3.score(X_train,y_train))\n",
    "print(model3.score(X_test,y_test))\n",
    "print('Mean Absolute Error:', mean_absolute_error(y_test, pred3))\n",
    "print('Mean Squared Error:', mean_squared_error(y_test, pred3))\n",
    "print('Root Mean Squared Error:', np.sqrt(mean_squared_error(y_test, pred3)))"
   ]
  },
  {
   "cell_type": "code",
   "execution_count": 80,
   "metadata": {},
   "outputs": [
    {
     "output_type": "execute_result",
     "data": {
      "text/plain": "     Year    CO2(ppm)  global_anom   sea_level\n138  2096  648.231475     3.252822  443.124106\n139  2097  648.765149     3.257691  443.928837\n140  2098  649.301805     3.262586  444.738064\n141  2099  649.835479     3.267454  445.542795\n142  2100  650.372135     3.272350  446.352022",
      "text/html": "<div>\n<style scoped>\n    .dataframe tbody tr th:only-of-type {\n        vertical-align: middle;\n    }\n\n    .dataframe tbody tr th {\n        vertical-align: top;\n    }\n\n    .dataframe thead th {\n        text-align: right;\n    }\n</style>\n<table border=\"1\" class=\"dataframe\">\n  <thead>\n    <tr style=\"text-align: right;\">\n      <th></th>\n      <th>Year</th>\n      <th>CO2(ppm)</th>\n      <th>global_anom</th>\n      <th>sea_level</th>\n    </tr>\n  </thead>\n  <tbody>\n    <tr>\n      <th>138</th>\n      <td>2096</td>\n      <td>648.231475</td>\n      <td>3.252822</td>\n      <td>443.124106</td>\n    </tr>\n    <tr>\n      <th>139</th>\n      <td>2097</td>\n      <td>648.765149</td>\n      <td>3.257691</td>\n      <td>443.928837</td>\n    </tr>\n    <tr>\n      <th>140</th>\n      <td>2098</td>\n      <td>649.301805</td>\n      <td>3.262586</td>\n      <td>444.738064</td>\n    </tr>\n    <tr>\n      <th>141</th>\n      <td>2099</td>\n      <td>649.835479</td>\n      <td>3.267454</td>\n      <td>445.542795</td>\n    </tr>\n    <tr>\n      <th>142</th>\n      <td>2100</td>\n      <td>650.372135</td>\n      <td>3.272350</td>\n      <td>446.352022</td>\n    </tr>\n  </tbody>\n</table>\n</div>"
     },
     "metadata": {},
     "execution_count": 80
    }
   ],
   "source": [
    "features1 = final_df[final_df['Year']>2020][['global_anom','CO2(ppm)']]\n",
    "pred3 = model3.predict(features1)\n",
    "final_df.iloc[63:,4] = pred3.ravel()\n",
    "final_df = final_df.iloc[:,[0,2,3,4]].rename({'diff':'sea_level'},axis=1)\n",
    "final_df.tail()"
   ]
  },
  {
   "cell_type": "code",
   "execution_count": 81,
   "metadata": {},
   "outputs": [],
   "source": [
    "#global data projections\n",
    "final_df.to_csv('../data/cleaned/global_projection.csv',index=False)"
   ]
  },
  {
   "cell_type": "code",
   "execution_count": null,
   "metadata": {},
   "outputs": [],
   "source": []
  }
 ]
}