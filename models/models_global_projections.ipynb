{
 "metadata": {
  "language_info": {
   "codemirror_mode": {
    "name": "ipython",
    "version": 3
   },
   "file_extension": ".py",
   "mimetype": "text/x-python",
   "name": "python",
   "nbconvert_exporter": "python",
   "pygments_lexer": "ipython3",
   "version": "3.8.5-final"
  },
  "orig_nbformat": 2,
  "kernelspec": {
   "name": "python3",
   "display_name": "Python 3",
   "language": "python"
  }
 },
 "nbformat": 4,
 "nbformat_minor": 2,
 "cells": [
  {
   "cell_type": "code",
   "execution_count": 1,
   "metadata": {},
   "outputs": [],
   "source": [
    "from sklearn.linear_model import LinearRegression\n",
    "from sklearn.neighbors import KNeighborsRegressor \n",
    "from sklearn.ensemble import RandomForestRegressor\n",
    "from sklearn.svm import SVR\n",
    "from sklearn.neural_network import MLPRegressor\n",
    "from sklearn.model_selection import TimeSeriesSplit,cross_val_score,train_test_split, GridSearchCV\n",
    "import numpy as np\n",
    "import pandas as pd\n",
    "import matplotlib.pyplot as plt\n",
    "import datetime as dt"
   ]
  },
  {
   "cell_type": "code",
   "execution_count": 2,
   "metadata": {},
   "outputs": [
    {
     "output_type": "execute_result",
     "data": {
      "text/plain": [
       "Year           2029.000000\n",
       "CO2(ppm)        475.948631\n",
       "global_anom       1.679635\n",
       "sea_level       197.319300\n",
       "dtype: float64"
      ]
     },
     "metadata": {},
     "execution_count": 2
    }
   ],
   "source": [
    "df = pd.read_csv(\"../data/cleaned/global_projection.csv\")\n",
    "df.mean()"
   ]
  },
  {
   "cell_type": "code",
   "execution_count": 3,
   "metadata": {},
   "outputs": [
    {
     "output_type": "execute_result",
     "data": {
      "text/plain": [
       "     Year  global_anom  All forcings     Human   Natural  \\\n",
       "139  2019         1.19      1.108846  0.996126  0.112721   \n",
       "140  2020         1.22      1.134581  1.018415  0.116166   \n",
       "\n",
       "     Anthropogenic tropospheric aerosol  Greenhouse gases  Land use  \\\n",
       "139                           -0.695457          1.537588 -0.233444   \n",
       "140                           -0.709726          1.571692 -0.237720   \n",
       "\n",
       "     Orbital changes     Ozone     Solar  Volcanic          ds  \n",
       "139         0.030672  0.030672  0.030672  0.046275  2019-12-31  \n",
       "140         0.031610  0.031610  0.031610  0.048304  2020-12-31  "
      ],
      "text/html": "<div>\n<style scoped>\n    .dataframe tbody tr th:only-of-type {\n        vertical-align: middle;\n    }\n\n    .dataframe tbody tr th {\n        vertical-align: top;\n    }\n\n    .dataframe thead th {\n        text-align: right;\n    }\n</style>\n<table border=\"1\" class=\"dataframe\">\n  <thead>\n    <tr style=\"text-align: right;\">\n      <th></th>\n      <th>Year</th>\n      <th>global_anom</th>\n      <th>All forcings</th>\n      <th>Human</th>\n      <th>Natural</th>\n      <th>Anthropogenic tropospheric aerosol</th>\n      <th>Greenhouse gases</th>\n      <th>Land use</th>\n      <th>Orbital changes</th>\n      <th>Ozone</th>\n      <th>Solar</th>\n      <th>Volcanic</th>\n      <th>ds</th>\n    </tr>\n  </thead>\n  <tbody>\n    <tr>\n      <th>139</th>\n      <td>2019</td>\n      <td>1.19</td>\n      <td>1.108846</td>\n      <td>0.996126</td>\n      <td>0.112721</td>\n      <td>-0.695457</td>\n      <td>1.537588</td>\n      <td>-0.233444</td>\n      <td>0.030672</td>\n      <td>0.030672</td>\n      <td>0.030672</td>\n      <td>0.046275</td>\n      <td>2019-12-31</td>\n    </tr>\n    <tr>\n      <th>140</th>\n      <td>2020</td>\n      <td>1.22</td>\n      <td>1.134581</td>\n      <td>1.018415</td>\n      <td>0.116166</td>\n      <td>-0.709726</td>\n      <td>1.571692</td>\n      <td>-0.237720</td>\n      <td>0.031610</td>\n      <td>0.031610</td>\n      <td>0.031610</td>\n      <td>0.048304</td>\n      <td>2020-12-31</td>\n    </tr>\n  </tbody>\n</table>\n</div>"
     },
     "metadata": {},
     "execution_count": 3
    }
   ],
   "source": [
    "df = pd.read_csv(\"../data/cleaned/global_anomalies.csv\")\n",
    "df['ds'] = df['Year'].apply(lambda x:dt.date(x,12,31))\n",
    "df.tail(2)"
   ]
  },
  {
   "cell_type": "code",
   "execution_count": 4,
   "metadata": {},
   "outputs": [],
   "source": [
    "#Co2 data and projection\n",
    "co2_df = pd.read_csv('../data/raw/co2/monthly_in_situ_co2_mlo.csv',\n",
    "    skiprows=lambda x:x in np.arange(0,54),parse_dates=True)\n",
    "co2_df_projection = pd.read_csv('../data/raw/co2/projection2100.csv',parse_dates=True)\n",
    "co2_df1 = co2_df.iloc[2:757,[0,4,7]].copy()"
   ]
  },
  {
   "cell_type": "code",
   "execution_count": 5,
   "metadata": {},
   "outputs": [
    {
     "output_type": "execute_result",
     "data": {
      "text/plain": [
       "   Year  Global CO2 Equivalent Emissions (GtonsCO2/year)    CO2(ppm)  \\\n",
       "0  1958                                          20.4768  232.269000   \n",
       "1  1959                                          20.5436  315.981667   \n",
       "2  1960                                          21.1158  316.909167   \n",
       "3  1961                                          21.6520  317.643333   \n",
       "4  1962                                          22.1765  318.454167   \n",
       "\n",
       "   seasonally_adjustedfit(ppm)  \n",
       "0                   315.229000  \n",
       "1                   315.998333  \n",
       "2                   316.902500  \n",
       "3                   317.628333  \n",
       "4                   318.450000  "
      ],
      "text/html": "<div>\n<style scoped>\n    .dataframe tbody tr th:only-of-type {\n        vertical-align: middle;\n    }\n\n    .dataframe tbody tr th {\n        vertical-align: top;\n    }\n\n    .dataframe thead th {\n        text-align: right;\n    }\n</style>\n<table border=\"1\" class=\"dataframe\">\n  <thead>\n    <tr style=\"text-align: right;\">\n      <th></th>\n      <th>Year</th>\n      <th>Global CO2 Equivalent Emissions (GtonsCO2/year)</th>\n      <th>CO2(ppm)</th>\n      <th>seasonally_adjustedfit(ppm)</th>\n    </tr>\n  </thead>\n  <tbody>\n    <tr>\n      <th>0</th>\n      <td>1958</td>\n      <td>20.4768</td>\n      <td>232.269000</td>\n      <td>315.229000</td>\n    </tr>\n    <tr>\n      <th>1</th>\n      <td>1959</td>\n      <td>20.5436</td>\n      <td>315.981667</td>\n      <td>315.998333</td>\n    </tr>\n    <tr>\n      <th>2</th>\n      <td>1960</td>\n      <td>21.1158</td>\n      <td>316.909167</td>\n      <td>316.902500</td>\n    </tr>\n    <tr>\n      <th>3</th>\n      <td>1961</td>\n      <td>21.6520</td>\n      <td>317.643333</td>\n      <td>317.628333</td>\n    </tr>\n    <tr>\n      <th>4</th>\n      <td>1962</td>\n      <td>22.1765</td>\n      <td>318.454167</td>\n      <td>318.450000</td>\n    </tr>\n  </tbody>\n</table>\n</div>"
     },
     "metadata": {},
     "execution_count": 5
    }
   ],
   "source": [
    "co2_df1 = co2_df1.groupby('Year').mean()\n",
    "final_co2 = co2_df_projection.merge(co2_df1,on='Year',how='left')\n",
    "final_co2 = final_co2[final_co2['Year']>= 1958].reset_index(drop=True)\n",
    "final_co2.head()"
   ]
  },
  {
   "cell_type": "code",
   "execution_count": 6,
   "metadata": {},
   "outputs": [
    {
     "output_type": "execute_result",
     "data": {
      "text/plain": [
       "    Year  Global CO2 Equivalent Emissions (GtonsCO2/year)    CO2(ppm)  \\\n",
       "48  2006                                          47.9600  381.807500   \n",
       "49  2007                                          48.9497  383.592500   \n",
       "50  2008                                          49.1355  385.449167   \n",
       "51  2009                                          49.1382  387.360000   \n",
       "52  2010                                          50.7118  389.900833   \n",
       "\n",
       "    seasonally_adjustedfit(ppm)  \n",
       "48                   381.748333  \n",
       "49                   383.573333  \n",
       "50                   385.436667  \n",
       "51                   387.426667  \n",
       "52                   389.808333  "
      ],
      "text/html": "<div>\n<style scoped>\n    .dataframe tbody tr th:only-of-type {\n        vertical-align: middle;\n    }\n\n    .dataframe tbody tr th {\n        vertical-align: top;\n    }\n\n    .dataframe thead th {\n        text-align: right;\n    }\n</style>\n<table border=\"1\" class=\"dataframe\">\n  <thead>\n    <tr style=\"text-align: right;\">\n      <th></th>\n      <th>Year</th>\n      <th>Global CO2 Equivalent Emissions (GtonsCO2/year)</th>\n      <th>CO2(ppm)</th>\n      <th>seasonally_adjustedfit(ppm)</th>\n    </tr>\n  </thead>\n  <tbody>\n    <tr>\n      <th>48</th>\n      <td>2006</td>\n      <td>47.9600</td>\n      <td>381.807500</td>\n      <td>381.748333</td>\n    </tr>\n    <tr>\n      <th>49</th>\n      <td>2007</td>\n      <td>48.9497</td>\n      <td>383.592500</td>\n      <td>383.573333</td>\n    </tr>\n    <tr>\n      <th>50</th>\n      <td>2008</td>\n      <td>49.1355</td>\n      <td>385.449167</td>\n      <td>385.436667</td>\n    </tr>\n    <tr>\n      <th>51</th>\n      <td>2009</td>\n      <td>49.1382</td>\n      <td>387.360000</td>\n      <td>387.426667</td>\n    </tr>\n    <tr>\n      <th>52</th>\n      <td>2010</td>\n      <td>50.7118</td>\n      <td>389.900833</td>\n      <td>389.808333</td>\n    </tr>\n  </tbody>\n</table>\n</div>"
     },
     "metadata": {},
     "execution_count": 6
    }
   ],
   "source": [
    "final_co2[final_co2['Year'].isin(range(2006,2011))]"
   ]
  },
  {
   "cell_type": "code",
   "execution_count": 7,
   "metadata": {
    "tags": []
   },
   "outputs": [
    {
     "output_type": "stream",
     "name": "stdout",
     "text": [
      "0.8319324650699924\n0.7899532131031103\nMean Absolute Error: 8.211005151575264\nMean Squared Error: 324.9159811320359\nRoot Mean Squared Error: 18.025425962568427\n"
     ]
    }
   ],
   "source": [
    "from sklearn.metrics import mean_squared_error,mean_absolute_error, r2_score\n",
    "model_df = final_co2.dropna()\n",
    "X = model_df['Global CO2 Equivalent Emissions (GtonsCO2/year)'].to_numpy().reshape(-1,1)\n",
    "y = model_df['CO2(ppm)'].to_numpy().reshape(-1,1)\n",
    "X_train,X_test,y_train,y_test = train_test_split(X,y)\n",
    "model = LinearRegression()\n",
    "model.fit(X_train,y_train)\n",
    "pred = model.predict(X_test)\n",
    "print(model.score(X_train,y_train))\n",
    "print(model.score(X_test,y_test))\n",
    "print('Mean Absolute Error:', mean_absolute_error(y_test, pred))\n",
    "print('Mean Squared Error:', mean_squared_error(y_test, pred))\n",
    "print('Root Mean Squared Error:', np.sqrt(mean_squared_error(y_test, pred)))"
   ]
  },
  {
   "cell_type": "code",
   "execution_count": 8,
   "metadata": {},
   "outputs": [
    {
     "output_type": "execute_result",
     "data": {
      "text/plain": [
       "   Year  Predictions\n",
       "0  2022   425.642616\n",
       "1  2023   428.469879\n",
       "2  2024   431.296864\n",
       "3  2025   434.123848\n",
       "4  2026   436.950832"
      ],
      "text/html": "<div>\n<style scoped>\n    .dataframe tbody tr th:only-of-type {\n        vertical-align: middle;\n    }\n\n    .dataframe tbody tr th {\n        vertical-align: top;\n    }\n\n    .dataframe thead th {\n        text-align: right;\n    }\n</style>\n<table border=\"1\" class=\"dataframe\">\n  <thead>\n    <tr style=\"text-align: right;\">\n      <th></th>\n      <th>Year</th>\n      <th>Predictions</th>\n    </tr>\n  </thead>\n  <tbody>\n    <tr>\n      <th>0</th>\n      <td>2022</td>\n      <td>425.642616</td>\n    </tr>\n    <tr>\n      <th>1</th>\n      <td>2023</td>\n      <td>428.469879</td>\n    </tr>\n    <tr>\n      <th>2</th>\n      <td>2024</td>\n      <td>431.296864</td>\n    </tr>\n    <tr>\n      <th>3</th>\n      <td>2025</td>\n      <td>434.123848</td>\n    </tr>\n    <tr>\n      <th>4</th>\n      <td>2026</td>\n      <td>436.950832</td>\n    </tr>\n  </tbody>\n</table>\n</div>"
     },
     "metadata": {},
     "execution_count": 8
    }
   ],
   "source": [
    "pred = model.predict(final_co2[final_co2['Year']>2021]['Global CO2 Equivalent Emissions (GtonsCO2/year)'].to_numpy().reshape(-1,1))\n",
    "pred_df = pd.DataFrame({'Year':np.arange(2022,2101),'Predictions':pred.ravel()})\n",
    "pred_df.head()"
   ]
  },
  {
   "cell_type": "code",
   "execution_count": 9,
   "metadata": {},
   "outputs": [
    {
     "output_type": "execute_result",
     "data": {
      "text/plain": [
       "   Year  Global CO2 Equivalent Emissions (GtonsCO2/year)    CO2(ppm)\n",
       "0  1958                                          20.4768  232.269000\n",
       "1  1959                                          20.5436  315.981667\n",
       "2  1960                                          21.1158  316.909167\n",
       "3  1961                                          21.6520  317.643333\n",
       "4  1962                                          22.1765  318.454167"
      ],
      "text/html": "<div>\n<style scoped>\n    .dataframe tbody tr th:only-of-type {\n        vertical-align: middle;\n    }\n\n    .dataframe tbody tr th {\n        vertical-align: top;\n    }\n\n    .dataframe thead th {\n        text-align: right;\n    }\n</style>\n<table border=\"1\" class=\"dataframe\">\n  <thead>\n    <tr style=\"text-align: right;\">\n      <th></th>\n      <th>Year</th>\n      <th>Global CO2 Equivalent Emissions (GtonsCO2/year)</th>\n      <th>CO2(ppm)</th>\n    </tr>\n  </thead>\n  <tbody>\n    <tr>\n      <th>0</th>\n      <td>1958</td>\n      <td>20.4768</td>\n      <td>232.269000</td>\n    </tr>\n    <tr>\n      <th>1</th>\n      <td>1959</td>\n      <td>20.5436</td>\n      <td>315.981667</td>\n    </tr>\n    <tr>\n      <th>2</th>\n      <td>1960</td>\n      <td>21.1158</td>\n      <td>316.909167</td>\n    </tr>\n    <tr>\n      <th>3</th>\n      <td>1961</td>\n      <td>21.6520</td>\n      <td>317.643333</td>\n    </tr>\n    <tr>\n      <th>4</th>\n      <td>1962</td>\n      <td>22.1765</td>\n      <td>318.454167</td>\n    </tr>\n  </tbody>\n</table>\n</div>"
     },
     "metadata": {},
     "execution_count": 9
    }
   ],
   "source": [
    "final_co2.iloc[64:,2] = pred.ravel()\n",
    "final_co2 = final_co2.iloc[:,:3]\n",
    "final_co2.head()"
   ]
  },
  {
   "cell_type": "code",
   "execution_count": 10,
   "metadata": {
    "tags": []
   },
   "outputs": [
    {
     "output_type": "stream",
     "name": "stdout",
     "text": [
      "0.8319324123431402\n0.7898860216811382\nMean Absolute Error: 8.213129800933935\nMean Squared Error: 325.0199178173633\nRoot Mean Squared Error: 18.028308789716338\n"
     ]
    }
   ],
   "source": [
    "from sklearn.linear_model import Lasso\n",
    "model2 = Lasso(alpha=0.1)\n",
    "model2.fit(X_train,y_train)\n",
    "pred2 = model2.predict(X_test)\n",
    "print(model2.score(X_train,y_train))\n",
    "print(model2.score(X_test,y_test))\n",
    "print('Mean Absolute Error:', mean_absolute_error(y_test, pred2))\n",
    "print('Mean Squared Error:', mean_squared_error(y_test, pred2))\n",
    "print('Root Mean Squared Error:', np.sqrt(mean_squared_error(y_test, pred2)))"
   ]
  },
  {
   "cell_type": "code",
   "execution_count": 11,
   "metadata": {
    "tags": []
   },
   "outputs": [
    {
     "output_type": "stream",
     "name": "stdout",
     "text": [
      "0.865684667184231\n0.9268275759867538\nMean Absolute Error: 0.0967418511253936\nMean Squared Error: 0.010363501878526075\nRoot Mean Squared Error: 0.10180128623217918\n"
     ]
    }
   ],
   "source": [
    "#temperature predictions\n",
    "temp_df = df[['Year','global_anom']]\n",
    "temp_df = final_co2.merge(temp_df,on='Year',how='left')\n",
    "model_temp_df = temp_df.dropna()\n",
    "X = model_temp_df[['Global CO2 Equivalent Emissions (GtonsCO2/year)']]\n",
    "y = model_temp_df['global_anom'].to_numpy().reshape(-1,1)\n",
    "X_train,X_test,y_train,y_test = train_test_split(X,y)\n",
    "model3 = LinearRegression()\n",
    "model3.fit(X_train,y_train)\n",
    "pred3 = model3.predict(X_test)\n",
    "print(model3.score(X_train,y_train))\n",
    "print(model3.score(X_test,y_test))\n",
    "print('Mean Absolute Error:', mean_absolute_error(y_test, pred3))\n",
    "print('Mean Squared Error:', mean_squared_error(y_test, pred3))\n",
    "print('Root Mean Squared Error:', np.sqrt(mean_squared_error(y_test, pred3)))"
   ]
  },
  {
   "cell_type": "code",
   "execution_count": 12,
   "metadata": {
    "tags": []
   },
   "outputs": [
    {
     "output_type": "stream",
     "name": "stdout",
     "text": [
      "<class 'pandas.core.frame.DataFrame'>\nInt64Index: 143 entries, 0 to 142\nData columns (total 4 columns):\n #   Column                                           Non-Null Count  Dtype  \n---  ------                                           --------------  -----  \n 0   Year                                             143 non-null    int64  \n 1   Global CO2 Equivalent Emissions (GtonsCO2/year)  143 non-null    float64\n 2   CO2(ppm)                                         143 non-null    float64\n 3   global_anom                                      143 non-null    float64\ndtypes: float64(3), int64(1)\nmemory usage: 5.6 KB\n"
     ]
    }
   ],
   "source": [
    "features = temp_df[temp_df['Year']>2020][['Global CO2 Equivalent Emissions (GtonsCO2/year)']]\n",
    "pred3 = model3.predict(features)\n",
    "temp_df.iloc[63:,3] = pred3.ravel()\n",
    "temp_df.info()"
   ]
  },
  {
   "cell_type": "code",
   "execution_count": 13,
   "metadata": {},
   "outputs": [],
   "source": [
    "# Save the model\n",
    "import pickle\n",
    "filename = 'global_anomalie_pred.sav'\n",
    "pickle.dump(model3, open(filename, 'wb'))\n",
    "\n",
    "# load the model from disk\n",
    "loaded_model = pickle.load(open(filename, 'rb'))"
   ]
  },
  {
   "cell_type": "code",
   "execution_count": 14,
   "metadata": {},
   "outputs": [
    {
     "output_type": "execute_result",
     "data": {
      "text/plain": "   Year  Global CO2 Equivalent Emissions (GtonsCO2/year)    CO2(ppm)  \\\n0  1958                                          20.4768  232.269000   \n1  1959                                          20.5436  315.981667   \n2  1960                                          21.1158  316.909167   \n3  1961                                          21.6520  317.643333   \n4  1962                                          22.1765  318.454167   \n\n   global_anom  diff  rise_year  \n0         0.26   NaN        NaN  \n1         0.23   NaN        NaN  \n2         0.17   NaN        NaN  \n3         0.26   NaN        NaN  \n4         0.23   NaN        NaN  ",
      "text/html": "<div>\n<style scoped>\n    .dataframe tbody tr th:only-of-type {\n        vertical-align: middle;\n    }\n\n    .dataframe tbody tr th {\n        vertical-align: top;\n    }\n\n    .dataframe thead th {\n        text-align: right;\n    }\n</style>\n<table border=\"1\" class=\"dataframe\">\n  <thead>\n    <tr style=\"text-align: right;\">\n      <th></th>\n      <th>Year</th>\n      <th>Global CO2 Equivalent Emissions (GtonsCO2/year)</th>\n      <th>CO2(ppm)</th>\n      <th>global_anom</th>\n      <th>diff</th>\n      <th>rise_year</th>\n    </tr>\n  </thead>\n  <tbody>\n    <tr>\n      <th>0</th>\n      <td>1958</td>\n      <td>20.4768</td>\n      <td>232.269000</td>\n      <td>0.26</td>\n      <td>NaN</td>\n      <td>NaN</td>\n    </tr>\n    <tr>\n      <th>1</th>\n      <td>1959</td>\n      <td>20.5436</td>\n      <td>315.981667</td>\n      <td>0.23</td>\n      <td>NaN</td>\n      <td>NaN</td>\n    </tr>\n    <tr>\n      <th>2</th>\n      <td>1960</td>\n      <td>21.1158</td>\n      <td>316.909167</td>\n      <td>0.17</td>\n      <td>NaN</td>\n      <td>NaN</td>\n    </tr>\n    <tr>\n      <th>3</th>\n      <td>1961</td>\n      <td>21.6520</td>\n      <td>317.643333</td>\n      <td>0.26</td>\n      <td>NaN</td>\n      <td>NaN</td>\n    </tr>\n    <tr>\n      <th>4</th>\n      <td>1962</td>\n      <td>22.1765</td>\n      <td>318.454167</td>\n      <td>0.23</td>\n      <td>NaN</td>\n      <td>NaN</td>\n    </tr>\n  </tbody>\n</table>\n</div>"
     },
     "metadata": {},
     "execution_count": 14
    }
   ],
   "source": [
    "sea_level_df = pd.read_csv('../data/cleaned/sea_level_global.csv')\n",
    "final_df = temp_df.merge(sea_level_df,on='Year', how='left')\n",
    "final_df.head()"
   ]
  },
  {
   "cell_type": "code",
   "execution_count": 15,
   "metadata": {
    "tags": []
   },
   "outputs": [
    {
     "output_type": "stream",
     "name": "stdout",
     "text": "0.9726927412479848\n0.9600597569545448\nMean Absolute Error: 5.13852524819119\nMean Squared Error: 37.78257026702597\nRoot Mean Squared Error: 6.146752822997356\n"
    }
   ],
   "source": [
    "#sea_level predictions\n",
    "model_sea_df = final_df.dropna()\n",
    "X = model_sea_df[['global_anom','Global CO2 Equivalent Emissions (GtonsCO2/year)']]\n",
    "y = model_sea_df['diff'].to_numpy().reshape(-1,1)\n",
    "X_train,X_test,y_train,y_test = train_test_split(X,y)\n",
    "model3 = LinearRegression()\n",
    "model3.fit(X_train,y_train)\n",
    "pred3 = model3.predict(X_test)\n",
    "print(model3.score(X_train,y_train))\n",
    "print(model3.score(X_test,y_test))\n",
    "print('Mean Absolute Error:', mean_absolute_error(y_test, pred3))\n",
    "print('Mean Squared Error:', mean_squared_error(y_test, pred3))\n",
    "print('Root Mean Squared Error:', np.sqrt(mean_squared_error(y_test, pred3)))"
   ]
  },
  {
   "cell_type": "code",
   "execution_count": 16,
   "metadata": {},
   "outputs": [
    {
     "output_type": "execute_result",
     "data": {
      "text/plain": "     Year    CO2(ppm)  global_anom   sea_level\n138  2096  662.623069     3.396050  351.235976\n139  2097  663.184160     3.401199  351.851097\n140  2098  663.748386     3.406376  352.469654\n141  2099  664.309478     3.411525  353.084775\n142  2100  664.873704     3.416702  353.703332",
      "text/html": "<div>\n<style scoped>\n    .dataframe tbody tr th:only-of-type {\n        vertical-align: middle;\n    }\n\n    .dataframe tbody tr th {\n        vertical-align: top;\n    }\n\n    .dataframe thead th {\n        text-align: right;\n    }\n</style>\n<table border=\"1\" class=\"dataframe\">\n  <thead>\n    <tr style=\"text-align: right;\">\n      <th></th>\n      <th>Year</th>\n      <th>CO2(ppm)</th>\n      <th>global_anom</th>\n      <th>sea_level</th>\n    </tr>\n  </thead>\n  <tbody>\n    <tr>\n      <th>138</th>\n      <td>2096</td>\n      <td>662.623069</td>\n      <td>3.396050</td>\n      <td>351.235976</td>\n    </tr>\n    <tr>\n      <th>139</th>\n      <td>2097</td>\n      <td>663.184160</td>\n      <td>3.401199</td>\n      <td>351.851097</td>\n    </tr>\n    <tr>\n      <th>140</th>\n      <td>2098</td>\n      <td>663.748386</td>\n      <td>3.406376</td>\n      <td>352.469654</td>\n    </tr>\n    <tr>\n      <th>141</th>\n      <td>2099</td>\n      <td>664.309478</td>\n      <td>3.411525</td>\n      <td>353.084775</td>\n    </tr>\n    <tr>\n      <th>142</th>\n      <td>2100</td>\n      <td>664.873704</td>\n      <td>3.416702</td>\n      <td>353.703332</td>\n    </tr>\n  </tbody>\n</table>\n</div>"
     },
     "metadata": {},
     "execution_count": 16
    }
   ],
   "source": [
    "features1 = final_df[final_df['Year']>2020][['global_anom','Global CO2 Equivalent Emissions (GtonsCO2/year)']]\n",
    "pred3 = model3.predict(features1)\n",
    "final_df.iloc[63:,4] = pred3.ravel()\n",
    "final_df = final_df.iloc[:,[0,2,3,4]].rename({'diff':'sea_level'},axis=1)\n",
    "final_df.tail()"
   ]
  },
  {
   "cell_type": "code",
   "execution_count": 21,
   "metadata": {},
   "outputs": [],
   "source": [
    "#global data projections\n",
    "final_df.to_csv('../data/cleaned/global_projection.csv',index=False)"
   ]
  },
  {
   "cell_type": "code",
   "execution_count": null,
   "metadata": {},
   "outputs": [],
   "source": []
  }
 ]
}