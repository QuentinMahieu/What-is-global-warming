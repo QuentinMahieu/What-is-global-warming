{
 "metadata": {
  "language_info": {
   "codemirror_mode": {
    "name": "ipython",
    "version": 3
   },
   "file_extension": ".py",
   "mimetype": "text/x-python",
   "name": "python",
   "nbconvert_exporter": "python",
   "pygments_lexer": "ipython3",
   "version": "3.8.5-final"
  },
  "orig_nbformat": 2,
  "kernelspec": {
   "name": "python3",
   "display_name": "Python 3.8.5 64-bit ('base': conda)",
   "metadata": {
    "interpreter": {
     "hash": "dca0ade3e726a953b501b15e8e990130d2b7799f14cfd9f4271676035ebe5511"
    }
   }
  }
 },
 "nbformat": 4,
 "nbformat_minor": 2,
 "cells": [
  {
   "cell_type": "code",
   "execution_count": 1,
   "metadata": {},
   "outputs": [],
   "source": [
    "from sklearn.linear_model import LinearRegression,Lasso\n",
    "from sklearn.model_selection import train_test_split, GridSearchCV\n",
    "from sklearn.metrics import mean_squared_error,mean_absolute_error, r2_score\n",
    "import numpy as np\n",
    "import pandas as pd\n",
    "import matplotlib.pyplot as plt\n",
    "import datetime as dt"
   ]
  },
  {
   "cell_type": "code",
   "execution_count": 3,
   "metadata": {},
   "outputs": [
    {
     "output_type": "execute_result",
     "data": {
      "text/plain": [
       "   Year  avg_temp  max_temp  min_temp  rainfall_anom\n",
       "0  1960     -0.66     -0.70     -0.63          -7.64\n",
       "1  1961      0.05      0.29     -0.21        -129.90\n",
       "2  1962     -0.11     -0.08     -0.16         -29.61\n",
       "3  1963     -0.13     -0.32      0.04           9.55\n",
       "4  1964     -0.22     -0.21     -0.23         -40.04"
      ],
      "text/html": "<div>\n<style scoped>\n    .dataframe tbody tr th:only-of-type {\n        vertical-align: middle;\n    }\n\n    .dataframe tbody tr th {\n        vertical-align: top;\n    }\n\n    .dataframe thead th {\n        text-align: right;\n    }\n</style>\n<table border=\"1\" class=\"dataframe\">\n  <thead>\n    <tr style=\"text-align: right;\">\n      <th></th>\n      <th>Year</th>\n      <th>avg_temp</th>\n      <th>max_temp</th>\n      <th>min_temp</th>\n      <th>rainfall_anom</th>\n    </tr>\n  </thead>\n  <tbody>\n    <tr>\n      <th>0</th>\n      <td>1960</td>\n      <td>-0.66</td>\n      <td>-0.70</td>\n      <td>-0.63</td>\n      <td>-7.64</td>\n    </tr>\n    <tr>\n      <th>1</th>\n      <td>1961</td>\n      <td>0.05</td>\n      <td>0.29</td>\n      <td>-0.21</td>\n      <td>-129.90</td>\n    </tr>\n    <tr>\n      <th>2</th>\n      <td>1962</td>\n      <td>-0.11</td>\n      <td>-0.08</td>\n      <td>-0.16</td>\n      <td>-29.61</td>\n    </tr>\n    <tr>\n      <th>3</th>\n      <td>1963</td>\n      <td>-0.13</td>\n      <td>-0.32</td>\n      <td>0.04</td>\n      <td>9.55</td>\n    </tr>\n    <tr>\n      <th>4</th>\n      <td>1964</td>\n      <td>-0.22</td>\n      <td>-0.21</td>\n      <td>-0.23</td>\n      <td>-40.04</td>\n    </tr>\n  </tbody>\n</table>\n</div>"
     },
     "metadata": {},
     "execution_count": 3
    }
   ],
   "source": [
    "#global anomalies Australia\n",
    "aus_sum = pd.read_csv('../data/cleaned/australia_extreme_summary.csv')\n",
    "aus_sum = aus_sum[aus_sum['Year']>1959]\n",
    "cols = ['avg_temp', 'max_temp', 'min_temp', 'rainfall_anom']\n",
    "aus_sum = aus_sum[['Year', 'avg_temp', 'max_temp', 'min_temp', 'rainfall_anom']].\\\n",
    "    reset_index(drop=True)\n",
    "aus_sum.head()"
   ]
  },
  {
   "cell_type": "code",
   "execution_count": 13,
   "metadata": {},
   "outputs": [
    {
     "output_type": "execute_result",
     "data": {
      "text/plain": [
       "   Year       Aruba  Afghanistan    Angola   Albania  Andorra  Arab World  \\\n",
       "0  1960  204.620372     0.046057  0.100835  1.258195      NaN    0.607448   \n",
       "1  1961  208.822811     0.053589  0.082204  1.374186      NaN    0.660638   \n",
       "2  1962  226.118079     0.073721  0.210531  1.439956      NaN    0.724944   \n",
       "3  1963  214.800370     0.074161  0.202737  1.181681      NaN    0.850567   \n",
       "4  1964  207.615777     0.086174  0.213560  1.111742      NaN    0.969476   \n",
       "\n",
       "   United Arab Emirates  Argentina  Armenia  ...  Virgin Islands (U.S.)  \\\n",
       "0              0.119035   2.383343      NaN  ...                    NaN   \n",
       "1              0.109141   2.458551      NaN  ...                    NaN   \n",
       "2              0.163533   2.538446      NaN  ...                    NaN   \n",
       "3              0.175833   2.330685      NaN  ...                    NaN   \n",
       "4              0.132825   2.553442      NaN  ...                    NaN   \n",
       "\n",
       "    Vietnam   Vanuatu     World     Samoa  Kosovo  Yemen, Rep.  South Africa  \\\n",
       "0  0.181947       NaN  3.045939  0.135028     NaN     0.011038      5.727221   \n",
       "1  0.183099       NaN  2.992537  0.163552     NaN     0.013599      5.832621   \n",
       "2  0.217694  0.594994  3.038068  0.158366     NaN     0.012729      5.887170   \n",
       "3  0.196997  0.471835  3.141706  0.184026     NaN     0.014518      5.961336   \n",
       "4  0.209870  0.864439  3.241921  0.208112     NaN     0.017550      6.332342   \n",
       "\n",
       "     Zambia  Zimbabwe  \n",
       "0       NaN       NaN  \n",
       "1       NaN       NaN  \n",
       "2       NaN       NaN  \n",
       "3       NaN       NaN  \n",
       "4  0.946606  1.034903  \n",
       "\n",
       "[5 rows x 265 columns]"
      ],
      "text/html": "<div>\n<style scoped>\n    .dataframe tbody tr th:only-of-type {\n        vertical-align: middle;\n    }\n\n    .dataframe tbody tr th {\n        vertical-align: top;\n    }\n\n    .dataframe thead th {\n        text-align: right;\n    }\n</style>\n<table border=\"1\" class=\"dataframe\">\n  <thead>\n    <tr style=\"text-align: right;\">\n      <th></th>\n      <th>Year</th>\n      <th>Aruba</th>\n      <th>Afghanistan</th>\n      <th>Angola</th>\n      <th>Albania</th>\n      <th>Andorra</th>\n      <th>Arab World</th>\n      <th>United Arab Emirates</th>\n      <th>Argentina</th>\n      <th>Armenia</th>\n      <th>...</th>\n      <th>Virgin Islands (U.S.)</th>\n      <th>Vietnam</th>\n      <th>Vanuatu</th>\n      <th>World</th>\n      <th>Samoa</th>\n      <th>Kosovo</th>\n      <th>Yemen, Rep.</th>\n      <th>South Africa</th>\n      <th>Zambia</th>\n      <th>Zimbabwe</th>\n    </tr>\n  </thead>\n  <tbody>\n    <tr>\n      <th>0</th>\n      <td>1960</td>\n      <td>204.620372</td>\n      <td>0.046057</td>\n      <td>0.100835</td>\n      <td>1.258195</td>\n      <td>NaN</td>\n      <td>0.607448</td>\n      <td>0.119035</td>\n      <td>2.383343</td>\n      <td>NaN</td>\n      <td>...</td>\n      <td>NaN</td>\n      <td>0.181947</td>\n      <td>NaN</td>\n      <td>3.045939</td>\n      <td>0.135028</td>\n      <td>NaN</td>\n      <td>0.011038</td>\n      <td>5.727221</td>\n      <td>NaN</td>\n      <td>NaN</td>\n    </tr>\n    <tr>\n      <th>1</th>\n      <td>1961</td>\n      <td>208.822811</td>\n      <td>0.053589</td>\n      <td>0.082204</td>\n      <td>1.374186</td>\n      <td>NaN</td>\n      <td>0.660638</td>\n      <td>0.109141</td>\n      <td>2.458551</td>\n      <td>NaN</td>\n      <td>...</td>\n      <td>NaN</td>\n      <td>0.183099</td>\n      <td>NaN</td>\n      <td>2.992537</td>\n      <td>0.163552</td>\n      <td>NaN</td>\n      <td>0.013599</td>\n      <td>5.832621</td>\n      <td>NaN</td>\n      <td>NaN</td>\n    </tr>\n    <tr>\n      <th>2</th>\n      <td>1962</td>\n      <td>226.118079</td>\n      <td>0.073721</td>\n      <td>0.210531</td>\n      <td>1.439956</td>\n      <td>NaN</td>\n      <td>0.724944</td>\n      <td>0.163533</td>\n      <td>2.538446</td>\n      <td>NaN</td>\n      <td>...</td>\n      <td>NaN</td>\n      <td>0.217694</td>\n      <td>0.594994</td>\n      <td>3.038068</td>\n      <td>0.158366</td>\n      <td>NaN</td>\n      <td>0.012729</td>\n      <td>5.887170</td>\n      <td>NaN</td>\n      <td>NaN</td>\n    </tr>\n    <tr>\n      <th>3</th>\n      <td>1963</td>\n      <td>214.800370</td>\n      <td>0.074161</td>\n      <td>0.202737</td>\n      <td>1.181681</td>\n      <td>NaN</td>\n      <td>0.850567</td>\n      <td>0.175833</td>\n      <td>2.330685</td>\n      <td>NaN</td>\n      <td>...</td>\n      <td>NaN</td>\n      <td>0.196997</td>\n      <td>0.471835</td>\n      <td>3.141706</td>\n      <td>0.184026</td>\n      <td>NaN</td>\n      <td>0.014518</td>\n      <td>5.961336</td>\n      <td>NaN</td>\n      <td>NaN</td>\n    </tr>\n    <tr>\n      <th>4</th>\n      <td>1964</td>\n      <td>207.615777</td>\n      <td>0.086174</td>\n      <td>0.213560</td>\n      <td>1.111742</td>\n      <td>NaN</td>\n      <td>0.969476</td>\n      <td>0.132825</td>\n      <td>2.553442</td>\n      <td>NaN</td>\n      <td>...</td>\n      <td>NaN</td>\n      <td>0.209870</td>\n      <td>0.864439</td>\n      <td>3.241921</td>\n      <td>0.208112</td>\n      <td>NaN</td>\n      <td>0.017550</td>\n      <td>6.332342</td>\n      <td>0.946606</td>\n      <td>1.034903</td>\n    </tr>\n  </tbody>\n</table>\n<p>5 rows × 265 columns</p>\n</div>"
     },
     "metadata": {},
     "execution_count": 13
    }
   ],
   "source": [
    "co2_cap1 = pd.read_csv('../data/raw/co2_per_capita.csv',skiprows=4)\n",
    "co2_cap2 = co2_cap1.iloc[:,4:].T\n",
    "co2_cap1 = co2_cap1[['Country Name','Country Code']]\n",
    "co2_cap2.columns = co2_cap1['Country Name'].to_list()\n",
    "co2_fin = co2_cap2.reset_index().rename({'index':'Year'},axis=1)\n",
    "co2_fin.head()"
   ]
  },
  {
   "cell_type": "code",
   "execution_count": 20,
   "metadata": {},
   "outputs": [
    {
     "output_type": "execute_result",
     "data": {
      "text/plain": [
       "   Year  Australia  avg_temp  max_temp  min_temp  rainfall_anom\n",
       "0  1960   8.582937     -0.66     -0.70     -0.63          -7.64\n",
       "1  1961   8.641569      0.05      0.29     -0.21        -129.90\n",
       "2  1962   8.835688     -0.11     -0.08     -0.16         -29.61\n",
       "3  1963   9.226440     -0.13     -0.32      0.04           9.55\n",
       "4  1964   9.759073     -0.22     -0.21     -0.23         -40.04"
      ],
      "text/html": "<div>\n<style scoped>\n    .dataframe tbody tr th:only-of-type {\n        vertical-align: middle;\n    }\n\n    .dataframe tbody tr th {\n        vertical-align: top;\n    }\n\n    .dataframe thead th {\n        text-align: right;\n    }\n</style>\n<table border=\"1\" class=\"dataframe\">\n  <thead>\n    <tr style=\"text-align: right;\">\n      <th></th>\n      <th>Year</th>\n      <th>Australia</th>\n      <th>avg_temp</th>\n      <th>max_temp</th>\n      <th>min_temp</th>\n      <th>rainfall_anom</th>\n    </tr>\n  </thead>\n  <tbody>\n    <tr>\n      <th>0</th>\n      <td>1960</td>\n      <td>8.582937</td>\n      <td>-0.66</td>\n      <td>-0.70</td>\n      <td>-0.63</td>\n      <td>-7.64</td>\n    </tr>\n    <tr>\n      <th>1</th>\n      <td>1961</td>\n      <td>8.641569</td>\n      <td>0.05</td>\n      <td>0.29</td>\n      <td>-0.21</td>\n      <td>-129.90</td>\n    </tr>\n    <tr>\n      <th>2</th>\n      <td>1962</td>\n      <td>8.835688</td>\n      <td>-0.11</td>\n      <td>-0.08</td>\n      <td>-0.16</td>\n      <td>-29.61</td>\n    </tr>\n    <tr>\n      <th>3</th>\n      <td>1963</td>\n      <td>9.226440</td>\n      <td>-0.13</td>\n      <td>-0.32</td>\n      <td>0.04</td>\n      <td>9.55</td>\n    </tr>\n    <tr>\n      <th>4</th>\n      <td>1964</td>\n      <td>9.759073</td>\n      <td>-0.22</td>\n      <td>-0.21</td>\n      <td>-0.23</td>\n      <td>-40.04</td>\n    </tr>\n  </tbody>\n</table>\n</div>"
     },
     "metadata": {},
     "execution_count": 20
    }
   ],
   "source": [
    "co2_aus = co2_fin.loc[:60,['Year','Australia']]\n",
    "co2_aus['Year'] = co2_aus['Year'].astype('int')\n",
    "fin = co2_aus.merge(aus_sum,on='Year',how='left')\n",
    "fin.head()"
   ]
  },
  {
   "cell_type": "code",
   "execution_count": 21,
   "metadata": {},
   "outputs": [
    {
     "output_type": "execute_result",
     "data": {
      "text/plain": [
       "                   Year  Australia  avg_temp  max_temp  min_temp  \\\n",
       "Year           1.000000   0.889087  0.750084  0.704527  0.688675   \n",
       "Australia      0.889087   1.000000  0.614141  0.539855  0.608989   \n",
       "avg_temp       0.750084   0.614141  1.000000  0.940175  0.893955   \n",
       "max_temp       0.704527   0.539855  0.940175  1.000000  0.689767   \n",
       "min_temp       0.688675   0.608989  0.893955  0.689767  1.000000   \n",
       "rainfall_anom  0.102815   0.180332 -0.277778 -0.473528  0.049881   \n",
       "\n",
       "               rainfall_anom  \n",
       "Year                0.102815  \n",
       "Australia           0.180332  \n",
       "avg_temp           -0.277778  \n",
       "max_temp           -0.473528  \n",
       "min_temp            0.049881  \n",
       "rainfall_anom       1.000000  "
      ],
      "text/html": "<div>\n<style scoped>\n    .dataframe tbody tr th:only-of-type {\n        vertical-align: middle;\n    }\n\n    .dataframe tbody tr th {\n        vertical-align: top;\n    }\n\n    .dataframe thead th {\n        text-align: right;\n    }\n</style>\n<table border=\"1\" class=\"dataframe\">\n  <thead>\n    <tr style=\"text-align: right;\">\n      <th></th>\n      <th>Year</th>\n      <th>Australia</th>\n      <th>avg_temp</th>\n      <th>max_temp</th>\n      <th>min_temp</th>\n      <th>rainfall_anom</th>\n    </tr>\n  </thead>\n  <tbody>\n    <tr>\n      <th>Year</th>\n      <td>1.000000</td>\n      <td>0.889087</td>\n      <td>0.750084</td>\n      <td>0.704527</td>\n      <td>0.688675</td>\n      <td>0.102815</td>\n    </tr>\n    <tr>\n      <th>Australia</th>\n      <td>0.889087</td>\n      <td>1.000000</td>\n      <td>0.614141</td>\n      <td>0.539855</td>\n      <td>0.608989</td>\n      <td>0.180332</td>\n    </tr>\n    <tr>\n      <th>avg_temp</th>\n      <td>0.750084</td>\n      <td>0.614141</td>\n      <td>1.000000</td>\n      <td>0.940175</td>\n      <td>0.893955</td>\n      <td>-0.277778</td>\n    </tr>\n    <tr>\n      <th>max_temp</th>\n      <td>0.704527</td>\n      <td>0.539855</td>\n      <td>0.940175</td>\n      <td>1.000000</td>\n      <td>0.689767</td>\n      <td>-0.473528</td>\n    </tr>\n    <tr>\n      <th>min_temp</th>\n      <td>0.688675</td>\n      <td>0.608989</td>\n      <td>0.893955</td>\n      <td>0.689767</td>\n      <td>1.000000</td>\n      <td>0.049881</td>\n    </tr>\n    <tr>\n      <th>rainfall_anom</th>\n      <td>0.102815</td>\n      <td>0.180332</td>\n      <td>-0.277778</td>\n      <td>-0.473528</td>\n      <td>0.049881</td>\n      <td>1.000000</td>\n    </tr>\n  </tbody>\n</table>\n</div>"
     },
     "metadata": {},
     "execution_count": 21
    }
   ],
   "source": [
    "fin.corr()"
   ]
  },
  {
   "cell_type": "code",
   "execution_count": 35,
   "metadata": {},
   "outputs": [
    {
     "output_type": "execute_result",
     "data": {
      "text/plain": [
       "<AxesSubplot:xlabel='Year'>"
      ]
     },
     "metadata": {},
     "execution_count": 35
    },
    {
     "output_type": "display_data",
     "data": {
      "text/plain": "<Figure size 432x288 with 1 Axes>",
      "image/svg+xml": "<?xml version=\"1.0\" encoding=\"utf-8\" standalone=\"no\"?>\n<!DOCTYPE svg PUBLIC \"-//W3C//DTD SVG 1.1//EN\"\n  \"http://www.w3.org/Graphics/SVG/1.1/DTD/svg11.dtd\">\n<!-- Created with matplotlib (https://matplotlib.org/) -->\n<svg height=\"262.19625pt\" version=\"1.1\" viewBox=\"0 0 371.590524 262.19625\" width=\"371.590524pt\" xmlns=\"http://www.w3.org/2000/svg\" xmlns:xlink=\"http://www.w3.org/1999/xlink\">\n <metadata>\n  <rdf:RDF xmlns:cc=\"http://creativecommons.org/ns#\" xmlns:dc=\"http://purl.org/dc/elements/1.1/\" xmlns:rdf=\"http://www.w3.org/1999/02/22-rdf-syntax-ns#\">\n   <cc:Work>\n    <dc:type rdf:resource=\"http://purl.org/dc/dcmitype/StillImage\"/>\n    <dc:date>2021-02-23T12:08:33.669074</dc:date>\n    <dc:format>image/svg+xml</dc:format>\n    <dc:creator>\n     <cc:Agent>\n      <dc:title>Matplotlib v3.3.4, https://matplotlib.org/</dc:title>\n     </cc:Agent>\n    </dc:creator>\n   </cc:Work>\n  </rdf:RDF>\n </metadata>\n <defs>\n  <style type=\"text/css\">*{stroke-linecap:butt;stroke-linejoin:round;}</style>\n </defs>\n <g id=\"figure_1\">\n  <g id=\"patch_1\">\n   <path d=\"M -0 262.19625 \nL 371.590524 262.19625 \nL 371.590524 0 \nL -0 0 \nz\n\" style=\"fill:none;\"/>\n  </g>\n  <g id=\"axes_1\">\n   <g id=\"patch_2\">\n    <path d=\"M 26.925 224.64 \nL 361.725 224.64 \nL 361.725 7.2 \nL 26.925 7.2 \nz\n\" style=\"fill:#ffffff;\"/>\n   </g>\n   <g id=\"matplotlib.axis_1\">\n    <g id=\"xtick_1\">\n     <g id=\"line2d_1\">\n      <defs>\n       <path d=\"M 0 0 \nL 0 3.5 \n\" id=\"m7750335b2e\" style=\"stroke:#000000;stroke-width:0.8;\"/>\n      </defs>\n      <g>\n       <use style=\"stroke:#000000;stroke-width:0.8;\" x=\"42.143182\" xlink:href=\"#m7750335b2e\" y=\"224.64\"/>\n      </g>\n     </g>\n     <g id=\"text_1\">\n      <!-- 1960 -->\n      <g transform=\"translate(29.418182 239.238437)scale(0.1 -0.1)\">\n       <defs>\n        <path d=\"M 12.40625 8.296875 \nL 28.515625 8.296875 \nL 28.515625 63.921875 \nL 10.984375 60.40625 \nL 10.984375 69.390625 \nL 28.421875 72.90625 \nL 38.28125 72.90625 \nL 38.28125 8.296875 \nL 54.390625 8.296875 \nL 54.390625 0 \nL 12.40625 0 \nz\n\" id=\"DejaVuSans-49\"/>\n        <path d=\"M 10.984375 1.515625 \nL 10.984375 10.5 \nQ 14.703125 8.734375 18.5 7.8125 \nQ 22.3125 6.890625 25.984375 6.890625 \nQ 35.75 6.890625 40.890625 13.453125 \nQ 46.046875 20.015625 46.78125 33.40625 \nQ 43.953125 29.203125 39.59375 26.953125 \nQ 35.25 24.703125 29.984375 24.703125 \nQ 19.046875 24.703125 12.671875 31.3125 \nQ 6.296875 37.9375 6.296875 49.421875 \nQ 6.296875 60.640625 12.9375 67.421875 \nQ 19.578125 74.21875 30.609375 74.21875 \nQ 43.265625 74.21875 49.921875 64.515625 \nQ 56.59375 54.828125 56.59375 36.375 \nQ 56.59375 19.140625 48.40625 8.859375 \nQ 40.234375 -1.421875 26.421875 -1.421875 \nQ 22.703125 -1.421875 18.890625 -0.6875 \nQ 15.09375 0.046875 10.984375 1.515625 \nz\nM 30.609375 32.421875 \nQ 37.25 32.421875 41.125 36.953125 \nQ 45.015625 41.5 45.015625 49.421875 \nQ 45.015625 57.28125 41.125 61.84375 \nQ 37.25 66.40625 30.609375 66.40625 \nQ 23.96875 66.40625 20.09375 61.84375 \nQ 16.21875 57.28125 16.21875 49.421875 \nQ 16.21875 41.5 20.09375 36.953125 \nQ 23.96875 32.421875 30.609375 32.421875 \nz\n\" id=\"DejaVuSans-57\"/>\n        <path d=\"M 33.015625 40.375 \nQ 26.375 40.375 22.484375 35.828125 \nQ 18.609375 31.296875 18.609375 23.390625 \nQ 18.609375 15.53125 22.484375 10.953125 \nQ 26.375 6.390625 33.015625 6.390625 \nQ 39.65625 6.390625 43.53125 10.953125 \nQ 47.40625 15.53125 47.40625 23.390625 \nQ 47.40625 31.296875 43.53125 35.828125 \nQ 39.65625 40.375 33.015625 40.375 \nz\nM 52.59375 71.296875 \nL 52.59375 62.3125 \nQ 48.875 64.0625 45.09375 64.984375 \nQ 41.3125 65.921875 37.59375 65.921875 \nQ 27.828125 65.921875 22.671875 59.328125 \nQ 17.53125 52.734375 16.796875 39.40625 \nQ 19.671875 43.65625 24.015625 45.921875 \nQ 28.375 48.1875 33.59375 48.1875 \nQ 44.578125 48.1875 50.953125 41.515625 \nQ 57.328125 34.859375 57.328125 23.390625 \nQ 57.328125 12.15625 50.6875 5.359375 \nQ 44.046875 -1.421875 33.015625 -1.421875 \nQ 20.359375 -1.421875 13.671875 8.265625 \nQ 6.984375 17.96875 6.984375 36.375 \nQ 6.984375 53.65625 15.1875 63.9375 \nQ 23.390625 74.21875 37.203125 74.21875 \nQ 40.921875 74.21875 44.703125 73.484375 \nQ 48.484375 72.75 52.59375 71.296875 \nz\n\" id=\"DejaVuSans-54\"/>\n        <path d=\"M 31.78125 66.40625 \nQ 24.171875 66.40625 20.328125 58.90625 \nQ 16.5 51.421875 16.5 36.375 \nQ 16.5 21.390625 20.328125 13.890625 \nQ 24.171875 6.390625 31.78125 6.390625 \nQ 39.453125 6.390625 43.28125 13.890625 \nQ 47.125 21.390625 47.125 36.375 \nQ 47.125 51.421875 43.28125 58.90625 \nQ 39.453125 66.40625 31.78125 66.40625 \nz\nM 31.78125 74.21875 \nQ 44.046875 74.21875 50.515625 64.515625 \nQ 56.984375 54.828125 56.984375 36.375 \nQ 56.984375 17.96875 50.515625 8.265625 \nQ 44.046875 -1.421875 31.78125 -1.421875 \nQ 19.53125 -1.421875 13.0625 8.265625 \nQ 6.59375 17.96875 6.59375 36.375 \nQ 6.59375 54.828125 13.0625 64.515625 \nQ 19.53125 74.21875 31.78125 74.21875 \nz\n\" id=\"DejaVuSans-48\"/>\n       </defs>\n       <use xlink:href=\"#DejaVuSans-49\"/>\n       <use x=\"63.623047\" xlink:href=\"#DejaVuSans-57\"/>\n       <use x=\"127.246094\" xlink:href=\"#DejaVuSans-54\"/>\n       <use x=\"190.869141\" xlink:href=\"#DejaVuSans-48\"/>\n      </g>\n     </g>\n    </g>\n    <g id=\"xtick_2\">\n     <g id=\"line2d_2\">\n      <g>\n       <use style=\"stroke:#000000;stroke-width:0.8;\" x=\"93.730239\" xlink:href=\"#m7750335b2e\" y=\"224.64\"/>\n      </g>\n     </g>\n     <g id=\"text_2\">\n      <!-- 1970 -->\n      <g transform=\"translate(81.005239 239.238437)scale(0.1 -0.1)\">\n       <defs>\n        <path d=\"M 8.203125 72.90625 \nL 55.078125 72.90625 \nL 55.078125 68.703125 \nL 28.609375 0 \nL 18.3125 0 \nL 43.21875 64.59375 \nL 8.203125 64.59375 \nz\n\" id=\"DejaVuSans-55\"/>\n       </defs>\n       <use xlink:href=\"#DejaVuSans-49\"/>\n       <use x=\"63.623047\" xlink:href=\"#DejaVuSans-57\"/>\n       <use x=\"127.246094\" xlink:href=\"#DejaVuSans-55\"/>\n       <use x=\"190.869141\" xlink:href=\"#DejaVuSans-48\"/>\n      </g>\n     </g>\n    </g>\n    <g id=\"xtick_3\">\n     <g id=\"line2d_3\">\n      <g>\n       <use style=\"stroke:#000000;stroke-width:0.8;\" x=\"145.317296\" xlink:href=\"#m7750335b2e\" y=\"224.64\"/>\n      </g>\n     </g>\n     <g id=\"text_3\">\n      <!-- 1980 -->\n      <g transform=\"translate(132.592296 239.238437)scale(0.1 -0.1)\">\n       <defs>\n        <path d=\"M 31.78125 34.625 \nQ 24.75 34.625 20.71875 30.859375 \nQ 16.703125 27.09375 16.703125 20.515625 \nQ 16.703125 13.921875 20.71875 10.15625 \nQ 24.75 6.390625 31.78125 6.390625 \nQ 38.8125 6.390625 42.859375 10.171875 \nQ 46.921875 13.96875 46.921875 20.515625 \nQ 46.921875 27.09375 42.890625 30.859375 \nQ 38.875 34.625 31.78125 34.625 \nz\nM 21.921875 38.8125 \nQ 15.578125 40.375 12.03125 44.71875 \nQ 8.5 49.078125 8.5 55.328125 \nQ 8.5 64.0625 14.71875 69.140625 \nQ 20.953125 74.21875 31.78125 74.21875 \nQ 42.671875 74.21875 48.875 69.140625 \nQ 55.078125 64.0625 55.078125 55.328125 \nQ 55.078125 49.078125 51.53125 44.71875 \nQ 48 40.375 41.703125 38.8125 \nQ 48.828125 37.15625 52.796875 32.3125 \nQ 56.78125 27.484375 56.78125 20.515625 \nQ 56.78125 9.90625 50.3125 4.234375 \nQ 43.84375 -1.421875 31.78125 -1.421875 \nQ 19.734375 -1.421875 13.25 4.234375 \nQ 6.78125 9.90625 6.78125 20.515625 \nQ 6.78125 27.484375 10.78125 32.3125 \nQ 14.796875 37.15625 21.921875 38.8125 \nz\nM 18.3125 54.390625 \nQ 18.3125 48.734375 21.84375 45.5625 \nQ 25.390625 42.390625 31.78125 42.390625 \nQ 38.140625 42.390625 41.71875 45.5625 \nQ 45.3125 48.734375 45.3125 54.390625 \nQ 45.3125 60.0625 41.71875 63.234375 \nQ 38.140625 66.40625 31.78125 66.40625 \nQ 25.390625 66.40625 21.84375 63.234375 \nQ 18.3125 60.0625 18.3125 54.390625 \nz\n\" id=\"DejaVuSans-56\"/>\n       </defs>\n       <use xlink:href=\"#DejaVuSans-49\"/>\n       <use x=\"63.623047\" xlink:href=\"#DejaVuSans-57\"/>\n       <use x=\"127.246094\" xlink:href=\"#DejaVuSans-56\"/>\n       <use x=\"190.869141\" xlink:href=\"#DejaVuSans-48\"/>\n      </g>\n     </g>\n    </g>\n    <g id=\"xtick_4\">\n     <g id=\"line2d_4\">\n      <g>\n       <use style=\"stroke:#000000;stroke-width:0.8;\" x=\"196.904353\" xlink:href=\"#m7750335b2e\" y=\"224.64\"/>\n      </g>\n     </g>\n     <g id=\"text_4\">\n      <!-- 1990 -->\n      <g transform=\"translate(184.179353 239.238437)scale(0.1 -0.1)\">\n       <use xlink:href=\"#DejaVuSans-49\"/>\n       <use x=\"63.623047\" xlink:href=\"#DejaVuSans-57\"/>\n       <use x=\"127.246094\" xlink:href=\"#DejaVuSans-57\"/>\n       <use x=\"190.869141\" xlink:href=\"#DejaVuSans-48\"/>\n      </g>\n     </g>\n    </g>\n    <g id=\"xtick_5\">\n     <g id=\"line2d_5\">\n      <g>\n       <use style=\"stroke:#000000;stroke-width:0.8;\" x=\"248.49141\" xlink:href=\"#m7750335b2e\" y=\"224.64\"/>\n      </g>\n     </g>\n     <g id=\"text_5\">\n      <!-- 2000 -->\n      <g transform=\"translate(235.76641 239.238437)scale(0.1 -0.1)\">\n       <defs>\n        <path d=\"M 19.1875 8.296875 \nL 53.609375 8.296875 \nL 53.609375 0 \nL 7.328125 0 \nL 7.328125 8.296875 \nQ 12.9375 14.109375 22.625 23.890625 \nQ 32.328125 33.6875 34.8125 36.53125 \nQ 39.546875 41.84375 41.421875 45.53125 \nQ 43.3125 49.21875 43.3125 52.78125 \nQ 43.3125 58.59375 39.234375 62.25 \nQ 35.15625 65.921875 28.609375 65.921875 \nQ 23.96875 65.921875 18.8125 64.3125 \nQ 13.671875 62.703125 7.8125 59.421875 \nL 7.8125 69.390625 \nQ 13.765625 71.78125 18.9375 73 \nQ 24.125 74.21875 28.421875 74.21875 \nQ 39.75 74.21875 46.484375 68.546875 \nQ 53.21875 62.890625 53.21875 53.421875 \nQ 53.21875 48.921875 51.53125 44.890625 \nQ 49.859375 40.875 45.40625 35.40625 \nQ 44.1875 33.984375 37.640625 27.21875 \nQ 31.109375 20.453125 19.1875 8.296875 \nz\n\" id=\"DejaVuSans-50\"/>\n       </defs>\n       <use xlink:href=\"#DejaVuSans-50\"/>\n       <use x=\"63.623047\" xlink:href=\"#DejaVuSans-48\"/>\n       <use x=\"127.246094\" xlink:href=\"#DejaVuSans-48\"/>\n       <use x=\"190.869141\" xlink:href=\"#DejaVuSans-48\"/>\n      </g>\n     </g>\n    </g>\n    <g id=\"xtick_6\">\n     <g id=\"line2d_6\">\n      <g>\n       <use style=\"stroke:#000000;stroke-width:0.8;\" x=\"300.078467\" xlink:href=\"#m7750335b2e\" y=\"224.64\"/>\n      </g>\n     </g>\n     <g id=\"text_6\">\n      <!-- 2010 -->\n      <g transform=\"translate(287.353467 239.238437)scale(0.1 -0.1)\">\n       <use xlink:href=\"#DejaVuSans-50\"/>\n       <use x=\"63.623047\" xlink:href=\"#DejaVuSans-48\"/>\n       <use x=\"127.246094\" xlink:href=\"#DejaVuSans-49\"/>\n       <use x=\"190.869141\" xlink:href=\"#DejaVuSans-48\"/>\n      </g>\n     </g>\n    </g>\n    <g id=\"xtick_7\">\n     <g id=\"line2d_7\">\n      <g>\n       <use style=\"stroke:#000000;stroke-width:0.8;\" x=\"351.665524\" xlink:href=\"#m7750335b2e\" y=\"224.64\"/>\n      </g>\n     </g>\n     <g id=\"text_7\">\n      <!-- 2020 -->\n      <g transform=\"translate(338.940524 239.238437)scale(0.1 -0.1)\">\n       <use xlink:href=\"#DejaVuSans-50\"/>\n       <use x=\"63.623047\" xlink:href=\"#DejaVuSans-48\"/>\n       <use x=\"127.246094\" xlink:href=\"#DejaVuSans-50\"/>\n       <use x=\"190.869141\" xlink:href=\"#DejaVuSans-48\"/>\n      </g>\n     </g>\n    </g>\n    <g id=\"text_8\">\n     <!-- Year -->\n     <g transform=\"translate(183.7375 252.916562)scale(0.1 -0.1)\">\n      <defs>\n       <path d=\"M -0.203125 72.90625 \nL 10.40625 72.90625 \nL 30.609375 42.921875 \nL 50.6875 72.90625 \nL 61.28125 72.90625 \nL 35.5 34.71875 \nL 35.5 0 \nL 25.59375 0 \nL 25.59375 34.71875 \nz\n\" id=\"DejaVuSans-89\"/>\n       <path d=\"M 56.203125 29.59375 \nL 56.203125 25.203125 \nL 14.890625 25.203125 \nQ 15.484375 15.921875 20.484375 11.0625 \nQ 25.484375 6.203125 34.421875 6.203125 \nQ 39.59375 6.203125 44.453125 7.46875 \nQ 49.3125 8.734375 54.109375 11.28125 \nL 54.109375 2.78125 \nQ 49.265625 0.734375 44.1875 -0.34375 \nQ 39.109375 -1.421875 33.890625 -1.421875 \nQ 20.796875 -1.421875 13.15625 6.1875 \nQ 5.515625 13.8125 5.515625 26.8125 \nQ 5.515625 40.234375 12.765625 48.109375 \nQ 20.015625 56 32.328125 56 \nQ 43.359375 56 49.78125 48.890625 \nQ 56.203125 41.796875 56.203125 29.59375 \nz\nM 47.21875 32.234375 \nQ 47.125 39.59375 43.09375 43.984375 \nQ 39.0625 48.390625 32.421875 48.390625 \nQ 24.90625 48.390625 20.390625 44.140625 \nQ 15.875 39.890625 15.1875 32.171875 \nz\n\" id=\"DejaVuSans-101\"/>\n       <path d=\"M 34.28125 27.484375 \nQ 23.390625 27.484375 19.1875 25 \nQ 14.984375 22.515625 14.984375 16.5 \nQ 14.984375 11.71875 18.140625 8.90625 \nQ 21.296875 6.109375 26.703125 6.109375 \nQ 34.1875 6.109375 38.703125 11.40625 \nQ 43.21875 16.703125 43.21875 25.484375 \nL 43.21875 27.484375 \nz\nM 52.203125 31.203125 \nL 52.203125 0 \nL 43.21875 0 \nL 43.21875 8.296875 \nQ 40.140625 3.328125 35.546875 0.953125 \nQ 30.953125 -1.421875 24.3125 -1.421875 \nQ 15.921875 -1.421875 10.953125 3.296875 \nQ 6 8.015625 6 15.921875 \nQ 6 25.140625 12.171875 29.828125 \nQ 18.359375 34.515625 30.609375 34.515625 \nL 43.21875 34.515625 \nL 43.21875 35.40625 \nQ 43.21875 41.609375 39.140625 45 \nQ 35.0625 48.390625 27.6875 48.390625 \nQ 23 48.390625 18.546875 47.265625 \nQ 14.109375 46.140625 10.015625 43.890625 \nL 10.015625 52.203125 \nQ 14.9375 54.109375 19.578125 55.046875 \nQ 24.21875 56 28.609375 56 \nQ 40.484375 56 46.34375 49.84375 \nQ 52.203125 43.703125 52.203125 31.203125 \nz\n\" id=\"DejaVuSans-97\"/>\n       <path d=\"M 41.109375 46.296875 \nQ 39.59375 47.171875 37.8125 47.578125 \nQ 36.03125 48 33.890625 48 \nQ 26.265625 48 22.1875 43.046875 \nQ 18.109375 38.09375 18.109375 28.8125 \nL 18.109375 0 \nL 9.078125 0 \nL 9.078125 54.6875 \nL 18.109375 54.6875 \nL 18.109375 46.1875 \nQ 20.953125 51.171875 25.484375 53.578125 \nQ 30.03125 56 36.53125 56 \nQ 37.453125 56 38.578125 55.875 \nQ 39.703125 55.765625 41.0625 55.515625 \nz\n\" id=\"DejaVuSans-114\"/>\n      </defs>\n      <use xlink:href=\"#DejaVuSans-89\"/>\n      <use x=\"47.833984\" xlink:href=\"#DejaVuSans-101\"/>\n      <use x=\"109.357422\" xlink:href=\"#DejaVuSans-97\"/>\n      <use x=\"170.636719\" xlink:href=\"#DejaVuSans-114\"/>\n     </g>\n    </g>\n   </g>\n   <g id=\"matplotlib.axis_2\">\n    <g id=\"ytick_1\">\n     <g id=\"line2d_8\">\n      <defs>\n       <path d=\"M 0 0 \nL -3.5 0 \n\" id=\"mf7f79244cb\" style=\"stroke:#000000;stroke-width:0.8;\"/>\n      </defs>\n      <g>\n       <use style=\"stroke:#000000;stroke-width:0.8;\" x=\"26.925\" xlink:href=\"#mf7f79244cb\" y=\"185.630063\"/>\n      </g>\n     </g>\n     <g id=\"text_9\">\n      <!-- 10 -->\n      <g transform=\"translate(7.2 189.429282)scale(0.1 -0.1)\">\n       <use xlink:href=\"#DejaVuSans-49\"/>\n       <use x=\"63.623047\" xlink:href=\"#DejaVuSans-48\"/>\n      </g>\n     </g>\n    </g>\n    <g id=\"ytick_2\">\n     <g id=\"line2d_9\">\n      <g>\n       <use style=\"stroke:#000000;stroke-width:0.8;\" x=\"26.925\" xlink:href=\"#mf7f79244cb\" y=\"144.522091\"/>\n      </g>\n     </g>\n     <g id=\"text_10\">\n      <!-- 12 -->\n      <g transform=\"translate(7.2 148.321309)scale(0.1 -0.1)\">\n       <use xlink:href=\"#DejaVuSans-49\"/>\n       <use x=\"63.623047\" xlink:href=\"#DejaVuSans-50\"/>\n      </g>\n     </g>\n    </g>\n    <g id=\"ytick_3\">\n     <g id=\"line2d_10\">\n      <g>\n       <use style=\"stroke:#000000;stroke-width:0.8;\" x=\"26.925\" xlink:href=\"#mf7f79244cb\" y=\"103.414118\"/>\n      </g>\n     </g>\n     <g id=\"text_11\">\n      <!-- 14 -->\n      <g transform=\"translate(7.2 107.213337)scale(0.1 -0.1)\">\n       <defs>\n        <path d=\"M 37.796875 64.3125 \nL 12.890625 25.390625 \nL 37.796875 25.390625 \nz\nM 35.203125 72.90625 \nL 47.609375 72.90625 \nL 47.609375 25.390625 \nL 58.015625 25.390625 \nL 58.015625 17.1875 \nL 47.609375 17.1875 \nL 47.609375 0 \nL 37.796875 0 \nL 37.796875 17.1875 \nL 4.890625 17.1875 \nL 4.890625 26.703125 \nz\n\" id=\"DejaVuSans-52\"/>\n       </defs>\n       <use xlink:href=\"#DejaVuSans-49\"/>\n       <use x=\"63.623047\" xlink:href=\"#DejaVuSans-52\"/>\n      </g>\n     </g>\n    </g>\n    <g id=\"ytick_4\">\n     <g id=\"line2d_11\">\n      <g>\n       <use style=\"stroke:#000000;stroke-width:0.8;\" x=\"26.925\" xlink:href=\"#mf7f79244cb\" y=\"62.306146\"/>\n      </g>\n     </g>\n     <g id=\"text_12\">\n      <!-- 16 -->\n      <g transform=\"translate(7.2 66.105365)scale(0.1 -0.1)\">\n       <use xlink:href=\"#DejaVuSans-49\"/>\n       <use x=\"63.623047\" xlink:href=\"#DejaVuSans-54\"/>\n      </g>\n     </g>\n    </g>\n    <g id=\"ytick_5\">\n     <g id=\"line2d_12\">\n      <g>\n       <use style=\"stroke:#000000;stroke-width:0.8;\" x=\"26.925\" xlink:href=\"#mf7f79244cb\" y=\"21.198174\"/>\n      </g>\n     </g>\n     <g id=\"text_13\">\n      <!-- 18 -->\n      <g transform=\"translate(7.2 24.997392)scale(0.1 -0.1)\">\n       <use xlink:href=\"#DejaVuSans-49\"/>\n       <use x=\"63.623047\" xlink:href=\"#DejaVuSans-56\"/>\n      </g>\n     </g>\n    </g>\n   </g>\n   <g id=\"line2d_13\">\n    <path clip-path=\"url(#pfef8cc4eeb)\" d=\"M 42.143182 214.756364 \nL 47.301888 213.551235 \nL 52.460593 209.561315 \nL 57.619299 201.529806 \nL 62.778005 190.582064 \nL 67.93671 172.838878 \nL 73.095416 178.886456 \nL 78.254122 165.988164 \nL 83.412827 160.756293 \nL 88.571533 152.732291 \nL 93.730239 148.573476 \nL 98.888945 148.445485 \nL 104.04765 145.516255 \nL 109.206356 128.496418 \nL 114.365062 133.018667 \nL 119.523767 130.958519 \nL 124.682473 135.955358 \nL 129.841179 119.201714 \nL 134.999884 101.978245 \nL 140.15859 100.760764 \nL 145.317296 82.348009 \nL 150.476002 73.970516 \nL 155.634707 74.12609 \nL 160.793413 90.257838 \nL 165.952119 78.318209 \nL 171.110824 76.521073 \nL 176.26953 83.259431 \nL 181.428236 67.507172 \nL 186.586941 66.495711 \nL 191.745647 51.620891 \nL 196.904353 73.551609 \nL 202.063059 80.229916 \nL 207.221764 76.328723 \nL 212.38047 68.442501 \nL 217.539176 71.008986 \nL 222.697881 70.599293 \nL 227.856587 51.992148 \nL 233.015293 51.735782 \nL 238.173998 43.073866 \nL 243.332704 37.840784 \nL 248.49141 37.628828 \nL 253.650116 47.232522 \nL 258.808821 34.137899 \nL 263.967527 43.767294 \nL 269.126233 41.207164 \nL 274.284938 38.263913 \nL 279.443644 28.363328 \nL 284.60235 23.967617 \nL 289.761055 17.891538 \nL 294.919761 17.083636 \nL 300.078467 26.524841 \nL 305.237173 30.676074 \nL 310.395878 40.253678 \nL 315.554584 60.290768 \nL 320.71329 74.821281 \nL 325.871995 75.876225 \nL 331.030701 71.777002 \nL 336.189407 42.779859 \nL 341.348112 46.068497 \nL 346.506818 36.202583 \n\" style=\"fill:none;stroke:#1f77b4;stroke-linecap:square;stroke-width:1.5;\"/>\n   </g>\n   <g id=\"patch_3\">\n    <path d=\"M 26.925 224.64 \nL 26.925 7.2 \n\" style=\"fill:none;stroke:#000000;stroke-linecap:square;stroke-linejoin:miter;stroke-width:0.8;\"/>\n   </g>\n   <g id=\"patch_4\">\n    <path d=\"M 361.725 224.64 \nL 361.725 7.2 \n\" style=\"fill:none;stroke:#000000;stroke-linecap:square;stroke-linejoin:miter;stroke-width:0.8;\"/>\n   </g>\n   <g id=\"patch_5\">\n    <path d=\"M 26.925 224.64 \nL 361.725 224.64 \n\" style=\"fill:none;stroke:#000000;stroke-linecap:square;stroke-linejoin:miter;stroke-width:0.8;\"/>\n   </g>\n   <g id=\"patch_6\">\n    <path d=\"M 26.925 7.2 \nL 361.725 7.2 \n\" style=\"fill:none;stroke:#000000;stroke-linecap:square;stroke-linejoin:miter;stroke-width:0.8;\"/>\n   </g>\n  </g>\n </g>\n <defs>\n  <clipPath id=\"pfef8cc4eeb\">\n   <rect height=\"217.44\" width=\"334.8\" x=\"26.925\" y=\"7.2\"/>\n  </clipPath>\n </defs>\n</svg>\n",
      "image/png": "[encoded data removed]"
     },
     "metadata": {
      "needs_background": "light"
     }
    }
   ],
   "source": [
    "final = fin.set_index('Year')\n",
    "final['Australia'].plot()"
   ]
  },
  {
   "cell_type": "code",
   "execution_count": 68,
   "metadata": {},
   "outputs": [
    {
     "output_type": "stream",
     "name": "stdout",
     "text": [
      "0.9988069640889344\n0.9994322807234122\nMean Absolute Error: 0.007893644224875854\nMean Squared Error: 9.23404234558904e-05\nRoot Mean Squared Error: 0.00960939246029063\n"
     ]
    }
   ],
   "source": [
    "from sklearn.metrics import mean_squared_error,mean_absolute_error, r2_score\n",
    "model_df = fin.dropna()\n",
    "X = model_df[['Year','Australia','max_temp','min_temp']]\n",
    "y = model_df['avg_temp'].to_numpy().reshape(-1,1)\n",
    "X_train,X_test,y_train,y_test = train_test_split(X,y)\n",
    "model = LinearRegression()\n",
    "model.fit(X_train,y_train)\n",
    "pred = model.predict(X_test)\n",
    "print(model.score(X_train,y_train))\n",
    "print(model.score(X_test,y_test))\n",
    "print('Mean Absolute Error:', mean_absolute_error(y_test, pred))\n",
    "print('Mean Squared Error:', mean_squared_error(y_test, pred))\n",
    "print('Root Mean Squared Error:', np.sqrt(mean_squared_error(y_test, pred)))"
   ]
  },
  {
   "cell_type": "code",
   "execution_count": 69,
   "metadata": {},
   "outputs": [
    {
     "output_type": "execute_result",
     "data": {
      "text/plain": [
       "array([[1.13852314]])"
      ]
     },
     "metadata": {},
     "execution_count": 69
    }
   ],
   "source": [
    "a = np.array([2021,17.27000,1.24,1.05]).reshape(1,-1)\n",
    "model.predict(a)"
   ]
  },
  {
   "cell_type": "code",
   "execution_count": 70,
   "metadata": {},
   "outputs": [],
   "source": [
    "# Save the model\n",
    "import joblib\n",
    "filename = 'aus_anomalie_pred.sav'\n",
    "joblib.dump(model, filename)\n",
    "\n",
    "# load the model from disk\n",
    "loaded_model = joblib.load('aus_anomalie_pred.sav')"
   ]
  },
  {
   "cell_type": "code",
   "execution_count": 71,
   "metadata": {},
   "outputs": [
    {
     "output_type": "execute_result",
     "data": {
      "text/plain": [
       "    Year  Australia  avg_temp  max_temp  min_temp  rainfall_anom\n",
       "56  2016   15.53922      0.99      0.83      1.15          66.06\n",
       "57  2017   16.95000      1.06      1.41      0.72          28.41\n",
       "58  2018   16.79000      1.12      1.54      0.69         -60.19\n",
       "59  2019   17.27000      1.52      2.10      0.94        -190.32\n",
       "60  2020        NaN      1.15      1.24      1.05          19.43"
      ],
      "text/html": "<div>\n<style scoped>\n    .dataframe tbody tr th:only-of-type {\n        vertical-align: middle;\n    }\n\n    .dataframe tbody tr th {\n        vertical-align: top;\n    }\n\n    .dataframe thead th {\n        text-align: right;\n    }\n</style>\n<table border=\"1\" class=\"dataframe\">\n  <thead>\n    <tr style=\"text-align: right;\">\n      <th></th>\n      <th>Year</th>\n      <th>Australia</th>\n      <th>avg_temp</th>\n      <th>max_temp</th>\n      <th>min_temp</th>\n      <th>rainfall_anom</th>\n    </tr>\n  </thead>\n  <tbody>\n    <tr>\n      <th>56</th>\n      <td>2016</td>\n      <td>15.53922</td>\n      <td>0.99</td>\n      <td>0.83</td>\n      <td>1.15</td>\n      <td>66.06</td>\n    </tr>\n    <tr>\n      <th>57</th>\n      <td>2017</td>\n      <td>16.95000</td>\n      <td>1.06</td>\n      <td>1.41</td>\n      <td>0.72</td>\n      <td>28.41</td>\n    </tr>\n    <tr>\n      <th>58</th>\n      <td>2018</td>\n      <td>16.79000</td>\n      <td>1.12</td>\n      <td>1.54</td>\n      <td>0.69</td>\n      <td>-60.19</td>\n    </tr>\n    <tr>\n      <th>59</th>\n      <td>2019</td>\n      <td>17.27000</td>\n      <td>1.52</td>\n      <td>2.10</td>\n      <td>0.94</td>\n      <td>-190.32</td>\n    </tr>\n    <tr>\n      <th>60</th>\n      <td>2020</td>\n      <td>NaN</td>\n      <td>1.15</td>\n      <td>1.24</td>\n      <td>1.05</td>\n      <td>19.43</td>\n    </tr>\n  </tbody>\n</table>\n</div>"
     },
     "metadata": {},
     "execution_count": 71
    }
   ],
   "source": [
    "fin.tail()"
   ]
  },
  {
   "cell_type": "code",
   "execution_count": null,
   "metadata": {},
   "outputs": [],
   "source": []
  }
 ]
}