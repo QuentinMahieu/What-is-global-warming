{
 "metadata": {
  "language_info": {
   "codemirror_mode": {
    "name": "ipython",
    "version": 3
   },
   "file_extension": ".py",
   "mimetype": "text/x-python",
   "name": "python",
   "nbconvert_exporter": "python",
   "pygments_lexer": "ipython3",
   "version": "3.8.5-final"
  },
  "orig_nbformat": 2,
  "kernelspec": {
   "name": "python3",
   "display_name": "Python 3",
   "language": "python"
  }
 },
 "nbformat": 4,
 "nbformat_minor": 2,
 "cells": [
  {
   "cell_type": "code",
   "execution_count": 62,
   "metadata": {},
   "outputs": [],
   "source": [
    "from sklearn.linear_model import LinearRegression\n",
    "from sklearn.neighbors import KNeighborsRegressor \n",
    "from sklearn.ensemble import RandomForestRegressor\n",
    "from sklearn.svm import SVR\n",
    "from sklearn.neural_network import MLPRegressor\n",
    "from sklearn.model_selection import TimeSeriesSplit,cross_val_score,train_test_split, GridSearchCV\n",
    "import numpy as np\n",
    "import pandas as pd\n",
    "import matplotlib.pyplot as plt\n",
    "import datetime as dt"
   ]
  },
  {
   "cell_type": "code",
   "execution_count": 89,
   "metadata": {},
   "outputs": [
    {
     "output_type": "execute_result",
     "data": {
      "text/plain": [
       "     Year  global_anom  NHem  SHem  global_smoothing  All forcings_dif_cum  \\\n",
       "130  2011         0.61  0.75  0.47              0.67              0.777294   \n",
       "131  2012         0.65  0.82  0.48              0.70              0.809796   \n",
       "132  2013         0.68  0.80  0.56              0.74              0.834173   \n",
       "133  2014         0.75  0.92  0.58              0.79              0.891053   \n",
       "134  2015         0.90  1.18  0.63              0.83              1.012937   \n",
       "135  2016         1.02  1.31  0.73              0.88              1.110445   \n",
       "136  2017         0.93  1.18  0.67              0.92              1.037314   \n",
       "137  2018         0.85  1.05  0.66              0.95              0.972309   \n",
       "138  2019         0.99  1.22  0.75              0.98              1.086068   \n",
       "139  2020         1.02  1.36  0.69              1.01              1.110445   \n",
       "\n",
       "     Human_dif_cum  Natural_dif_cum  \\\n",
       "130       0.754227         0.023067   \n",
       "131       0.782521         0.027276   \n",
       "132       0.803741         0.030432   \n",
       "133       0.853255         0.037798   \n",
       "134       0.959356         0.053581   \n",
       "135       1.044237         0.066208   \n",
       "136       0.980576         0.056738   \n",
       "137       0.923989         0.048320   \n",
       "138       1.023017         0.063052   \n",
       "139       1.044237         0.066208   \n",
       "\n",
       "     Anthropogenic tropospheric aerosol_dif_cum  Greenhouse gases_dif_cum  \\\n",
       "130                                   -0.458140                  1.156977   \n",
       "131                                   -0.477526                  1.201199   \n",
       "132                                   -0.492066                  1.234366   \n",
       "133                                   -0.525992                  1.311754   \n",
       "134                                   -0.598692                  1.477588   \n",
       "135                                   -0.656851                  1.610254   \n",
       "136                                   -0.613231                  1.510754   \n",
       "137                                   -0.574459                  1.422310   \n",
       "138                                   -0.642311                  1.577087   \n",
       "139                                   -0.656851                  1.610254   \n",
       "\n",
       "     Land use_dif_cum  Orbital changes_dif_cum  Ozone_dif_cum  Solar_dif_cum  \\\n",
       "130         -0.134424                 0.002586       0.002586       0.002586   \n",
       "131         -0.139760                 0.003058       0.003058       0.003058   \n",
       "132         -0.143761                 0.003412       0.003412       0.003412   \n",
       "133         -0.153098                 0.004237       0.004237       0.004237   \n",
       "134         -0.173106                 0.006007       0.006007       0.006007   \n",
       "135         -0.189112                 0.007422       0.007422       0.007422   \n",
       "136         -0.177107                 0.006361       0.006361       0.006361   \n",
       "137         -0.166437                 0.005417       0.005417       0.005417   \n",
       "138         -0.185110                 0.007069       0.007069       0.007069   \n",
       "139         -0.189112                 0.007422       0.007422       0.007422   \n",
       "\n",
       "     Volcanic_dif_cum          ds  \n",
       "130          0.002954  2011-12-31  \n",
       "131          0.005516  2012-12-31  \n",
       "132          0.007438  2013-12-31  \n",
       "133          0.011921  2014-12-31  \n",
       "134          0.021528  2015-12-31  \n",
       "135          0.029213  2016-12-31  \n",
       "136          0.023449  2017-12-31  \n",
       "137          0.018325  2018-12-31  \n",
       "138          0.027292  2019-12-31  \n",
       "139          0.029213  2020-12-31  "
      ],
      "text/html": "<div>\n<style scoped>\n    .dataframe tbody tr th:only-of-type {\n        vertical-align: middle;\n    }\n\n    .dataframe tbody tr th {\n        vertical-align: top;\n    }\n\n    .dataframe thead th {\n        text-align: right;\n    }\n</style>\n<table border=\"1\" class=\"dataframe\">\n  <thead>\n    <tr style=\"text-align: right;\">\n      <th></th>\n      <th>Year</th>\n      <th>global_anom</th>\n      <th>NHem</th>\n      <th>SHem</th>\n      <th>global_smoothing</th>\n      <th>All forcings_dif_cum</th>\n      <th>Human_dif_cum</th>\n      <th>Natural_dif_cum</th>\n      <th>Anthropogenic tropospheric aerosol_dif_cum</th>\n      <th>Greenhouse gases_dif_cum</th>\n      <th>Land use_dif_cum</th>\n      <th>Orbital changes_dif_cum</th>\n      <th>Ozone_dif_cum</th>\n      <th>Solar_dif_cum</th>\n      <th>Volcanic_dif_cum</th>\n      <th>ds</th>\n    </tr>\n  </thead>\n  <tbody>\n    <tr>\n      <th>130</th>\n      <td>2011</td>\n      <td>0.61</td>\n      <td>0.75</td>\n      <td>0.47</td>\n      <td>0.67</td>\n      <td>0.777294</td>\n      <td>0.754227</td>\n      <td>0.023067</td>\n      <td>-0.458140</td>\n      <td>1.156977</td>\n      <td>-0.134424</td>\n      <td>0.002586</td>\n      <td>0.002586</td>\n      <td>0.002586</td>\n      <td>0.002954</td>\n      <td>2011-12-31</td>\n    </tr>\n    <tr>\n      <th>131</th>\n      <td>2012</td>\n      <td>0.65</td>\n      <td>0.82</td>\n      <td>0.48</td>\n      <td>0.70</td>\n      <td>0.809796</td>\n      <td>0.782521</td>\n      <td>0.027276</td>\n      <td>-0.477526</td>\n      <td>1.201199</td>\n      <td>-0.139760</td>\n      <td>0.003058</td>\n      <td>0.003058</td>\n      <td>0.003058</td>\n      <td>0.005516</td>\n      <td>2012-12-31</td>\n    </tr>\n    <tr>\n      <th>132</th>\n      <td>2013</td>\n      <td>0.68</td>\n      <td>0.80</td>\n      <td>0.56</td>\n      <td>0.74</td>\n      <td>0.834173</td>\n      <td>0.803741</td>\n      <td>0.030432</td>\n      <td>-0.492066</td>\n      <td>1.234366</td>\n      <td>-0.143761</td>\n      <td>0.003412</td>\n      <td>0.003412</td>\n      <td>0.003412</td>\n      <td>0.007438</td>\n      <td>2013-12-31</td>\n    </tr>\n    <tr>\n      <th>133</th>\n      <td>2014</td>\n      <td>0.75</td>\n      <td>0.92</td>\n      <td>0.58</td>\n      <td>0.79</td>\n      <td>0.891053</td>\n      <td>0.853255</td>\n      <td>0.037798</td>\n      <td>-0.525992</td>\n      <td>1.311754</td>\n      <td>-0.153098</td>\n      <td>0.004237</td>\n      <td>0.004237</td>\n      <td>0.004237</td>\n      <td>0.011921</td>\n      <td>2014-12-31</td>\n    </tr>\n    <tr>\n      <th>134</th>\n      <td>2015</td>\n      <td>0.90</td>\n      <td>1.18</td>\n      <td>0.63</td>\n      <td>0.83</td>\n      <td>1.012937</td>\n      <td>0.959356</td>\n      <td>0.053581</td>\n      <td>-0.598692</td>\n      <td>1.477588</td>\n      <td>-0.173106</td>\n      <td>0.006007</td>\n      <td>0.006007</td>\n      <td>0.006007</td>\n      <td>0.021528</td>\n      <td>2015-12-31</td>\n    </tr>\n    <tr>\n      <th>135</th>\n      <td>2016</td>\n      <td>1.02</td>\n      <td>1.31</td>\n      <td>0.73</td>\n      <td>0.88</td>\n      <td>1.110445</td>\n      <td>1.044237</td>\n      <td>0.066208</td>\n      <td>-0.656851</td>\n      <td>1.610254</td>\n      <td>-0.189112</td>\n      <td>0.007422</td>\n      <td>0.007422</td>\n      <td>0.007422</td>\n      <td>0.029213</td>\n      <td>2016-12-31</td>\n    </tr>\n    <tr>\n      <th>136</th>\n      <td>2017</td>\n      <td>0.93</td>\n      <td>1.18</td>\n      <td>0.67</td>\n      <td>0.92</td>\n      <td>1.037314</td>\n      <td>0.980576</td>\n      <td>0.056738</td>\n      <td>-0.613231</td>\n      <td>1.510754</td>\n      <td>-0.177107</td>\n      <td>0.006361</td>\n      <td>0.006361</td>\n      <td>0.006361</td>\n      <td>0.023449</td>\n      <td>2017-12-31</td>\n    </tr>\n    <tr>\n      <th>137</th>\n      <td>2018</td>\n      <td>0.85</td>\n      <td>1.05</td>\n      <td>0.66</td>\n      <td>0.95</td>\n      <td>0.972309</td>\n      <td>0.923989</td>\n      <td>0.048320</td>\n      <td>-0.574459</td>\n      <td>1.422310</td>\n      <td>-0.166437</td>\n      <td>0.005417</td>\n      <td>0.005417</td>\n      <td>0.005417</td>\n      <td>0.018325</td>\n      <td>2018-12-31</td>\n    </tr>\n    <tr>\n      <th>138</th>\n      <td>2019</td>\n      <td>0.99</td>\n      <td>1.22</td>\n      <td>0.75</td>\n      <td>0.98</td>\n      <td>1.086068</td>\n      <td>1.023017</td>\n      <td>0.063052</td>\n      <td>-0.642311</td>\n      <td>1.577087</td>\n      <td>-0.185110</td>\n      <td>0.007069</td>\n      <td>0.007069</td>\n      <td>0.007069</td>\n      <td>0.027292</td>\n      <td>2019-12-31</td>\n    </tr>\n    <tr>\n      <th>139</th>\n      <td>2020</td>\n      <td>1.02</td>\n      <td>1.36</td>\n      <td>0.69</td>\n      <td>1.01</td>\n      <td>1.110445</td>\n      <td>1.044237</td>\n      <td>0.066208</td>\n      <td>-0.656851</td>\n      <td>1.610254</td>\n      <td>-0.189112</td>\n      <td>0.007422</td>\n      <td>0.007422</td>\n      <td>0.007422</td>\n      <td>0.029213</td>\n      <td>2020-12-31</td>\n    </tr>\n  </tbody>\n</table>\n</div>"
     },
     "metadata": {},
     "execution_count": 89
    }
   ],
   "source": [
    "df = pd.read_csv(\"../data/cleaned/global_anomalies.csv\")\n",
    "df['ds'] = df['Year'].apply(lambda x:dt.date(x,12,31))\n",
    "df.tail(10)"
   ]
  },
  {
   "cell_type": "code",
   "execution_count": 5,
   "metadata": {},
   "outputs": [],
   "source": [
    "dff = df.copy()\n",
    "# dff[\"All forcings Y-1\"] = df[\"All forcings\"]-df[\"All forcings\"].shift(1)\n",
    "# dff = dff.dropna()\n",
    "\n",
    "X = dff[\"Year\"].values.reshape(-1,1)\n",
    "y = dff[\"global_anom\"].values.reshape(-1,1)\n",
    "X_train, X_test, y_train, y_test = train_test_split(X,y)"
   ]
  },
  {
   "cell_type": "code",
   "execution_count": 6,
   "metadata": {},
   "outputs": [
    {
     "output_type": "stream",
     "name": "stdout",
     "text": [
      "LR: 0.597200 (0.391852)\n",
      "NN: -0.080803 (0.804377)\n",
      "KNN: 0.787556 (0.141310)\n",
      "RF: 0.799510 (0.147020)\n",
      "SVR: -0.252328 (0.949349)\n"
     ]
    },
    {
     "output_type": "display_data",
     "data": {
      "text/plain": "<Figure size 432x288 with 1 Axes>",
      "image/svg+xml": "<?xml version=\"1.0\" encoding=\"utf-8\" standalone=\"no\"?>\n<!DOCTYPE svg PUBLIC \"-//W3C//DTD SVG 1.1//EN\"\n  \"http://www.w3.org/Graphics/SVG/1.1/DTD/svg11.dtd\">\n<!-- Created with matplotlib (https://matplotlib.org/) -->\n<svg height=\"263.63625pt\" version=\"1.1\" viewBox=\"0 0 380.482812 263.63625\" width=\"380.482812pt\" xmlns=\"http://www.w3.org/2000/svg\" xmlns:xlink=\"http://www.w3.org/1999/xlink\">\n <metadata>\n  <rdf:RDF xmlns:cc=\"http://creativecommons.org/ns#\" xmlns:dc=\"http://purl.org/dc/elements/1.1/\" xmlns:rdf=\"http://www.w3.org/1999/02/22-rdf-syntax-ns#\">\n   <cc:Work>\n    <dc:type rdf:resource=\"http://purl.org/dc/dcmitype/StillImage\"/>\n    <dc:date>2021-02-06T11:10:44.130276</dc:date>\n    <dc:format>image/svg+xml</dc:format>\n    <dc:creator>\n     <cc:Agent>\n      <dc:title>Matplotlib v3.3.4, https://matplotlib.org/</dc:title>\n     </cc:Agent>\n    </dc:creator>\n   </cc:Work>\n  </rdf:RDF>\n </metadata>\n <defs>\n  <style type=\"text/css\">*{stroke-linecap:butt;stroke-linejoin:round;}</style>\n </defs>\n <g id=\"figure_1\">\n  <g id=\"patch_1\">\n   <path d=\"M -0 263.63625 \nL 380.482812 263.63625 \nL 380.482812 0 \nL -0 0 \nz\n\" style=\"fill:none;\"/>\n  </g>\n  <g id=\"axes_1\">\n   <g id=\"patch_2\">\n    <path d=\"M 38.482813 239.758125 \nL 373.282813 239.758125 \nL 373.282813 22.318125 \nL 38.482813 22.318125 \nz\n\" style=\"fill:#ffffff;\"/>\n   </g>\n   <g id=\"matplotlib.axis_1\">\n    <g id=\"xtick_1\">\n     <g id=\"line2d_1\">\n      <defs>\n       <path d=\"M 0 0 \nL 0 3.5 \n\" id=\"mbba9dcb928\" style=\"stroke:#000000;stroke-width:0.8;\"/>\n      </defs>\n      <g>\n       <use style=\"stroke:#000000;stroke-width:0.8;\" x=\"71.962813\" xlink:href=\"#mbba9dcb928\" y=\"239.758125\"/>\n      </g>\n     </g>\n     <g id=\"text_1\">\n      <!-- LR -->\n      <g transform=\"translate(65.702656 254.356563)scale(0.1 -0.1)\">\n       <defs>\n        <path d=\"M 9.8125 72.90625 \nL 19.671875 72.90625 \nL 19.671875 8.296875 \nL 55.171875 8.296875 \nL 55.171875 0 \nL 9.8125 0 \nz\n\" id=\"DejaVuSans-76\"/>\n        <path d=\"M 44.390625 34.1875 \nQ 47.5625 33.109375 50.5625 29.59375 \nQ 53.5625 26.078125 56.59375 19.921875 \nL 66.609375 0 \nL 56 0 \nL 46.6875 18.703125 \nQ 43.0625 26.03125 39.671875 28.421875 \nQ 36.28125 30.8125 30.421875 30.8125 \nL 19.671875 30.8125 \nL 19.671875 0 \nL 9.8125 0 \nL 9.8125 72.90625 \nL 32.078125 72.90625 \nQ 44.578125 72.90625 50.734375 67.671875 \nQ 56.890625 62.453125 56.890625 51.90625 \nQ 56.890625 45.015625 53.6875 40.46875 \nQ 50.484375 35.9375 44.390625 34.1875 \nz\nM 19.671875 64.796875 \nL 19.671875 38.921875 \nL 32.078125 38.921875 \nQ 39.203125 38.921875 42.84375 42.21875 \nQ 46.484375 45.515625 46.484375 51.90625 \nQ 46.484375 58.296875 42.84375 61.546875 \nQ 39.203125 64.796875 32.078125 64.796875 \nz\n\" id=\"DejaVuSans-82\"/>\n       </defs>\n       <use xlink:href=\"#DejaVuSans-76\"/>\n       <use x=\"55.712891\" xlink:href=\"#DejaVuSans-82\"/>\n      </g>\n     </g>\n    </g>\n    <g id=\"xtick_2\">\n     <g id=\"line2d_2\">\n      <g>\n       <use style=\"stroke:#000000;stroke-width:0.8;\" x=\"138.922813\" xlink:href=\"#mbba9dcb928\" y=\"239.758125\"/>\n      </g>\n     </g>\n     <g id=\"text_2\">\n      <!-- NN -->\n      <g transform=\"translate(131.441563 254.356563)scale(0.1 -0.1)\">\n       <defs>\n        <path d=\"M 9.8125 72.90625 \nL 23.09375 72.90625 \nL 55.421875 11.921875 \nL 55.421875 72.90625 \nL 64.984375 72.90625 \nL 64.984375 0 \nL 51.703125 0 \nL 19.390625 60.984375 \nL 19.390625 0 \nL 9.8125 0 \nz\n\" id=\"DejaVuSans-78\"/>\n       </defs>\n       <use xlink:href=\"#DejaVuSans-78\"/>\n       <use x=\"74.804688\" xlink:href=\"#DejaVuSans-78\"/>\n      </g>\n     </g>\n    </g>\n    <g id=\"xtick_3\">\n     <g id=\"line2d_3\">\n      <g>\n       <use style=\"stroke:#000000;stroke-width:0.8;\" x=\"205.882813\" xlink:href=\"#mbba9dcb928\" y=\"239.758125\"/>\n      </g>\n     </g>\n     <g id=\"text_3\">\n      <!-- KNN -->\n      <g transform=\"translate(195.122656 254.356563)scale(0.1 -0.1)\">\n       <defs>\n        <path d=\"M 9.8125 72.90625 \nL 19.671875 72.90625 \nL 19.671875 42.09375 \nL 52.390625 72.90625 \nL 65.09375 72.90625 \nL 28.90625 38.921875 \nL 67.671875 0 \nL 54.6875 0 \nL 19.671875 35.109375 \nL 19.671875 0 \nL 9.8125 0 \nz\n\" id=\"DejaVuSans-75\"/>\n       </defs>\n       <use xlink:href=\"#DejaVuSans-75\"/>\n       <use x=\"65.576172\" xlink:href=\"#DejaVuSans-78\"/>\n       <use x=\"140.380859\" xlink:href=\"#DejaVuSans-78\"/>\n      </g>\n     </g>\n    </g>\n    <g id=\"xtick_4\">\n     <g id=\"line2d_4\">\n      <g>\n       <use style=\"stroke:#000000;stroke-width:0.8;\" x=\"272.842813\" xlink:href=\"#mbba9dcb928\" y=\"239.758125\"/>\n      </g>\n     </g>\n     <g id=\"text_4\">\n      <!-- RF -->\n      <g transform=\"translate(266.492813 254.356563)scale(0.1 -0.1)\">\n       <defs>\n        <path d=\"M 9.8125 72.90625 \nL 51.703125 72.90625 \nL 51.703125 64.59375 \nL 19.671875 64.59375 \nL 19.671875 43.109375 \nL 48.578125 43.109375 \nL 48.578125 34.8125 \nL 19.671875 34.8125 \nL 19.671875 0 \nL 9.8125 0 \nz\n\" id=\"DejaVuSans-70\"/>\n       </defs>\n       <use xlink:href=\"#DejaVuSans-82\"/>\n       <use x=\"69.482422\" xlink:href=\"#DejaVuSans-70\"/>\n      </g>\n     </g>\n    </g>\n    <g id=\"xtick_5\">\n     <g id=\"line2d_5\">\n      <g>\n       <use style=\"stroke:#000000;stroke-width:0.8;\" x=\"339.802813\" xlink:href=\"#mbba9dcb928\" y=\"239.758125\"/>\n      </g>\n     </g>\n     <g id=\"text_5\">\n      <!-- SVR -->\n      <g transform=\"translate(329.734063 254.356563)scale(0.1 -0.1)\">\n       <defs>\n        <path d=\"M 53.515625 70.515625 \nL 53.515625 60.890625 \nQ 47.90625 63.578125 42.921875 64.890625 \nQ 37.9375 66.21875 33.296875 66.21875 \nQ 25.25 66.21875 20.875 63.09375 \nQ 16.5 59.96875 16.5 54.203125 \nQ 16.5 49.359375 19.40625 46.890625 \nQ 22.3125 44.4375 30.421875 42.921875 \nL 36.375 41.703125 \nQ 47.40625 39.59375 52.65625 34.296875 \nQ 57.90625 29 57.90625 20.125 \nQ 57.90625 9.515625 50.796875 4.046875 \nQ 43.703125 -1.421875 29.984375 -1.421875 \nQ 24.8125 -1.421875 18.96875 -0.25 \nQ 13.140625 0.921875 6.890625 3.21875 \nL 6.890625 13.375 \nQ 12.890625 10.015625 18.65625 8.296875 \nQ 24.421875 6.59375 29.984375 6.59375 \nQ 38.421875 6.59375 43.015625 9.90625 \nQ 47.609375 13.234375 47.609375 19.390625 \nQ 47.609375 24.75 44.3125 27.78125 \nQ 41.015625 30.8125 33.5 32.328125 \nL 27.484375 33.5 \nQ 16.453125 35.6875 11.515625 40.375 \nQ 6.59375 45.0625 6.59375 53.421875 \nQ 6.59375 63.09375 13.40625 68.65625 \nQ 20.21875 74.21875 32.171875 74.21875 \nQ 37.3125 74.21875 42.625 73.28125 \nQ 47.953125 72.359375 53.515625 70.515625 \nz\n\" id=\"DejaVuSans-83\"/>\n        <path d=\"M 28.609375 0 \nL 0.78125 72.90625 \nL 11.078125 72.90625 \nL 34.1875 11.53125 \nL 57.328125 72.90625 \nL 67.578125 72.90625 \nL 39.796875 0 \nz\n\" id=\"DejaVuSans-86\"/>\n       </defs>\n       <use xlink:href=\"#DejaVuSans-83\"/>\n       <use x=\"63.476562\" xlink:href=\"#DejaVuSans-86\"/>\n       <use x=\"131.884766\" xlink:href=\"#DejaVuSans-82\"/>\n      </g>\n     </g>\n    </g>\n   </g>\n   <g id=\"matplotlib.axis_2\">\n    <g id=\"ytick_1\">\n     <g id=\"line2d_6\">\n      <defs>\n       <path d=\"M 0 0 \nL -3.5 0 \n\" id=\"m2b6110b184\" style=\"stroke:#000000;stroke-width:0.8;\"/>\n      </defs>\n      <g>\n       <use style=\"stroke:#000000;stroke-width:0.8;\" x=\"38.482813\" xlink:href=\"#m2b6110b184\" y=\"239.702488\"/>\n      </g>\n     </g>\n     <g id=\"text_6\">\n      <!-- −2.5 -->\n      <g transform=\"translate(7.2 243.501706)scale(0.1 -0.1)\">\n       <defs>\n        <path d=\"M 10.59375 35.5 \nL 73.1875 35.5 \nL 73.1875 27.203125 \nL 10.59375 27.203125 \nz\n\" id=\"DejaVuSans-8722\"/>\n        <path d=\"M 19.1875 8.296875 \nL 53.609375 8.296875 \nL 53.609375 0 \nL 7.328125 0 \nL 7.328125 8.296875 \nQ 12.9375 14.109375 22.625 23.890625 \nQ 32.328125 33.6875 34.8125 36.53125 \nQ 39.546875 41.84375 41.421875 45.53125 \nQ 43.3125 49.21875 43.3125 52.78125 \nQ 43.3125 58.59375 39.234375 62.25 \nQ 35.15625 65.921875 28.609375 65.921875 \nQ 23.96875 65.921875 18.8125 64.3125 \nQ 13.671875 62.703125 7.8125 59.421875 \nL 7.8125 69.390625 \nQ 13.765625 71.78125 18.9375 73 \nQ 24.125 74.21875 28.421875 74.21875 \nQ 39.75 74.21875 46.484375 68.546875 \nQ 53.21875 62.890625 53.21875 53.421875 \nQ 53.21875 48.921875 51.53125 44.890625 \nQ 49.859375 40.875 45.40625 35.40625 \nQ 44.1875 33.984375 37.640625 27.21875 \nQ 31.109375 20.453125 19.1875 8.296875 \nz\n\" id=\"DejaVuSans-50\"/>\n        <path d=\"M 10.6875 12.40625 \nL 21 12.40625 \nL 21 0 \nL 10.6875 0 \nz\n\" id=\"DejaVuSans-46\"/>\n        <path d=\"M 10.796875 72.90625 \nL 49.515625 72.90625 \nL 49.515625 64.59375 \nL 19.828125 64.59375 \nL 19.828125 46.734375 \nQ 21.96875 47.46875 24.109375 47.828125 \nQ 26.265625 48.1875 28.421875 48.1875 \nQ 40.625 48.1875 47.75 41.5 \nQ 54.890625 34.8125 54.890625 23.390625 \nQ 54.890625 11.625 47.5625 5.09375 \nQ 40.234375 -1.421875 26.90625 -1.421875 \nQ 22.3125 -1.421875 17.546875 -0.640625 \nQ 12.796875 0.140625 7.71875 1.703125 \nL 7.71875 11.625 \nQ 12.109375 9.234375 16.796875 8.0625 \nQ 21.484375 6.890625 26.703125 6.890625 \nQ 35.15625 6.890625 40.078125 11.328125 \nQ 45.015625 15.765625 45.015625 23.390625 \nQ 45.015625 31 40.078125 35.4375 \nQ 35.15625 39.890625 26.703125 39.890625 \nQ 22.75 39.890625 18.8125 39.015625 \nQ 14.890625 38.140625 10.796875 36.28125 \nz\n\" id=\"DejaVuSans-53\"/>\n       </defs>\n       <use xlink:href=\"#DejaVuSans-8722\"/>\n       <use x=\"83.789062\" xlink:href=\"#DejaVuSans-50\"/>\n       <use x=\"147.412109\" xlink:href=\"#DejaVuSans-46\"/>\n       <use x=\"179.199219\" xlink:href=\"#DejaVuSans-53\"/>\n      </g>\n     </g>\n    </g>\n    <g id=\"ytick_2\">\n     <g id=\"line2d_7\">\n      <g>\n       <use style=\"stroke:#000000;stroke-width:0.8;\" x=\"38.482813\" xlink:href=\"#m2b6110b184\" y=\"209.662678\"/>\n      </g>\n     </g>\n     <g id=\"text_7\">\n      <!-- −2.0 -->\n      <g transform=\"translate(7.2 213.461897)scale(0.1 -0.1)\">\n       <defs>\n        <path d=\"M 31.78125 66.40625 \nQ 24.171875 66.40625 20.328125 58.90625 \nQ 16.5 51.421875 16.5 36.375 \nQ 16.5 21.390625 20.328125 13.890625 \nQ 24.171875 6.390625 31.78125 6.390625 \nQ 39.453125 6.390625 43.28125 13.890625 \nQ 47.125 21.390625 47.125 36.375 \nQ 47.125 51.421875 43.28125 58.90625 \nQ 39.453125 66.40625 31.78125 66.40625 \nz\nM 31.78125 74.21875 \nQ 44.046875 74.21875 50.515625 64.515625 \nQ 56.984375 54.828125 56.984375 36.375 \nQ 56.984375 17.96875 50.515625 8.265625 \nQ 44.046875 -1.421875 31.78125 -1.421875 \nQ 19.53125 -1.421875 13.0625 8.265625 \nQ 6.59375 17.96875 6.59375 36.375 \nQ 6.59375 54.828125 13.0625 64.515625 \nQ 19.53125 74.21875 31.78125 74.21875 \nz\n\" id=\"DejaVuSans-48\"/>\n       </defs>\n       <use xlink:href=\"#DejaVuSans-8722\"/>\n       <use x=\"83.789062\" xlink:href=\"#DejaVuSans-50\"/>\n       <use x=\"147.412109\" xlink:href=\"#DejaVuSans-46\"/>\n       <use x=\"179.199219\" xlink:href=\"#DejaVuSans-48\"/>\n      </g>\n     </g>\n    </g>\n    <g id=\"ytick_3\">\n     <g id=\"line2d_8\">\n      <g>\n       <use style=\"stroke:#000000;stroke-width:0.8;\" x=\"38.482813\" xlink:href=\"#m2b6110b184\" y=\"179.622869\"/>\n      </g>\n     </g>\n     <g id=\"text_8\">\n      <!-- −1.5 -->\n      <g transform=\"translate(7.2 183.422088)scale(0.1 -0.1)\">\n       <defs>\n        <path d=\"M 12.40625 8.296875 \nL 28.515625 8.296875 \nL 28.515625 63.921875 \nL 10.984375 60.40625 \nL 10.984375 69.390625 \nL 28.421875 72.90625 \nL 38.28125 72.90625 \nL 38.28125 8.296875 \nL 54.390625 8.296875 \nL 54.390625 0 \nL 12.40625 0 \nz\n\" id=\"DejaVuSans-49\"/>\n       </defs>\n       <use xlink:href=\"#DejaVuSans-8722\"/>\n       <use x=\"83.789062\" xlink:href=\"#DejaVuSans-49\"/>\n       <use x=\"147.412109\" xlink:href=\"#DejaVuSans-46\"/>\n       <use x=\"179.199219\" xlink:href=\"#DejaVuSans-53\"/>\n      </g>\n     </g>\n    </g>\n    <g id=\"ytick_4\">\n     <g id=\"line2d_9\">\n      <g>\n       <use style=\"stroke:#000000;stroke-width:0.8;\" x=\"38.482813\" xlink:href=\"#m2b6110b184\" y=\"149.58306\"/>\n      </g>\n     </g>\n     <g id=\"text_9\">\n      <!-- −1.0 -->\n      <g transform=\"translate(7.2 153.382278)scale(0.1 -0.1)\">\n       <use xlink:href=\"#DejaVuSans-8722\"/>\n       <use x=\"83.789062\" xlink:href=\"#DejaVuSans-49\"/>\n       <use x=\"147.412109\" xlink:href=\"#DejaVuSans-46\"/>\n       <use x=\"179.199219\" xlink:href=\"#DejaVuSans-48\"/>\n      </g>\n     </g>\n    </g>\n    <g id=\"ytick_5\">\n     <g id=\"line2d_10\">\n      <g>\n       <use style=\"stroke:#000000;stroke-width:0.8;\" x=\"38.482813\" xlink:href=\"#m2b6110b184\" y=\"119.54325\"/>\n      </g>\n     </g>\n     <g id=\"text_10\">\n      <!-- −0.5 -->\n      <g transform=\"translate(7.2 123.342469)scale(0.1 -0.1)\">\n       <use xlink:href=\"#DejaVuSans-8722\"/>\n       <use x=\"83.789062\" xlink:href=\"#DejaVuSans-48\"/>\n       <use x=\"147.412109\" xlink:href=\"#DejaVuSans-46\"/>\n       <use x=\"179.199219\" xlink:href=\"#DejaVuSans-53\"/>\n      </g>\n     </g>\n    </g>\n    <g id=\"ytick_6\">\n     <g id=\"line2d_11\">\n      <g>\n       <use style=\"stroke:#000000;stroke-width:0.8;\" x=\"38.482813\" xlink:href=\"#m2b6110b184\" y=\"89.503441\"/>\n      </g>\n     </g>\n     <g id=\"text_11\">\n      <!-- 0.0 -->\n      <g transform=\"translate(15.579688 93.302659)scale(0.1 -0.1)\">\n       <use xlink:href=\"#DejaVuSans-48\"/>\n       <use x=\"63.623047\" xlink:href=\"#DejaVuSans-46\"/>\n       <use x=\"95.410156\" xlink:href=\"#DejaVuSans-48\"/>\n      </g>\n     </g>\n    </g>\n    <g id=\"ytick_7\">\n     <g id=\"line2d_12\">\n      <g>\n       <use style=\"stroke:#000000;stroke-width:0.8;\" x=\"38.482813\" xlink:href=\"#m2b6110b184\" y=\"59.463631\"/>\n      </g>\n     </g>\n     <g id=\"text_12\">\n      <!-- 0.5 -->\n      <g transform=\"translate(15.579688 63.26285)scale(0.1 -0.1)\">\n       <use xlink:href=\"#DejaVuSans-48\"/>\n       <use x=\"63.623047\" xlink:href=\"#DejaVuSans-46\"/>\n       <use x=\"95.410156\" xlink:href=\"#DejaVuSans-53\"/>\n      </g>\n     </g>\n    </g>\n    <g id=\"ytick_8\">\n     <g id=\"line2d_13\">\n      <g>\n       <use style=\"stroke:#000000;stroke-width:0.8;\" x=\"38.482813\" xlink:href=\"#m2b6110b184\" y=\"29.423822\"/>\n      </g>\n     </g>\n     <g id=\"text_13\">\n      <!-- 1.0 -->\n      <g transform=\"translate(15.579688 33.223041)scale(0.1 -0.1)\">\n       <use xlink:href=\"#DejaVuSans-49\"/>\n       <use x=\"63.623047\" xlink:href=\"#DejaVuSans-46\"/>\n       <use x=\"95.410156\" xlink:href=\"#DejaVuSans-48\"/>\n      </g>\n     </g>\n    </g>\n   </g>\n   <g id=\"line2d_14\">\n    <path clip-path=\"url(#p5f0d650739)\" d=\"M 55.222813 48.567709 \nL 88.702813 48.567709 \nL 88.702813 40.388039 \nL 55.222813 40.388039 \nL 55.222813 48.567709 \n\" style=\"fill:none;stroke:#000000;stroke-linecap:square;\"/>\n   </g>\n   <g id=\"line2d_15\">\n    <path clip-path=\"url(#p5f0d650739)\" d=\"M 71.962813 48.567709 \nL 71.962813 49.164304 \n\" style=\"fill:none;stroke:#000000;stroke-linecap:square;\"/>\n   </g>\n   <g id=\"line2d_16\">\n    <path clip-path=\"url(#p5f0d650739)\" d=\"M 71.962813 40.388039 \nL 71.962813 33.944055 \n\" style=\"fill:none;stroke:#000000;stroke-linecap:square;\"/>\n   </g>\n   <g id=\"line2d_17\">\n    <path clip-path=\"url(#p5f0d650739)\" d=\"M 63.592813 49.164304 \nL 80.332813 49.164304 \n\" style=\"fill:none;stroke:#000000;stroke-linecap:square;\"/>\n   </g>\n   <g id=\"line2d_18\">\n    <path clip-path=\"url(#p5f0d650739)\" d=\"M 63.592813 33.944055 \nL 80.332813 33.944055 \n\" style=\"fill:none;stroke:#000000;stroke-linecap:square;\"/>\n   </g>\n   <g id=\"line2d_19\">\n    <defs>\n     <path d=\"M 0 3 \nC 0.795609 3 1.55874 2.683901 2.12132 2.12132 \nC 2.683901 1.55874 3 0.795609 3 0 \nC 3 -0.795609 2.683901 -1.55874 2.12132 -2.12132 \nC 1.55874 -2.683901 0.795609 -3 0 -3 \nC -0.795609 -3 -1.55874 -2.683901 -2.12132 -2.12132 \nC -2.683901 -1.55874 -3 -0.795609 -3 0 \nC -3 0.795609 -2.683901 1.55874 -2.12132 2.12132 \nC -1.55874 2.683901 -0.795609 3 0 3 \nz\n\" id=\"m27ad81c7f5\" style=\"stroke:#000000;\"/>\n    </defs>\n    <g clip-path=\"url(#p5f0d650739)\">\n     <use style=\"fill-opacity:0;stroke:#000000;\" x=\"71.962813\" xlink:href=\"#m27ad81c7f5\" y=\"82.219997\"/>\n     <use style=\"fill-opacity:0;stroke:#000000;\" x=\"71.962813\" xlink:href=\"#m27ad81c7f5\" y=\"113.311181\"/>\n    </g>\n   </g>\n   <g id=\"line2d_20\">\n    <path clip-path=\"url(#p5f0d650739)\" d=\"M 122.182813 111.441012 \nL 155.662813 111.441012 \nL 155.662813 56.9315 \nL 122.182813 56.9315 \nL 122.182813 111.441012 \n\" style=\"fill:none;stroke:#000000;stroke-linecap:square;\"/>\n   </g>\n   <g id=\"line2d_21\">\n    <path clip-path=\"url(#p5f0d650739)\" d=\"M 138.922813 111.441012 \nL 138.922813 115.653641 \n\" style=\"fill:none;stroke:#000000;stroke-linecap:square;\"/>\n   </g>\n   <g id=\"line2d_22\">\n    <path clip-path=\"url(#p5f0d650739)\" d=\"M 138.922813 56.9315 \nL 138.922813 37.561814 \n\" style=\"fill:none;stroke:#000000;stroke-linecap:square;\"/>\n   </g>\n   <g id=\"line2d_23\">\n    <path clip-path=\"url(#p5f0d650739)\" d=\"M 130.552813 115.653641 \nL 147.292813 115.653641 \n\" style=\"fill:none;stroke:#000000;stroke-linecap:square;\"/>\n   </g>\n   <g id=\"line2d_24\">\n    <path clip-path=\"url(#p5f0d650739)\" d=\"M 130.552813 37.561814 \nL 147.292813 37.561814 \n\" style=\"fill:none;stroke:#000000;stroke-linecap:square;\"/>\n   </g>\n   <g id=\"line2d_25\">\n    <g clip-path=\"url(#p5f0d650739)\">\n     <use style=\"fill-opacity:0;stroke:#000000;\" x=\"138.922813\" xlink:href=\"#m27ad81c7f5\" y=\"211.877946\"/>\n    </g>\n   </g>\n   <g id=\"line2d_26\">\n    <path clip-path=\"url(#p5f0d650739)\" d=\"M 189.142813 47.768062 \nL 222.622813 47.768062 \nL 222.622813 35.171347 \nL 189.142813 35.171347 \nL 189.142813 47.768062 \n\" style=\"fill:none;stroke:#000000;stroke-linecap:square;\"/>\n   </g>\n   <g id=\"line2d_27\">\n    <path clip-path=\"url(#p5f0d650739)\" d=\"M 205.882813 47.768062 \nL 205.882813 59.200445 \n\" style=\"fill:none;stroke:#000000;stroke-linecap:square;\"/>\n   </g>\n   <g id=\"line2d_28\">\n    <path clip-path=\"url(#p5f0d650739)\" d=\"M 205.882813 35.171347 \nL 205.882813 32.201761 \n\" style=\"fill:none;stroke:#000000;stroke-linecap:square;\"/>\n   </g>\n   <g id=\"line2d_29\">\n    <path clip-path=\"url(#p5f0d650739)\" d=\"M 197.512813 59.200445 \nL 214.252813 59.200445 \n\" style=\"fill:none;stroke:#000000;stroke-linecap:square;\"/>\n   </g>\n   <g id=\"line2d_30\">\n    <path clip-path=\"url(#p5f0d650739)\" d=\"M 197.512813 32.201761 \nL 214.252813 32.201761 \n\" style=\"fill:none;stroke:#000000;stroke-linecap:square;\"/>\n   </g>\n   <g id=\"line2d_31\"/>\n   <g id=\"line2d_32\">\n    <path clip-path=\"url(#p5f0d650739)\" d=\"M 256.102813 42.226447 \nL 289.582813 42.226447 \nL 289.582813 34.528266 \nL 256.102813 34.528266 \nL 256.102813 42.226447 \n\" style=\"fill:none;stroke:#000000;stroke-linecap:square;\"/>\n   </g>\n   <g id=\"line2d_33\">\n    <path clip-path=\"url(#p5f0d650739)\" d=\"M 272.842813 42.226447 \nL 272.842813 42.492543 \n\" style=\"fill:none;stroke:#000000;stroke-linecap:square;\"/>\n   </g>\n   <g id=\"line2d_34\">\n    <path clip-path=\"url(#p5f0d650739)\" d=\"M 272.842813 34.528266 \nL 272.842813 32.327381 \n\" style=\"fill:none;stroke:#000000;stroke-linecap:square;\"/>\n   </g>\n   <g id=\"line2d_35\">\n    <path clip-path=\"url(#p5f0d650739)\" d=\"M 264.472813 42.492543 \nL 281.212813 42.492543 \n\" style=\"fill:none;stroke:#000000;stroke-linecap:square;\"/>\n   </g>\n   <g id=\"line2d_36\">\n    <path clip-path=\"url(#p5f0d650739)\" d=\"M 264.472813 32.327381 \nL 281.212813 32.327381 \n\" style=\"fill:none;stroke:#000000;stroke-linecap:square;\"/>\n   </g>\n   <g id=\"line2d_37\">\n    <g clip-path=\"url(#p5f0d650739)\">\n     <use style=\"fill-opacity:0;stroke:#000000;\" x=\"272.842813\" xlink:href=\"#m27ad81c7f5\" y=\"55.785931\"/>\n     <use style=\"fill-opacity:0;stroke:#000000;\" x=\"272.842813\" xlink:href=\"#m27ad81c7f5\" y=\"59.671318\"/>\n    </g>\n   </g>\n   <g id=\"line2d_38\">\n    <path clip-path=\"url(#p5f0d650739)\" d=\"M 323.062813 111.593401 \nL 356.542813 111.593401 \nL 356.542813 64.890741 \nL 323.062813 64.890741 \nL 323.062813 111.593401 \n\" style=\"fill:none;stroke:#000000;stroke-linecap:square;\"/>\n   </g>\n   <g id=\"line2d_39\">\n    <path clip-path=\"url(#p5f0d650739)\" d=\"M 339.802813 111.593401 \nL 339.802813 117.897241 \n\" style=\"fill:none;stroke:#000000;stroke-linecap:square;\"/>\n   </g>\n   <g id=\"line2d_40\">\n    <path clip-path=\"url(#p5f0d650739)\" d=\"M 339.802813 64.890741 \nL 339.802813 60.303355 \n\" style=\"fill:none;stroke:#000000;stroke-linecap:square;\"/>\n   </g>\n   <g id=\"line2d_41\">\n    <path clip-path=\"url(#p5f0d650739)\" d=\"M 331.432813 117.897241 \nL 348.172813 117.897241 \n\" style=\"fill:none;stroke:#000000;stroke-linecap:square;\"/>\n   </g>\n   <g id=\"line2d_42\">\n    <path clip-path=\"url(#p5f0d650739)\" d=\"M 331.432813 60.303355 \nL 348.172813 60.303355 \n\" style=\"fill:none;stroke:#000000;stroke-linecap:square;\"/>\n   </g>\n   <g id=\"line2d_43\">\n    <g clip-path=\"url(#p5f0d650739)\">\n     <use style=\"fill-opacity:0;stroke:#000000;\" x=\"339.802813\" xlink:href=\"#m27ad81c7f5\" y=\"195.837092\"/>\n     <use style=\"fill-opacity:0;stroke:#000000;\" x=\"339.802813\" xlink:href=\"#m27ad81c7f5\" y=\"229.874489\"/>\n    </g>\n   </g>\n   <g id=\"line2d_44\">\n    <path clip-path=\"url(#p5f0d650739)\" d=\"M 55.222813 45.337119 \nL 88.702813 45.337119 \n\" style=\"fill:none;stroke:#ff7f0e;stroke-linecap:square;\"/>\n   </g>\n   <g id=\"line2d_45\">\n    <path clip-path=\"url(#p5f0d650739)\" d=\"M 122.182813 92.381628 \nL 155.662813 92.381628 \n\" style=\"fill:none;stroke:#ff7f0e;stroke-linecap:square;\"/>\n   </g>\n   <g id=\"line2d_46\">\n    <path clip-path=\"url(#p5f0d650739)\" d=\"M 189.142813 40.298906 \nL 222.622813 40.298906 \n\" style=\"fill:none;stroke:#ff7f0e;stroke-linecap:square;\"/>\n   </g>\n   <g id=\"line2d_47\">\n    <path clip-path=\"url(#p5f0d650739)\" d=\"M 256.102813 39.55644 \nL 289.582813 39.55644 \n\" style=\"fill:none;stroke:#ff7f0e;stroke-linecap:square;\"/>\n   </g>\n   <g id=\"line2d_48\">\n    <path clip-path=\"url(#p5f0d650739)\" d=\"M 323.062813 76.979176 \nL 356.542813 76.979176 \n\" style=\"fill:none;stroke:#ff7f0e;stroke-linecap:square;\"/>\n   </g>\n   <g id=\"patch_3\">\n    <path d=\"M 38.482813 239.758125 \nL 38.482813 22.318125 \n\" style=\"fill:none;stroke:#000000;stroke-linecap:square;stroke-linejoin:miter;stroke-width:0.8;\"/>\n   </g>\n   <g id=\"patch_4\">\n    <path d=\"M 373.282813 239.758125 \nL 373.282813 22.318125 \n\" style=\"fill:none;stroke:#000000;stroke-linecap:square;stroke-linejoin:miter;stroke-width:0.8;\"/>\n   </g>\n   <g id=\"patch_5\">\n    <path d=\"M 38.482813 239.758125 \nL 373.282813 239.758125 \n\" style=\"fill:none;stroke:#000000;stroke-linecap:square;stroke-linejoin:miter;stroke-width:0.8;\"/>\n   </g>\n   <g id=\"patch_6\">\n    <path d=\"M 38.482813 22.318125 \nL 373.282813 22.318125 \n\" style=\"fill:none;stroke:#000000;stroke-linecap:square;stroke-linejoin:miter;stroke-width:0.8;\"/>\n   </g>\n   <g id=\"text_14\">\n    <!-- Algorithm Comparison -->\n    <g transform=\"translate(138.667812 16.318125)scale(0.12 -0.12)\">\n     <defs>\n      <path d=\"M 34.1875 63.1875 \nL 20.796875 26.90625 \nL 47.609375 26.90625 \nz\nM 28.609375 72.90625 \nL 39.796875 72.90625 \nL 67.578125 0 \nL 57.328125 0 \nL 50.6875 18.703125 \nL 17.828125 18.703125 \nL 11.1875 0 \nL 0.78125 0 \nz\n\" id=\"DejaVuSans-65\"/>\n      <path d=\"M 9.421875 75.984375 \nL 18.40625 75.984375 \nL 18.40625 0 \nL 9.421875 0 \nz\n\" id=\"DejaVuSans-108\"/>\n      <path d=\"M 45.40625 27.984375 \nQ 45.40625 37.75 41.375 43.109375 \nQ 37.359375 48.484375 30.078125 48.484375 \nQ 22.859375 48.484375 18.828125 43.109375 \nQ 14.796875 37.75 14.796875 27.984375 \nQ 14.796875 18.265625 18.828125 12.890625 \nQ 22.859375 7.515625 30.078125 7.515625 \nQ 37.359375 7.515625 41.375 12.890625 \nQ 45.40625 18.265625 45.40625 27.984375 \nz\nM 54.390625 6.78125 \nQ 54.390625 -7.171875 48.1875 -13.984375 \nQ 42 -20.796875 29.203125 -20.796875 \nQ 24.46875 -20.796875 20.265625 -20.09375 \nQ 16.0625 -19.390625 12.109375 -17.921875 \nL 12.109375 -9.1875 \nQ 16.0625 -11.328125 19.921875 -12.34375 \nQ 23.78125 -13.375 27.78125 -13.375 \nQ 36.625 -13.375 41.015625 -8.765625 \nQ 45.40625 -4.15625 45.40625 5.171875 \nL 45.40625 9.625 \nQ 42.625 4.78125 38.28125 2.390625 \nQ 33.9375 0 27.875 0 \nQ 17.828125 0 11.671875 7.65625 \nQ 5.515625 15.328125 5.515625 27.984375 \nQ 5.515625 40.671875 11.671875 48.328125 \nQ 17.828125 56 27.875 56 \nQ 33.9375 56 38.28125 53.609375 \nQ 42.625 51.21875 45.40625 46.390625 \nL 45.40625 54.6875 \nL 54.390625 54.6875 \nz\n\" id=\"DejaVuSans-103\"/>\n      <path d=\"M 30.609375 48.390625 \nQ 23.390625 48.390625 19.1875 42.75 \nQ 14.984375 37.109375 14.984375 27.296875 \nQ 14.984375 17.484375 19.15625 11.84375 \nQ 23.34375 6.203125 30.609375 6.203125 \nQ 37.796875 6.203125 41.984375 11.859375 \nQ 46.1875 17.53125 46.1875 27.296875 \nQ 46.1875 37.015625 41.984375 42.703125 \nQ 37.796875 48.390625 30.609375 48.390625 \nz\nM 30.609375 56 \nQ 42.328125 56 49.015625 48.375 \nQ 55.71875 40.765625 55.71875 27.296875 \nQ 55.71875 13.875 49.015625 6.21875 \nQ 42.328125 -1.421875 30.609375 -1.421875 \nQ 18.84375 -1.421875 12.171875 6.21875 \nQ 5.515625 13.875 5.515625 27.296875 \nQ 5.515625 40.765625 12.171875 48.375 \nQ 18.84375 56 30.609375 56 \nz\n\" id=\"DejaVuSans-111\"/>\n      <path d=\"M 41.109375 46.296875 \nQ 39.59375 47.171875 37.8125 47.578125 \nQ 36.03125 48 33.890625 48 \nQ 26.265625 48 22.1875 43.046875 \nQ 18.109375 38.09375 18.109375 28.8125 \nL 18.109375 0 \nL 9.078125 0 \nL 9.078125 54.6875 \nL 18.109375 54.6875 \nL 18.109375 46.1875 \nQ 20.953125 51.171875 25.484375 53.578125 \nQ 30.03125 56 36.53125 56 \nQ 37.453125 56 38.578125 55.875 \nQ 39.703125 55.765625 41.0625 55.515625 \nz\n\" id=\"DejaVuSans-114\"/>\n      <path d=\"M 9.421875 54.6875 \nL 18.40625 54.6875 \nL 18.40625 0 \nL 9.421875 0 \nz\nM 9.421875 75.984375 \nL 18.40625 75.984375 \nL 18.40625 64.59375 \nL 9.421875 64.59375 \nz\n\" id=\"DejaVuSans-105\"/>\n      <path d=\"M 18.3125 70.21875 \nL 18.3125 54.6875 \nL 36.8125 54.6875 \nL 36.8125 47.703125 \nL 18.3125 47.703125 \nL 18.3125 18.015625 \nQ 18.3125 11.328125 20.140625 9.421875 \nQ 21.96875 7.515625 27.59375 7.515625 \nL 36.8125 7.515625 \nL 36.8125 0 \nL 27.59375 0 \nQ 17.1875 0 13.234375 3.875 \nQ 9.28125 7.765625 9.28125 18.015625 \nL 9.28125 47.703125 \nL 2.6875 47.703125 \nL 2.6875 54.6875 \nL 9.28125 54.6875 \nL 9.28125 70.21875 \nz\n\" id=\"DejaVuSans-116\"/>\n      <path d=\"M 54.890625 33.015625 \nL 54.890625 0 \nL 45.90625 0 \nL 45.90625 32.71875 \nQ 45.90625 40.484375 42.875 44.328125 \nQ 39.84375 48.1875 33.796875 48.1875 \nQ 26.515625 48.1875 22.3125 43.546875 \nQ 18.109375 38.921875 18.109375 30.90625 \nL 18.109375 0 \nL 9.078125 0 \nL 9.078125 75.984375 \nL 18.109375 75.984375 \nL 18.109375 46.1875 \nQ 21.34375 51.125 25.703125 53.5625 \nQ 30.078125 56 35.796875 56 \nQ 45.21875 56 50.046875 50.171875 \nQ 54.890625 44.34375 54.890625 33.015625 \nz\n\" id=\"DejaVuSans-104\"/>\n      <path d=\"M 52 44.1875 \nQ 55.375 50.25 60.0625 53.125 \nQ 64.75 56 71.09375 56 \nQ 79.640625 56 84.28125 50.015625 \nQ 88.921875 44.046875 88.921875 33.015625 \nL 88.921875 0 \nL 79.890625 0 \nL 79.890625 32.71875 \nQ 79.890625 40.578125 77.09375 44.375 \nQ 74.3125 48.1875 68.609375 48.1875 \nQ 61.625 48.1875 57.5625 43.546875 \nQ 53.515625 38.921875 53.515625 30.90625 \nL 53.515625 0 \nL 44.484375 0 \nL 44.484375 32.71875 \nQ 44.484375 40.625 41.703125 44.40625 \nQ 38.921875 48.1875 33.109375 48.1875 \nQ 26.21875 48.1875 22.15625 43.53125 \nQ 18.109375 38.875 18.109375 30.90625 \nL 18.109375 0 \nL 9.078125 0 \nL 9.078125 54.6875 \nL 18.109375 54.6875 \nL 18.109375 46.1875 \nQ 21.1875 51.21875 25.484375 53.609375 \nQ 29.78125 56 35.6875 56 \nQ 41.65625 56 45.828125 52.96875 \nQ 50 49.953125 52 44.1875 \nz\n\" id=\"DejaVuSans-109\"/>\n      <path id=\"DejaVuSans-32\"/>\n      <path d=\"M 64.40625 67.28125 \nL 64.40625 56.890625 \nQ 59.421875 61.53125 53.78125 63.8125 \nQ 48.140625 66.109375 41.796875 66.109375 \nQ 29.296875 66.109375 22.65625 58.46875 \nQ 16.015625 50.828125 16.015625 36.375 \nQ 16.015625 21.96875 22.65625 14.328125 \nQ 29.296875 6.6875 41.796875 6.6875 \nQ 48.140625 6.6875 53.78125 8.984375 \nQ 59.421875 11.28125 64.40625 15.921875 \nL 64.40625 5.609375 \nQ 59.234375 2.09375 53.4375 0.328125 \nQ 47.65625 -1.421875 41.21875 -1.421875 \nQ 24.65625 -1.421875 15.125 8.703125 \nQ 5.609375 18.84375 5.609375 36.375 \nQ 5.609375 53.953125 15.125 64.078125 \nQ 24.65625 74.21875 41.21875 74.21875 \nQ 47.75 74.21875 53.53125 72.484375 \nQ 59.328125 70.75 64.40625 67.28125 \nz\n\" id=\"DejaVuSans-67\"/>\n      <path d=\"M 18.109375 8.203125 \nL 18.109375 -20.796875 \nL 9.078125 -20.796875 \nL 9.078125 54.6875 \nL 18.109375 54.6875 \nL 18.109375 46.390625 \nQ 20.953125 51.265625 25.265625 53.625 \nQ 29.59375 56 35.59375 56 \nQ 45.5625 56 51.78125 48.09375 \nQ 58.015625 40.1875 58.015625 27.296875 \nQ 58.015625 14.40625 51.78125 6.484375 \nQ 45.5625 -1.421875 35.59375 -1.421875 \nQ 29.59375 -1.421875 25.265625 0.953125 \nQ 20.953125 3.328125 18.109375 8.203125 \nz\nM 48.6875 27.296875 \nQ 48.6875 37.203125 44.609375 42.84375 \nQ 40.53125 48.484375 33.40625 48.484375 \nQ 26.265625 48.484375 22.1875 42.84375 \nQ 18.109375 37.203125 18.109375 27.296875 \nQ 18.109375 17.390625 22.1875 11.75 \nQ 26.265625 6.109375 33.40625 6.109375 \nQ 40.53125 6.109375 44.609375 11.75 \nQ 48.6875 17.390625 48.6875 27.296875 \nz\n\" id=\"DejaVuSans-112\"/>\n      <path d=\"M 34.28125 27.484375 \nQ 23.390625 27.484375 19.1875 25 \nQ 14.984375 22.515625 14.984375 16.5 \nQ 14.984375 11.71875 18.140625 8.90625 \nQ 21.296875 6.109375 26.703125 6.109375 \nQ 34.1875 6.109375 38.703125 11.40625 \nQ 43.21875 16.703125 43.21875 25.484375 \nL 43.21875 27.484375 \nz\nM 52.203125 31.203125 \nL 52.203125 0 \nL 43.21875 0 \nL 43.21875 8.296875 \nQ 40.140625 3.328125 35.546875 0.953125 \nQ 30.953125 -1.421875 24.3125 -1.421875 \nQ 15.921875 -1.421875 10.953125 3.296875 \nQ 6 8.015625 6 15.921875 \nQ 6 25.140625 12.171875 29.828125 \nQ 18.359375 34.515625 30.609375 34.515625 \nL 43.21875 34.515625 \nL 43.21875 35.40625 \nQ 43.21875 41.609375 39.140625 45 \nQ 35.0625 48.390625 27.6875 48.390625 \nQ 23 48.390625 18.546875 47.265625 \nQ 14.109375 46.140625 10.015625 43.890625 \nL 10.015625 52.203125 \nQ 14.9375 54.109375 19.578125 55.046875 \nQ 24.21875 56 28.609375 56 \nQ 40.484375 56 46.34375 49.84375 \nQ 52.203125 43.703125 52.203125 31.203125 \nz\n\" id=\"DejaVuSans-97\"/>\n      <path d=\"M 44.28125 53.078125 \nL 44.28125 44.578125 \nQ 40.484375 46.53125 36.375 47.5 \nQ 32.28125 48.484375 27.875 48.484375 \nQ 21.1875 48.484375 17.84375 46.4375 \nQ 14.5 44.390625 14.5 40.28125 \nQ 14.5 37.15625 16.890625 35.375 \nQ 19.28125 33.59375 26.515625 31.984375 \nL 29.59375 31.296875 \nQ 39.15625 29.25 43.1875 25.515625 \nQ 47.21875 21.78125 47.21875 15.09375 \nQ 47.21875 7.46875 41.1875 3.015625 \nQ 35.15625 -1.421875 24.609375 -1.421875 \nQ 20.21875 -1.421875 15.453125 -0.5625 \nQ 10.6875 0.296875 5.421875 2 \nL 5.421875 11.28125 \nQ 10.40625 8.6875 15.234375 7.390625 \nQ 20.0625 6.109375 24.8125 6.109375 \nQ 31.15625 6.109375 34.5625 8.28125 \nQ 37.984375 10.453125 37.984375 14.40625 \nQ 37.984375 18.0625 35.515625 20.015625 \nQ 33.0625 21.96875 24.703125 23.78125 \nL 21.578125 24.515625 \nQ 13.234375 26.265625 9.515625 29.90625 \nQ 5.8125 33.546875 5.8125 39.890625 \nQ 5.8125 47.609375 11.28125 51.796875 \nQ 16.75 56 26.8125 56 \nQ 31.78125 56 36.171875 55.265625 \nQ 40.578125 54.546875 44.28125 53.078125 \nz\n\" id=\"DejaVuSans-115\"/>\n      <path d=\"M 54.890625 33.015625 \nL 54.890625 0 \nL 45.90625 0 \nL 45.90625 32.71875 \nQ 45.90625 40.484375 42.875 44.328125 \nQ 39.84375 48.1875 33.796875 48.1875 \nQ 26.515625 48.1875 22.3125 43.546875 \nQ 18.109375 38.921875 18.109375 30.90625 \nL 18.109375 0 \nL 9.078125 0 \nL 9.078125 54.6875 \nL 18.109375 54.6875 \nL 18.109375 46.1875 \nQ 21.34375 51.125 25.703125 53.5625 \nQ 30.078125 56 35.796875 56 \nQ 45.21875 56 50.046875 50.171875 \nQ 54.890625 44.34375 54.890625 33.015625 \nz\n\" id=\"DejaVuSans-110\"/>\n     </defs>\n     <use xlink:href=\"#DejaVuSans-65\"/>\n     <use x=\"68.408203\" xlink:href=\"#DejaVuSans-108\"/>\n     <use x=\"96.191406\" xlink:href=\"#DejaVuSans-103\"/>\n     <use x=\"159.667969\" xlink:href=\"#DejaVuSans-111\"/>\n     <use x=\"220.849609\" xlink:href=\"#DejaVuSans-114\"/>\n     <use x=\"261.962891\" xlink:href=\"#DejaVuSans-105\"/>\n     <use x=\"289.746094\" xlink:href=\"#DejaVuSans-116\"/>\n     <use x=\"328.955078\" xlink:href=\"#DejaVuSans-104\"/>\n     <use x=\"392.333984\" xlink:href=\"#DejaVuSans-109\"/>\n     <use x=\"489.746094\" xlink:href=\"#DejaVuSans-32\"/>\n     <use x=\"521.533203\" xlink:href=\"#DejaVuSans-67\"/>\n     <use x=\"591.357422\" xlink:href=\"#DejaVuSans-111\"/>\n     <use x=\"652.539062\" xlink:href=\"#DejaVuSans-109\"/>\n     <use x=\"749.951172\" xlink:href=\"#DejaVuSans-112\"/>\n     <use x=\"813.427734\" xlink:href=\"#DejaVuSans-97\"/>\n     <use x=\"874.707031\" xlink:href=\"#DejaVuSans-114\"/>\n     <use x=\"915.820312\" xlink:href=\"#DejaVuSans-105\"/>\n     <use x=\"943.603516\" xlink:href=\"#DejaVuSans-115\"/>\n     <use x=\"995.703125\" xlink:href=\"#DejaVuSans-111\"/>\n     <use x=\"1056.884766\" xlink:href=\"#DejaVuSans-110\"/>\n    </g>\n   </g>\n  </g>\n </g>\n <defs>\n  <clipPath id=\"p5f0d650739\">\n   <rect height=\"217.44\" width=\"334.8\" x=\"38.482813\" y=\"22.318125\"/>\n  </clipPath>\n </defs>\n</svg>\n",
      "image/png": "[encoded data removed]"
     },
     "metadata": {
      "needs_background": "light"
     }
    }
   ],
   "source": [
    "models = []\n",
    "models.append(('LR', LinearRegression()))\n",
    "models.append(('NN', MLPRegressor(solver = 'lbfgs')))  #neural network\n",
    "models.append(('KNN', KNeighborsRegressor(n_neighbors=2))) \n",
    "models.append(('RF', RandomForestRegressor(n_estimators = 10))) # Ensemble method - collection of many decision trees\n",
    "models.append(('SVR', SVR(gamma='auto'))) # kernel = linear\n",
    "# Evaluate each model in turn\n",
    "results = []\n",
    "names = []\n",
    "for name, model in models:\n",
    "    # TimeSeries Cross validation\n",
    " tscv = TimeSeriesSplit(n_splits=10)\n",
    " cv_results = cross_val_score(model, X_train, y_train, cv=tscv, scoring='r2')\n",
    " results.append(cv_results)\n",
    " names.append(name)\n",
    " print('%s: %f (%f)' % (name, cv_results.mean(), cv_results.std()))\n",
    "    \n",
    "# Compare Algorithms\n",
    "plt.boxplot(results, labels=names)\n",
    "plt.title('Algorithm Comparison')\n",
    "plt.show()"
   ]
  },
  {
   "cell_type": "code",
   "execution_count": 7,
   "metadata": {},
   "outputs": [
    {
     "output_type": "stream",
     "name": "stdout",
     "text": [
      "0.7683310188660676\n0.6822073236990889\nMean Absolute Error: 0.15702654055354398\nMean Squared Error: 0.0327758135784522\nRoot Mean Squared Error: 0.18104091686260373\n"
     ]
    }
   ],
   "source": [
    "from sklearn.metrics import mean_squared_error,mean_absolute_error, r2_score\n",
    "model = LinearRegression()\n",
    "model.fit(X_train,y_train)\n",
    "pred = model.predict(X_test)\n",
    "print(model.score(X_train,y_train))\n",
    "print(model.score(X_test,y_test))\n",
    "print('Mean Absolute Error:', mean_absolute_error(y_test, pred))\n",
    "print('Mean Squared Error:', mean_squared_error(y_test, pred))\n",
    "print('Root Mean Squared Error:', np.sqrt(mean_squared_error(y_test, pred)))"
   ]
  },
  {
   "cell_type": "code",
   "execution_count": 8,
   "metadata": {},
   "outputs": [
    {
     "output_type": "stream",
     "name": "stdout",
     "text": [
      "0.7682845080290991\n0.684687318217058\nMean Absolute Error: 0.1564529649330016\nMean Squared Error: 0.032520037268744\nRoot Mean Squared Error: 0.18033312859467615\n"
     ]
    }
   ],
   "source": [
    "from sklearn.linear_model import Lasso\n",
    "model2 = Lasso(alpha=0.1)\n",
    "model2.fit(X_train,y_train)\n",
    "pred2 = model2.predict(X_test)\n",
    "print(model2.score(X_train,y_train))\n",
    "print(model2.score(X_test,y_test))\n",
    "print('Mean Absolute Error:', mean_absolute_error(y_test, pred2))\n",
    "print('Mean Squared Error:', mean_squared_error(y_test, pred2))\n",
    "print('Root Mean Squared Error:', np.sqrt(mean_squared_error(y_test, pred2)))"
   ]
  },
  {
   "cell_type": "code",
   "execution_count": 9,
   "metadata": {},
   "outputs": [
    {
     "output_type": "stream",
     "name": "stdout",
     "text": [
      "0.7683080726134353\n0.6839628459706366\nMean Absolute Error: 0.15662366632060803\nMean Squared Error: 0.03259475632006972\nRoot Mean Squared Error: 0.18054017924016172\n"
     ]
    }
   ],
   "source": [
    "from sklearn.linear_model import ElasticNet\n",
    "model3 = ElasticNet(alpha=0.1,l1_ratio=0.7)\n",
    "model3.fit(X_train,y_train)\n",
    "pred3 = model3.predict(X_test)\n",
    "print(model3.score(X_train,y_train))\n",
    "print(model3.score(X_test,y_test))\n",
    "print('Mean Absolute Error:', mean_absolute_error(y_test, pred3))\n",
    "print('Mean Squared Error:', mean_squared_error(y_test, pred3))\n",
    "print('Root Mean Squared Error:', np.sqrt(mean_squared_error(y_test, pred3)))"
   ]
  },
  {
   "cell_type": "code",
   "execution_count": 10,
   "metadata": {},
   "outputs": [
    {
     "output_type": "stream",
     "name": "stdout",
     "text": [
      "-0.02211062112356532\n-0.10216516969169698\nMean Absolute Error: 0.28763740692313794\nMean Squared Error: 0.11367272699598903\nRoot Mean Squared Error: 0.33715386249602575\n"
     ]
    }
   ],
   "source": [
    "model4 = MLPRegressor(solver = 'lbfgs', random_state=1)\n",
    "model4.fit(X_train,y_train)\n",
    "pred4 = model4.predict(X_test)\n",
    "print(model4.score(X_train,y_train))\n",
    "print(model4.score(X_test,y_test))\n",
    "print('Mean Absolute Error:', mean_absolute_error(y_test, pred4))\n",
    "print('Mean Squared Error:', mean_squared_error(y_test, pred4))\n",
    "print('Root Mean Squared Error:', np.sqrt(mean_squared_error(y_test, pred4)))"
   ]
  },
  {
   "cell_type": "code",
   "execution_count": 11,
   "metadata": {},
   "outputs": [
    {
     "output_type": "stream",
     "name": "stdout",
     "text": [
      "0.9736441289027578\n0.894341838858838\nMean Absolute Error: 0.086\nMean Squared Error: 0.010897142857142855\nRoot Mean Squared Error: 0.10438938095966876\n"
     ]
    }
   ],
   "source": [
    "model5 = KNeighborsRegressor(n_neighbors=2)\n",
    "model5.fit(X_train,y_train)\n",
    "pred5 = model5.predict(X_test)\n",
    "print(model5.score(X_train,y_train))\n",
    "print(model5.score(X_test,y_test))\n",
    "print('Mean Absolute Error:', mean_absolute_error(y_test, pred5))\n",
    "print('Mean Squared Error:', mean_squared_error(y_test, pred5))\n",
    "print('Root Mean Squared Error:', np.sqrt(mean_squared_error(y_test, pred5)))"
   ]
  },
  {
   "cell_type": "code",
   "execution_count": 12,
   "metadata": {},
   "outputs": [
    {
     "output_type": "stream",
     "name": "stdout",
     "text": [
      "##########\n0.9873576999380267\n0.8990674606001411\nMean Absolute Error: 0.08366666666666668\nMean Squared Error: 0.010409761904761906\nRoot Mean Squared Error: 0.10202824072168404\n"
     ]
    }
   ],
   "source": [
    "model6 = RandomForestRegressor(n_estimators=6)\n",
    "model6.fit(X_train,y_train)\n",
    "pred6 = model6.predict(X_test)\n",
    "print(\"##########\")\n",
    "print(model6.score(X_train,y_train))\n",
    "print(model6.score(X_test,y_test))\n",
    "print('Mean Absolute Error:', mean_absolute_error(y_test, pred6))\n",
    "print('Mean Squared Error:', mean_squared_error(y_test, pred6))\n",
    "print('Root Mean Squared Error:', np.sqrt(mean_squared_error(y_test, pred6)))"
   ]
  },
  {
   "cell_type": "code",
   "execution_count": 14,
   "metadata": {},
   "outputs": [
    {
     "output_type": "execute_result",
     "data": {
      "text/plain": [
       "array([[0.62925123],\n",
       "       [0.63726432],\n",
       "       [0.64527741],\n",
       "       [0.6532905 ],\n",
       "       [0.66130358],\n",
       "       [0.66931667],\n",
       "       [0.67732976],\n",
       "       [0.68534285],\n",
       "       [0.69335594],\n",
       "       [0.70136903],\n",
       "       [0.70938212],\n",
       "       [0.71739521],\n",
       "       [0.7254083 ],\n",
       "       [0.73342138],\n",
       "       [0.74143447],\n",
       "       [0.74944756],\n",
       "       [0.75746065],\n",
       "       [0.76547374],\n",
       "       [0.77348683],\n",
       "       [0.78149992],\n",
       "       [0.78951301],\n",
       "       [0.7975261 ],\n",
       "       [0.80553918],\n",
       "       [0.81355227],\n",
       "       [0.82156536],\n",
       "       [0.82957845],\n",
       "       [0.83759154],\n",
       "       [0.84560463],\n",
       "       [0.85361772]])"
      ]
     },
     "metadata": {},
     "execution_count": 14
    }
   ],
   "source": [
    "years = np.arange(2021,2050).reshape(-1,1)\n",
    "model.predict(years)"
   ]
  },
  {
   "cell_type": "code",
   "execution_count": 106,
   "metadata": {},
   "outputs": [
    {
     "output_type": "stream",
     "name": "stderr",
     "text": [
      "INFO:fbprophet:Disabling weekly seasonality. Run prophet with weekly_seasonality=True to override this.\n",
      "INFO:fbprophet:Disabling daily seasonality. Run prophet with daily_seasonality=True to override this.\n",
      "INFO:fbprophet:n_changepoints greater than number of observations. Using 111.\n"
     ]
    },
    {
     "output_type": "execute_result",
     "data": {
      "text/plain": [
       "<fbprophet.forecaster.Prophet at 0x7fa2f3625850>"
      ]
     },
     "metadata": {},
     "execution_count": 106
    }
   ],
   "source": [
    "from fbprophet import Prophet\n",
    "df_model = df[[\"ds\",\"global_anom\"]].rename({'global_anom':\"y\"},axis=1)\n",
    "m = Prophet(changepoint_prior_scale= 0.5,\n",
    " holidays_prior_scale= 0.1,\n",
    " n_changepoints=200,\n",
    " seasonality_mode='multiplicative')\n",
    "m.fit(df_model)  # df is a pandas.DataFrame with 'y' and 'ds' columns\n",
    "\n",
    "# m.predict(years)"
   ]
  },
  {
   "cell_type": "code",
   "execution_count": 115,
   "metadata": {},
   "outputs": [],
   "source": [
    "future = m.make_future_dataframe(periods=30,freq='y')\n",
    "pred = m.predict(future)"
   ]
  },
  {
   "cell_type": "code",
   "execution_count": 116,
   "metadata": {},
   "outputs": [
    {
     "output_type": "execute_result",
     "data": {
      "text/plain": [
       "            ds     trend  yhat_lower  yhat_upper  trend_lower  trend_upper  \\\n",
       "139 2020-12-31  0.039469    0.870095    1.032828     0.039469     0.039469   \n",
       "140 2021-12-31  0.040452    0.892315    1.068310     0.039840     0.041008   \n",
       "141 2022-12-31  0.041435    0.905382    1.106751     0.039338     0.043507   \n",
       "142 2023-12-31  0.042418    0.904839    1.163180     0.038299     0.046451   \n",
       "143 2024-12-31  0.043404    0.873017    1.220027     0.037098     0.049814   \n",
       "144 2025-12-31  0.044386    0.832372    1.300386     0.035616     0.053485   \n",
       "145 2026-12-31  0.045369    0.801470    1.396419     0.033785     0.057667   \n",
       "146 2027-12-31  0.046352    0.770036    1.512467     0.031552     0.061444   \n",
       "147 2028-12-31  0.047338    0.693011    1.608587     0.029101     0.065777   \n",
       "148 2029-12-31  0.048321    0.626674    1.717568     0.026805     0.070217   \n",
       "149 2030-12-31  0.049304    0.559493    1.814843     0.023973     0.074484   \n",
       "150 2031-12-31  0.050286    0.472812    1.937493     0.020707     0.078849   \n",
       "151 2032-12-31  0.051272    0.421674    2.039325     0.017319     0.083976   \n",
       "152 2033-12-31  0.052255    0.330537    2.177702     0.013682     0.089099   \n",
       "153 2034-12-31  0.053238    0.264299    2.292165     0.010447     0.093795   \n",
       "154 2035-12-31  0.054221    0.158300    2.426746     0.006531     0.098429   \n",
       "155 2036-12-31  0.055206    0.064138    2.527550     0.002974     0.104408   \n",
       "156 2037-12-31  0.056189   -0.007985    2.697731    -0.000791     0.111290   \n",
       "157 2038-12-31  0.057172   -0.129723    2.867068    -0.005504     0.117572   \n",
       "158 2039-12-31  0.058155   -0.211883    3.019151    -0.008331     0.123619   \n",
       "159 2040-12-31  0.059141   -0.306925    3.157667    -0.012458     0.130026   \n",
       "160 2041-12-31  0.060123   -0.390141    3.277880    -0.016115     0.135689   \n",
       "161 2042-12-31  0.061106   -0.514268    3.448035    -0.021016     0.142363   \n",
       "162 2043-12-31  0.062089   -0.663530    3.604221    -0.025222     0.147863   \n",
       "163 2044-12-31  0.063075   -0.727689    3.760414    -0.029271     0.154933   \n",
       "164 2045-12-31  0.064058   -0.805198    3.902993    -0.033648     0.162711   \n",
       "165 2046-12-31  0.065041   -0.971433    4.155392    -0.040459     0.169933   \n",
       "166 2047-12-31  0.066023   -1.135636    4.361474    -0.045107     0.177457   \n",
       "167 2048-12-31  0.067009   -1.240383    4.510296    -0.051202     0.185688   \n",
       "168 2049-12-31  0.067992   -1.387893    4.709056    -0.057061     0.194508   \n",
       "169 2050-12-31  0.068975   -1.536251    4.930880    -0.061203     0.203733   \n",
       "\n",
       "     multiplicative_terms  multiplicative_terms_lower  \\\n",
       "139             23.182406                   23.182406   \n",
       "140             23.261450                   23.261450   \n",
       "141             23.323847                   23.323847   \n",
       "142             23.369522                   23.369522   \n",
       "143             23.182406                   23.182406   \n",
       "144             23.261450                   23.261450   \n",
       "145             23.323847                   23.323847   \n",
       "146             23.369522                   23.369522   \n",
       "147             23.182406                   23.182406   \n",
       "148             23.261450                   23.261450   \n",
       "149             23.323847                   23.323847   \n",
       "150             23.369522                   23.369522   \n",
       "151             23.182406                   23.182406   \n",
       "152             23.261450                   23.261450   \n",
       "153             23.323847                   23.323847   \n",
       "154             23.369522                   23.369522   \n",
       "155             23.182406                   23.182406   \n",
       "156             23.261450                   23.261450   \n",
       "157             23.323847                   23.323847   \n",
       "158             23.369522                   23.369522   \n",
       "159             23.182406                   23.182406   \n",
       "160             23.261450                   23.261450   \n",
       "161             23.323847                   23.323847   \n",
       "162             23.369522                   23.369522   \n",
       "163             23.182406                   23.182406   \n",
       "164             23.261450                   23.261450   \n",
       "165             23.323847                   23.323847   \n",
       "166             23.369522                   23.369522   \n",
       "167             23.182406                   23.182406   \n",
       "168             23.261450                   23.261450   \n",
       "169             23.323847                   23.323847   \n",
       "\n",
       "     multiplicative_terms_upper     yearly  yearly_lower  yearly_upper  \\\n",
       "139                   23.182406  23.182406     23.182406     23.182406   \n",
       "140                   23.261450  23.261450     23.261450     23.261450   \n",
       "141                   23.323847  23.323847     23.323847     23.323847   \n",
       "142                   23.369522  23.369522     23.369522     23.369522   \n",
       "143                   23.182406  23.182406     23.182406     23.182406   \n",
       "144                   23.261450  23.261450     23.261450     23.261450   \n",
       "145                   23.323847  23.323847     23.323847     23.323847   \n",
       "146                   23.369522  23.369522     23.369522     23.369522   \n",
       "147                   23.182406  23.182406     23.182406     23.182406   \n",
       "148                   23.261450  23.261450     23.261450     23.261450   \n",
       "149                   23.323847  23.323847     23.323847     23.323847   \n",
       "150                   23.369522  23.369522     23.369522     23.369522   \n",
       "151                   23.182406  23.182406     23.182406     23.182406   \n",
       "152                   23.261450  23.261450     23.261450     23.261450   \n",
       "153                   23.323847  23.323847     23.323847     23.323847   \n",
       "154                   23.369522  23.369522     23.369522     23.369522   \n",
       "155                   23.182406  23.182406     23.182406     23.182406   \n",
       "156                   23.261450  23.261450     23.261450     23.261450   \n",
       "157                   23.323847  23.323847     23.323847     23.323847   \n",
       "158                   23.369522  23.369522     23.369522     23.369522   \n",
       "159                   23.182406  23.182406     23.182406     23.182406   \n",
       "160                   23.261450  23.261450     23.261450     23.261450   \n",
       "161                   23.323847  23.323847     23.323847     23.323847   \n",
       "162                   23.369522  23.369522     23.369522     23.369522   \n",
       "163                   23.182406  23.182406     23.182406     23.182406   \n",
       "164                   23.261450  23.261450     23.261450     23.261450   \n",
       "165                   23.323847  23.323847     23.323847     23.323847   \n",
       "166                   23.369522  23.369522     23.369522     23.369522   \n",
       "167                   23.182406  23.182406     23.182406     23.182406   \n",
       "168                   23.261450  23.261450     23.261450     23.261450   \n",
       "169                   23.323847  23.323847     23.323847     23.323847   \n",
       "\n",
       "     additive_terms  additive_terms_lower  additive_terms_upper      yhat  \n",
       "139             0.0                   0.0                   0.0  0.954462  \n",
       "140             0.0                   0.0                   0.0  0.981428  \n",
       "141             0.0                   0.0                   0.0  1.007860  \n",
       "142             0.0                   0.0                   0.0  1.033705  \n",
       "143             0.0                   0.0                   0.0  1.049602  \n",
       "144             0.0                   0.0                   0.0  1.076879  \n",
       "145             0.0                   0.0                   0.0  1.103556  \n",
       "146             0.0                   0.0                   0.0  1.129581  \n",
       "147             0.0                   0.0                   0.0  1.144741  \n",
       "148             0.0                   0.0                   0.0  1.172329  \n",
       "149             0.0                   0.0                   0.0  1.199252  \n",
       "150             0.0                   0.0                   0.0  1.225457  \n",
       "151             0.0                   0.0                   0.0  1.239881  \n",
       "152             0.0                   0.0                   0.0  1.267780  \n",
       "153             0.0                   0.0                   0.0  1.294948  \n",
       "154             0.0                   0.0                   0.0  1.321332  \n",
       "155             0.0                   0.0                   0.0  1.335020  \n",
       "156             0.0                   0.0                   0.0  1.363231  \n",
       "157             0.0                   0.0                   0.0  1.390644  \n",
       "158             0.0                   0.0                   0.0  1.417208  \n",
       "159             0.0                   0.0                   0.0  1.430160  \n",
       "160             0.0                   0.0                   0.0  1.458681  \n",
       "161             0.0                   0.0                   0.0  1.486340  \n",
       "162             0.0                   0.0                   0.0  1.513084  \n",
       "163             0.0                   0.0                   0.0  1.525300  \n",
       "164             0.0                   0.0                   0.0  1.554132  \n",
       "165             0.0                   0.0                   0.0  1.582036  \n",
       "166             0.0                   0.0                   0.0  1.608960  \n",
       "167             0.0                   0.0                   0.0  1.620439  \n",
       "168             0.0                   0.0                   0.0  1.649582  \n",
       "169             0.0                   0.0                   0.0  1.677733  "
      ],
      "text/html": "<div>\n<style scoped>\n    .dataframe tbody tr th:only-of-type {\n        vertical-align: middle;\n    }\n\n    .dataframe tbody tr th {\n        vertical-align: top;\n    }\n\n    .dataframe thead th {\n        text-align: right;\n    }\n</style>\n<table border=\"1\" class=\"dataframe\">\n  <thead>\n    <tr style=\"text-align: right;\">\n      <th></th>\n      <th>ds</th>\n      <th>trend</th>\n      <th>yhat_lower</th>\n      <th>yhat_upper</th>\n      <th>trend_lower</th>\n      <th>trend_upper</th>\n      <th>multiplicative_terms</th>\n      <th>multiplicative_terms_lower</th>\n      <th>multiplicative_terms_upper</th>\n      <th>yearly</th>\n      <th>yearly_lower</th>\n      <th>yearly_upper</th>\n      <th>additive_terms</th>\n      <th>additive_terms_lower</th>\n      <th>additive_terms_upper</th>\n      <th>yhat</th>\n    </tr>\n  </thead>\n  <tbody>\n    <tr>\n      <th>139</th>\n      <td>2020-12-31</td>\n      <td>0.039469</td>\n      <td>0.870095</td>\n      <td>1.032828</td>\n      <td>0.039469</td>\n      <td>0.039469</td>\n      <td>23.182406</td>\n      <td>23.182406</td>\n      <td>23.182406</td>\n      <td>23.182406</td>\n      <td>23.182406</td>\n      <td>23.182406</td>\n      <td>0.0</td>\n      <td>0.0</td>\n      <td>0.0</td>\n      <td>0.954462</td>\n    </tr>\n    <tr>\n      <th>140</th>\n      <td>2021-12-31</td>\n      <td>0.040452</td>\n      <td>0.892315</td>\n      <td>1.068310</td>\n      <td>0.039840</td>\n      <td>0.041008</td>\n      <td>23.261450</td>\n      <td>23.261450</td>\n      <td>23.261450</td>\n      <td>23.261450</td>\n      <td>23.261450</td>\n      <td>23.261450</td>\n      <td>0.0</td>\n      <td>0.0</td>\n      <td>0.0</td>\n      <td>0.981428</td>\n    </tr>\n    <tr>\n      <th>141</th>\n      <td>2022-12-31</td>\n      <td>0.041435</td>\n      <td>0.905382</td>\n      <td>1.106751</td>\n      <td>0.039338</td>\n      <td>0.043507</td>\n      <td>23.323847</td>\n      <td>23.323847</td>\n      <td>23.323847</td>\n      <td>23.323847</td>\n      <td>23.323847</td>\n      <td>23.323847</td>\n      <td>0.0</td>\n      <td>0.0</td>\n      <td>0.0</td>\n      <td>1.007860</td>\n    </tr>\n    <tr>\n      <th>142</th>\n      <td>2023-12-31</td>\n      <td>0.042418</td>\n      <td>0.904839</td>\n      <td>1.163180</td>\n      <td>0.038299</td>\n      <td>0.046451</td>\n      <td>23.369522</td>\n      <td>23.369522</td>\n      <td>23.369522</td>\n      <td>23.369522</td>\n      <td>23.369522</td>\n      <td>23.369522</td>\n      <td>0.0</td>\n      <td>0.0</td>\n      <td>0.0</td>\n      <td>1.033705</td>\n    </tr>\n    <tr>\n      <th>143</th>\n      <td>2024-12-31</td>\n      <td>0.043404</td>\n      <td>0.873017</td>\n      <td>1.220027</td>\n      <td>0.037098</td>\n      <td>0.049814</td>\n      <td>23.182406</td>\n      <td>23.182406</td>\n      <td>23.182406</td>\n      <td>23.182406</td>\n      <td>23.182406</td>\n      <td>23.182406</td>\n      <td>0.0</td>\n      <td>0.0</td>\n      <td>0.0</td>\n      <td>1.049602</td>\n    </tr>\n    <tr>\n      <th>144</th>\n      <td>2025-12-31</td>\n      <td>0.044386</td>\n      <td>0.832372</td>\n      <td>1.300386</td>\n      <td>0.035616</td>\n      <td>0.053485</td>\n      <td>23.261450</td>\n      <td>23.261450</td>\n      <td>23.261450</td>\n      <td>23.261450</td>\n      <td>23.261450</td>\n      <td>23.261450</td>\n      <td>0.0</td>\n      <td>0.0</td>\n      <td>0.0</td>\n      <td>1.076879</td>\n    </tr>\n    <tr>\n      <th>145</th>\n      <td>2026-12-31</td>\n      <td>0.045369</td>\n      <td>0.801470</td>\n      <td>1.396419</td>\n      <td>0.033785</td>\n      <td>0.057667</td>\n      <td>23.323847</td>\n      <td>23.323847</td>\n      <td>23.323847</td>\n      <td>23.323847</td>\n      <td>23.323847</td>\n      <td>23.323847</td>\n      <td>0.0</td>\n      <td>0.0</td>\n      <td>0.0</td>\n      <td>1.103556</td>\n    </tr>\n    <tr>\n      <th>146</th>\n      <td>2027-12-31</td>\n      <td>0.046352</td>\n      <td>0.770036</td>\n      <td>1.512467</td>\n      <td>0.031552</td>\n      <td>0.061444</td>\n      <td>23.369522</td>\n      <td>23.369522</td>\n      <td>23.369522</td>\n      <td>23.369522</td>\n      <td>23.369522</td>\n      <td>23.369522</td>\n      <td>0.0</td>\n      <td>0.0</td>\n      <td>0.0</td>\n      <td>1.129581</td>\n    </tr>\n    <tr>\n      <th>147</th>\n      <td>2028-12-31</td>\n      <td>0.047338</td>\n      <td>0.693011</td>\n      <td>1.608587</td>\n      <td>0.029101</td>\n      <td>0.065777</td>\n      <td>23.182406</td>\n      <td>23.182406</td>\n      <td>23.182406</td>\n      <td>23.182406</td>\n      <td>23.182406</td>\n      <td>23.182406</td>\n      <td>0.0</td>\n      <td>0.0</td>\n      <td>0.0</td>\n      <td>1.144741</td>\n    </tr>\n    <tr>\n      <th>148</th>\n      <td>2029-12-31</td>\n      <td>0.048321</td>\n      <td>0.626674</td>\n      <td>1.717568</td>\n      <td>0.026805</td>\n      <td>0.070217</td>\n      <td>23.261450</td>\n      <td>23.261450</td>\n      <td>23.261450</td>\n      <td>23.261450</td>\n      <td>23.261450</td>\n      <td>23.261450</td>\n      <td>0.0</td>\n      <td>0.0</td>\n      <td>0.0</td>\n      <td>1.172329</td>\n    </tr>\n    <tr>\n      <th>149</th>\n      <td>2030-12-31</td>\n      <td>0.049304</td>\n      <td>0.559493</td>\n      <td>1.814843</td>\n      <td>0.023973</td>\n      <td>0.074484</td>\n      <td>23.323847</td>\n      <td>23.323847</td>\n      <td>23.323847</td>\n      <td>23.323847</td>\n      <td>23.323847</td>\n      <td>23.323847</td>\n      <td>0.0</td>\n      <td>0.0</td>\n      <td>0.0</td>\n      <td>1.199252</td>\n    </tr>\n    <tr>\n      <th>150</th>\n      <td>2031-12-31</td>\n      <td>0.050286</td>\n      <td>0.472812</td>\n      <td>1.937493</td>\n      <td>0.020707</td>\n      <td>0.078849</td>\n      <td>23.369522</td>\n      <td>23.369522</td>\n      <td>23.369522</td>\n      <td>23.369522</td>\n      <td>23.369522</td>\n      <td>23.369522</td>\n      <td>0.0</td>\n      <td>0.0</td>\n      <td>0.0</td>\n      <td>1.225457</td>\n    </tr>\n    <tr>\n      <th>151</th>\n      <td>2032-12-31</td>\n      <td>0.051272</td>\n      <td>0.421674</td>\n      <td>2.039325</td>\n      <td>0.017319</td>\n      <td>0.083976</td>\n      <td>23.182406</td>\n      <td>23.182406</td>\n      <td>23.182406</td>\n      <td>23.182406</td>\n      <td>23.182406</td>\n      <td>23.182406</td>\n      <td>0.0</td>\n      <td>0.0</td>\n      <td>0.0</td>\n      <td>1.239881</td>\n    </tr>\n    <tr>\n      <th>152</th>\n      <td>2033-12-31</td>\n      <td>0.052255</td>\n      <td>0.330537</td>\n      <td>2.177702</td>\n      <td>0.013682</td>\n      <td>0.089099</td>\n      <td>23.261450</td>\n      <td>23.261450</td>\n      <td>23.261450</td>\n      <td>23.261450</td>\n      <td>23.261450</td>\n      <td>23.261450</td>\n      <td>0.0</td>\n      <td>0.0</td>\n      <td>0.0</td>\n      <td>1.267780</td>\n    </tr>\n    <tr>\n      <th>153</th>\n      <td>2034-12-31</td>\n      <td>0.053238</td>\n      <td>0.264299</td>\n      <td>2.292165</td>\n      <td>0.010447</td>\n      <td>0.093795</td>\n      <td>23.323847</td>\n      <td>23.323847</td>\n      <td>23.323847</td>\n      <td>23.323847</td>\n      <td>23.323847</td>\n      <td>23.323847</td>\n      <td>0.0</td>\n      <td>0.0</td>\n      <td>0.0</td>\n      <td>1.294948</td>\n    </tr>\n    <tr>\n      <th>154</th>\n      <td>2035-12-31</td>\n      <td>0.054221</td>\n      <td>0.158300</td>\n      <td>2.426746</td>\n      <td>0.006531</td>\n      <td>0.098429</td>\n      <td>23.369522</td>\n      <td>23.369522</td>\n      <td>23.369522</td>\n      <td>23.369522</td>\n      <td>23.369522</td>\n      <td>23.369522</td>\n      <td>0.0</td>\n      <td>0.0</td>\n      <td>0.0</td>\n      <td>1.321332</td>\n    </tr>\n    <tr>\n      <th>155</th>\n      <td>2036-12-31</td>\n      <td>0.055206</td>\n      <td>0.064138</td>\n      <td>2.527550</td>\n      <td>0.002974</td>\n      <td>0.104408</td>\n      <td>23.182406</td>\n      <td>23.182406</td>\n      <td>23.182406</td>\n      <td>23.182406</td>\n      <td>23.182406</td>\n      <td>23.182406</td>\n      <td>0.0</td>\n      <td>0.0</td>\n      <td>0.0</td>\n      <td>1.335020</td>\n    </tr>\n    <tr>\n      <th>156</th>\n      <td>2037-12-31</td>\n      <td>0.056189</td>\n      <td>-0.007985</td>\n      <td>2.697731</td>\n      <td>-0.000791</td>\n      <td>0.111290</td>\n      <td>23.261450</td>\n      <td>23.261450</td>\n      <td>23.261450</td>\n      <td>23.261450</td>\n      <td>23.261450</td>\n      <td>23.261450</td>\n      <td>0.0</td>\n      <td>0.0</td>\n      <td>0.0</td>\n      <td>1.363231</td>\n    </tr>\n    <tr>\n      <th>157</th>\n      <td>2038-12-31</td>\n      <td>0.057172</td>\n      <td>-0.129723</td>\n      <td>2.867068</td>\n      <td>-0.005504</td>\n      <td>0.117572</td>\n      <td>23.323847</td>\n      <td>23.323847</td>\n      <td>23.323847</td>\n      <td>23.323847</td>\n      <td>23.323847</td>\n      <td>23.323847</td>\n      <td>0.0</td>\n      <td>0.0</td>\n      <td>0.0</td>\n      <td>1.390644</td>\n    </tr>\n    <tr>\n      <th>158</th>\n      <td>2039-12-31</td>\n      <td>0.058155</td>\n      <td>-0.211883</td>\n      <td>3.019151</td>\n      <td>-0.008331</td>\n      <td>0.123619</td>\n      <td>23.369522</td>\n      <td>23.369522</td>\n      <td>23.369522</td>\n      <td>23.369522</td>\n      <td>23.369522</td>\n      <td>23.369522</td>\n      <td>0.0</td>\n      <td>0.0</td>\n      <td>0.0</td>\n      <td>1.417208</td>\n    </tr>\n    <tr>\n      <th>159</th>\n      <td>2040-12-31</td>\n      <td>0.059141</td>\n      <td>-0.306925</td>\n      <td>3.157667</td>\n      <td>-0.012458</td>\n      <td>0.130026</td>\n      <td>23.182406</td>\n      <td>23.182406</td>\n      <td>23.182406</td>\n      <td>23.182406</td>\n      <td>23.182406</td>\n      <td>23.182406</td>\n      <td>0.0</td>\n      <td>0.0</td>\n      <td>0.0</td>\n      <td>1.430160</td>\n    </tr>\n    <tr>\n      <th>160</th>\n      <td>2041-12-31</td>\n      <td>0.060123</td>\n      <td>-0.390141</td>\n      <td>3.277880</td>\n      <td>-0.016115</td>\n      <td>0.135689</td>\n      <td>23.261450</td>\n      <td>23.261450</td>\n      <td>23.261450</td>\n      <td>23.261450</td>\n      <td>23.261450</td>\n      <td>23.261450</td>\n      <td>0.0</td>\n      <td>0.0</td>\n      <td>0.0</td>\n      <td>1.458681</td>\n    </tr>\n    <tr>\n      <th>161</th>\n      <td>2042-12-31</td>\n      <td>0.061106</td>\n      <td>-0.514268</td>\n      <td>3.448035</td>\n      <td>-0.021016</td>\n      <td>0.142363</td>\n      <td>23.323847</td>\n      <td>23.323847</td>\n      <td>23.323847</td>\n      <td>23.323847</td>\n      <td>23.323847</td>\n      <td>23.323847</td>\n      <td>0.0</td>\n      <td>0.0</td>\n      <td>0.0</td>\n      <td>1.486340</td>\n    </tr>\n    <tr>\n      <th>162</th>\n      <td>2043-12-31</td>\n      <td>0.062089</td>\n      <td>-0.663530</td>\n      <td>3.604221</td>\n      <td>-0.025222</td>\n      <td>0.147863</td>\n      <td>23.369522</td>\n      <td>23.369522</td>\n      <td>23.369522</td>\n      <td>23.369522</td>\n      <td>23.369522</td>\n      <td>23.369522</td>\n      <td>0.0</td>\n      <td>0.0</td>\n      <td>0.0</td>\n      <td>1.513084</td>\n    </tr>\n    <tr>\n      <th>163</th>\n      <td>2044-12-31</td>\n      <td>0.063075</td>\n      <td>-0.727689</td>\n      <td>3.760414</td>\n      <td>-0.029271</td>\n      <td>0.154933</td>\n      <td>23.182406</td>\n      <td>23.182406</td>\n      <td>23.182406</td>\n      <td>23.182406</td>\n      <td>23.182406</td>\n      <td>23.182406</td>\n      <td>0.0</td>\n      <td>0.0</td>\n      <td>0.0</td>\n      <td>1.525300</td>\n    </tr>\n    <tr>\n      <th>164</th>\n      <td>2045-12-31</td>\n      <td>0.064058</td>\n      <td>-0.805198</td>\n      <td>3.902993</td>\n      <td>-0.033648</td>\n      <td>0.162711</td>\n      <td>23.261450</td>\n      <td>23.261450</td>\n      <td>23.261450</td>\n      <td>23.261450</td>\n      <td>23.261450</td>\n      <td>23.261450</td>\n      <td>0.0</td>\n      <td>0.0</td>\n      <td>0.0</td>\n      <td>1.554132</td>\n    </tr>\n    <tr>\n      <th>165</th>\n      <td>2046-12-31</td>\n      <td>0.065041</td>\n      <td>-0.971433</td>\n      <td>4.155392</td>\n      <td>-0.040459</td>\n      <td>0.169933</td>\n      <td>23.323847</td>\n      <td>23.323847</td>\n      <td>23.323847</td>\n      <td>23.323847</td>\n      <td>23.323847</td>\n      <td>23.323847</td>\n      <td>0.0</td>\n      <td>0.0</td>\n      <td>0.0</td>\n      <td>1.582036</td>\n    </tr>\n    <tr>\n      <th>166</th>\n      <td>2047-12-31</td>\n      <td>0.066023</td>\n      <td>-1.135636</td>\n      <td>4.361474</td>\n      <td>-0.045107</td>\n      <td>0.177457</td>\n      <td>23.369522</td>\n      <td>23.369522</td>\n      <td>23.369522</td>\n      <td>23.369522</td>\n      <td>23.369522</td>\n      <td>23.369522</td>\n      <td>0.0</td>\n      <td>0.0</td>\n      <td>0.0</td>\n      <td>1.608960</td>\n    </tr>\n    <tr>\n      <th>167</th>\n      <td>2048-12-31</td>\n      <td>0.067009</td>\n      <td>-1.240383</td>\n      <td>4.510296</td>\n      <td>-0.051202</td>\n      <td>0.185688</td>\n      <td>23.182406</td>\n      <td>23.182406</td>\n      <td>23.182406</td>\n      <td>23.182406</td>\n      <td>23.182406</td>\n      <td>23.182406</td>\n      <td>0.0</td>\n      <td>0.0</td>\n      <td>0.0</td>\n      <td>1.620439</td>\n    </tr>\n    <tr>\n      <th>168</th>\n      <td>2049-12-31</td>\n      <td>0.067992</td>\n      <td>-1.387893</td>\n      <td>4.709056</td>\n      <td>-0.057061</td>\n      <td>0.194508</td>\n      <td>23.261450</td>\n      <td>23.261450</td>\n      <td>23.261450</td>\n      <td>23.261450</td>\n      <td>23.261450</td>\n      <td>23.261450</td>\n      <td>0.0</td>\n      <td>0.0</td>\n      <td>0.0</td>\n      <td>1.649582</td>\n    </tr>\n    <tr>\n      <th>169</th>\n      <td>2050-12-31</td>\n      <td>0.068975</td>\n      <td>-1.536251</td>\n      <td>4.930880</td>\n      <td>-0.061203</td>\n      <td>0.203733</td>\n      <td>23.323847</td>\n      <td>23.323847</td>\n      <td>23.323847</td>\n      <td>23.323847</td>\n      <td>23.323847</td>\n      <td>23.323847</td>\n      <td>0.0</td>\n      <td>0.0</td>\n      <td>0.0</td>\n      <td>1.677733</td>\n    </tr>\n  </tbody>\n</table>\n</div>"
     },
     "metadata": {},
     "execution_count": 116
    }
   ],
   "source": [
    "pred.tail(31)"
   ]
  },
  {
   "cell_type": "code",
   "execution_count": 103,
   "metadata": {},
   "outputs": [],
   "source": [
    "import numpy as np\n",
    "import pandas as pd\n",
    "from matplotlib import pyplot as plt\n",
    "from statsmodels.tsa.stattools import adfuller\n",
    "from statsmodels.tsa.seasonal import seasonal_decompose\n",
    "from statsmodels.tsa.arima_model import ARIMA\n",
    "from pandas.plotting import register_matplotlib_converters\n",
    "register_matplotlib_converters()"
   ]
  },
  {
   "cell_type": "code",
   "execution_count": null,
   "metadata": {},
   "outputs": [],
   "source": []
  }
 ]
}