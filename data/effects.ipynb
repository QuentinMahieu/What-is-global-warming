{
 "metadata": {
  "language_info": {
   "codemirror_mode": {
    "name": "ipython",
    "version": 3
   },
   "file_extension": ".py",
   "mimetype": "text/x-python",
   "name": "python",
   "nbconvert_exporter": "python",
   "pygments_lexer": "ipython3",
   "version": "3.6.10-final"
  },
  "orig_nbformat": 2,
  "kernelspec": {
   "name": "python3",
   "display_name": "Python 3",
   "language": "python"
  }
 },
 "nbformat": 4,
 "nbformat_minor": 2,
 "cells": [
  {
   "cell_type": "code",
   "execution_count": 2,
   "metadata": {},
   "outputs": [],
   "source": [
    "import pandas as pd\n",
    "import datetime as dt\n",
    "import matplotlib.pyplot as plt"
   ]
  },
  {
   "cell_type": "code",
   "execution_count": 4,
   "metadata": {},
   "outputs": [
    {
     "output_type": "execute_result",
     "data": {
      "text/plain": "   Year      1      2      3      4  diff  rise_year\n0  1993 -38.59  89.86 -38.59    NaN  0.00        NaN\n1  1993 -41.97  90.86 -38.59 -38.59 -3.38      -3.38\n2  1993 -41.93  87.27 -38.59 -41.97 -3.34       0.04\n3  1993 -42.67  90.75 -38.59 -41.93 -4.08      -0.74\n4  1993 -37.86  90.26 -38.59 -42.67  0.73       4.81",
      "text/html": "<div>\n<style scoped>\n    .dataframe tbody tr th:only-of-type {\n        vertical-align: middle;\n    }\n\n    .dataframe tbody tr th {\n        vertical-align: top;\n    }\n\n    .dataframe thead th {\n        text-align: right;\n    }\n</style>\n<table border=\"1\" class=\"dataframe\">\n  <thead>\n    <tr style=\"text-align: right;\">\n      <th></th>\n      <th>Year</th>\n      <th>1</th>\n      <th>2</th>\n      <th>3</th>\n      <th>4</th>\n      <th>diff</th>\n      <th>rise_year</th>\n    </tr>\n  </thead>\n  <tbody>\n    <tr>\n      <th>0</th>\n      <td>1993</td>\n      <td>-38.59</td>\n      <td>89.86</td>\n      <td>-38.59</td>\n      <td>NaN</td>\n      <td>0.00</td>\n      <td>NaN</td>\n    </tr>\n    <tr>\n      <th>1</th>\n      <td>1993</td>\n      <td>-41.97</td>\n      <td>90.86</td>\n      <td>-38.59</td>\n      <td>-38.59</td>\n      <td>-3.38</td>\n      <td>-3.38</td>\n    </tr>\n    <tr>\n      <th>2</th>\n      <td>1993</td>\n      <td>-41.93</td>\n      <td>87.27</td>\n      <td>-38.59</td>\n      <td>-41.97</td>\n      <td>-3.34</td>\n      <td>0.04</td>\n    </tr>\n    <tr>\n      <th>3</th>\n      <td>1993</td>\n      <td>-42.67</td>\n      <td>90.75</td>\n      <td>-38.59</td>\n      <td>-41.93</td>\n      <td>-4.08</td>\n      <td>-0.74</td>\n    </tr>\n    <tr>\n      <th>4</th>\n      <td>1993</td>\n      <td>-37.86</td>\n      <td>90.26</td>\n      <td>-38.59</td>\n      <td>-42.67</td>\n      <td>0.73</td>\n      <td>4.81</td>\n    </tr>\n  </tbody>\n</table>\n</div>"
     },
     "metadata": {},
     "execution_count": 4
    }
   ],
   "source": [
    "#above 2000 average with respect to 20-year\n",
    "df = pd.read_csv(\"raw/sea_levels_2015.csv\")\n",
    "df['Year'] = [str(y).split('.')[0]for y in df['Year']]\n",
    "df = df[['Year','1','2']]\n",
    "df['3'] = -38.59\n",
    "df['4'] = df['1'].shift(1)\n",
    "df['diff'] = df['1']- df['3']\n",
    "df['rise_year'] = df['1']- df['4']\n",
    "df.head()"
   ]
  },
  {
   "cell_type": "code",
   "execution_count": 10,
   "metadata": {},
   "outputs": [
    {
     "output_type": "execute_result",
     "data": {
      "text/plain": "   Year  rise_year\n0  1993       7.46\n1  1994       6.20\n2  1995      -1.80\n3  1996      -1.62\n4  1997       7.00",
      "text/html": "<div>\n<style scoped>\n    .dataframe tbody tr th:only-of-type {\n        vertical-align: middle;\n    }\n\n    .dataframe tbody tr th {\n        vertical-align: top;\n    }\n\n    .dataframe thead th {\n        text-align: right;\n    }\n</style>\n<table border=\"1\" class=\"dataframe\">\n  <thead>\n    <tr style=\"text-align: right;\">\n      <th></th>\n      <th>Year</th>\n      <th>rise_year</th>\n    </tr>\n  </thead>\n  <tbody>\n    <tr>\n      <th>0</th>\n      <td>1993</td>\n      <td>7.46</td>\n    </tr>\n    <tr>\n      <th>1</th>\n      <td>1994</td>\n      <td>6.20</td>\n    </tr>\n    <tr>\n      <th>2</th>\n      <td>1995</td>\n      <td>-1.80</td>\n    </tr>\n    <tr>\n      <th>3</th>\n      <td>1996</td>\n      <td>-1.62</td>\n    </tr>\n    <tr>\n      <th>4</th>\n      <td>1997</td>\n      <td>7.00</td>\n    </tr>\n  </tbody>\n</table>\n</div>"
     },
     "metadata": {},
     "execution_count": 10
    }
   ],
   "source": [
    "df2 = df[['Year','rise_year']].groupby('Year').sum()\n",
    "df2.reset_index(inplace=True)\n",
    "df2.head()"
   ]
  },
  {
   "cell_type": "code",
   "execution_count": 7,
   "metadata": {},
   "outputs": [],
   "source": [
    "dfs=[]\n",
    "for y in df['Year'].unique():\n",
    "    dfs.append(df[df['Year']==y].iloc[[len(df[df['Year']==y])-1]])\n",
    "dfs.append(df[df['Year']=='1993'].iloc[[0]])\n",
    "final_df = pd.concat(dfs)\n",
    "final_df.reset_index(inplace=True,drop=True)\n",
    "final_df[\"Year\"].iloc[-1] = '1992'\n"
   ]
  },
  {
   "cell_type": "code",
   "execution_count": 13,
   "metadata": {},
   "outputs": [],
   "source": [
    "final_df = final_df[['Year','diff']].sort_values('Year')\n",
    "final_df = final_df.merge(df2,on='Year',how='left')\n",
    "final_df.fillna(0,inplace=True)"
   ]
  },
  {
   "cell_type": "code",
   "execution_count": 14,
   "metadata": {},
   "outputs": [
    {
     "output_type": "execute_result",
     "data": {
      "text/plain": "    Year   diff  rise_year\n0   1992   0.00       0.00\n1   1993   7.46       7.46\n2   1994  13.66       6.20\n3   1995  11.86      -1.80\n4   1996  10.24      -1.62\n5   1997  17.24       7.00\n6   1998  12.08      -5.16\n7   1999  20.95       8.87\n8   2000  22.82       1.87\n9   2001  27.21       4.39\n10  2002  31.94       4.73\n11  2003  32.30       0.36\n12  2004  41.02       8.72\n13  2005  40.69      -0.33\n14  2006  41.18       0.49\n15  2007  37.52      -3.66\n16  2008  41.74       4.22\n17  2009  52.99      11.25\n18  2010  46.11      -6.88\n19  2011  50.49       4.38\n20  2012  63.02      12.53\n21  2013  61.07      -1.95\n22  2014  68.14       7.07\n23  2015  75.03       6.89\n24  2016  75.29       0.26\n25  2017  79.19       3.90\n26  2018  82.34       3.15\n27  2019  88.06       5.72\n28  2020  94.41       6.35",
      "text/html": "<div>\n<style scoped>\n    .dataframe tbody tr th:only-of-type {\n        vertical-align: middle;\n    }\n\n    .dataframe tbody tr th {\n        vertical-align: top;\n    }\n\n    .dataframe thead th {\n        text-align: right;\n    }\n</style>\n<table border=\"1\" class=\"dataframe\">\n  <thead>\n    <tr style=\"text-align: right;\">\n      <th></th>\n      <th>Year</th>\n      <th>diff</th>\n      <th>rise_year</th>\n    </tr>\n  </thead>\n  <tbody>\n    <tr>\n      <th>0</th>\n      <td>1992</td>\n      <td>0.00</td>\n      <td>0.00</td>\n    </tr>\n    <tr>\n      <th>1</th>\n      <td>1993</td>\n      <td>7.46</td>\n      <td>7.46</td>\n    </tr>\n    <tr>\n      <th>2</th>\n      <td>1994</td>\n      <td>13.66</td>\n      <td>6.20</td>\n    </tr>\n    <tr>\n      <th>3</th>\n      <td>1995</td>\n      <td>11.86</td>\n      <td>-1.80</td>\n    </tr>\n    <tr>\n      <th>4</th>\n      <td>1996</td>\n      <td>10.24</td>\n      <td>-1.62</td>\n    </tr>\n    <tr>\n      <th>5</th>\n      <td>1997</td>\n      <td>17.24</td>\n      <td>7.00</td>\n    </tr>\n    <tr>\n      <th>6</th>\n      <td>1998</td>\n      <td>12.08</td>\n      <td>-5.16</td>\n    </tr>\n    <tr>\n      <th>7</th>\n      <td>1999</td>\n      <td>20.95</td>\n      <td>8.87</td>\n    </tr>\n    <tr>\n      <th>8</th>\n      <td>2000</td>\n      <td>22.82</td>\n      <td>1.87</td>\n    </tr>\n    <tr>\n      <th>9</th>\n      <td>2001</td>\n      <td>27.21</td>\n      <td>4.39</td>\n    </tr>\n    <tr>\n      <th>10</th>\n      <td>2002</td>\n      <td>31.94</td>\n      <td>4.73</td>\n    </tr>\n    <tr>\n      <th>11</th>\n      <td>2003</td>\n      <td>32.30</td>\n      <td>0.36</td>\n    </tr>\n    <tr>\n      <th>12</th>\n      <td>2004</td>\n      <td>41.02</td>\n      <td>8.72</td>\n    </tr>\n    <tr>\n      <th>13</th>\n      <td>2005</td>\n      <td>40.69</td>\n      <td>-0.33</td>\n    </tr>\n    <tr>\n      <th>14</th>\n      <td>2006</td>\n      <td>41.18</td>\n      <td>0.49</td>\n    </tr>\n    <tr>\n      <th>15</th>\n      <td>2007</td>\n      <td>37.52</td>\n      <td>-3.66</td>\n    </tr>\n    <tr>\n      <th>16</th>\n      <td>2008</td>\n      <td>41.74</td>\n      <td>4.22</td>\n    </tr>\n    <tr>\n      <th>17</th>\n      <td>2009</td>\n      <td>52.99</td>\n      <td>11.25</td>\n    </tr>\n    <tr>\n      <th>18</th>\n      <td>2010</td>\n      <td>46.11</td>\n      <td>-6.88</td>\n    </tr>\n    <tr>\n      <th>19</th>\n      <td>2011</td>\n      <td>50.49</td>\n      <td>4.38</td>\n    </tr>\n    <tr>\n      <th>20</th>\n      <td>2012</td>\n      <td>63.02</td>\n      <td>12.53</td>\n    </tr>\n    <tr>\n      <th>21</th>\n      <td>2013</td>\n      <td>61.07</td>\n      <td>-1.95</td>\n    </tr>\n    <tr>\n      <th>22</th>\n      <td>2014</td>\n      <td>68.14</td>\n      <td>7.07</td>\n    </tr>\n    <tr>\n      <th>23</th>\n      <td>2015</td>\n      <td>75.03</td>\n      <td>6.89</td>\n    </tr>\n    <tr>\n      <th>24</th>\n      <td>2016</td>\n      <td>75.29</td>\n      <td>0.26</td>\n    </tr>\n    <tr>\n      <th>25</th>\n      <td>2017</td>\n      <td>79.19</td>\n      <td>3.90</td>\n    </tr>\n    <tr>\n      <th>26</th>\n      <td>2018</td>\n      <td>82.34</td>\n      <td>3.15</td>\n    </tr>\n    <tr>\n      <th>27</th>\n      <td>2019</td>\n      <td>88.06</td>\n      <td>5.72</td>\n    </tr>\n    <tr>\n      <th>28</th>\n      <td>2020</td>\n      <td>94.41</td>\n      <td>6.35</td>\n    </tr>\n  </tbody>\n</table>\n</div>"
     },
     "metadata": {},
     "execution_count": 14
    }
   ],
   "source": [
    "final_df"
   ]
  },
  {
   "cell_type": "code",
   "execution_count": 15,
   "metadata": {},
   "outputs": [],
   "source": [
    "final_df.to_csv('cleaned/sea_level_global.csv',index=False)\n"
   ]
  },
  {
   "cell_type": "code",
   "execution_count": null,
   "metadata": {},
   "outputs": [],
   "source": []
  },
  {
   "cell_type": "code",
   "execution_count": null,
   "metadata": {},
   "outputs": [],
   "source": []
  }
 ]
}