{
 "metadata": {
  "language_info": {
   "codemirror_mode": {
    "name": "ipython",
    "version": 3
   },
   "file_extension": ".py",
   "mimetype": "text/x-python",
   "name": "python",
   "nbconvert_exporter": "python",
   "pygments_lexer": "ipython3",
   "version": "3.8.5-final"
  },
  "orig_nbformat": 2,
  "kernelspec": {
   "name": "python3",
   "display_name": "Python 3",
   "language": "python"
  }
 },
 "nbformat": 4,
 "nbformat_minor": 2,
 "cells": [
  {
   "cell_type": "code",
   "execution_count": null,
   "metadata": {},
   "outputs": [],
   "source": [
    "import pandas as pd \n",
    "import numpy as np \n",
    "import os\n",
    "import datetime as dt"
   ]
  },
  {
   "cell_type": "code",
   "execution_count": null,
   "metadata": {},
   "outputs": [],
   "source": [
    "dfs = []\n",
    "for f in os.listdir('raw/australia'):\n",
    "    print(f)\n",
    "    if f in [\"hail.csv\",\"waterspout.csv\"]:\n",
    "        df = pd.read_csv(f'raw/australia/{f}',usecols=np.arange(1,7),error_bad_lines=False)\n",
    "    elif f == \"rain.csv\":\n",
    "        df = pd.read_csv(f'raw/australia/{f}',usecols=np.arange(1,8),error_bad_lines=False)\n",
    "    elif f == \"ligthning.csv\":\n",
    "        df = pd.read_csv(f'raw/australia/{f}',usecols=np.arange(1,11),error_bad_lines=False)\n",
    "    elif f == \"tornado.csv\":\n",
    "        df = pd.read_csv(f'raw/australia/{f}',usecols=np.arange(1,9),error_bad_lines=False)\n",
    "    elif f == \"wind.csv\":\n",
    "        df = pd.read_csv(f'raw/australia/{f}',usecols=np.arange(1,10),error_bad_lines=False)\n",
    "    df = pd.read_csv(f'raw/australia/{f}',error_bad_lines=False)\n",
    "    dfs.append(df)"
   ]
  },
  {
   "cell_type": "code",
   "execution_count": 14,
   "metadata": {
    "tags": []
   },
   "outputs": [],
   "source": [
    "hail_df = dfs[0]\n",
    "rain_df = dfs[1]\n",
    "tornado_df = dfs[7]\n",
    "lightning_df = dfs[8]\n",
    "wind_df = dfs[9]\n",
    "waterspout_df = dfs[12]\n",
    "dffs = [dfs[6],dfs[2],dfs[3],dfs[4],dfs[5],dfs[10],dfs[11]]\n",
    "for d in dffs[1:]:\n",
    "    d['Year']=''\n",
    "    yy = d.iloc[:,0]\n",
    "    for i,n in yy.iteritems():\n",
    "        n = str(n)\n",
    "        count = 0\n",
    "        year = []\n",
    "        for a in n:\n",
    "            if count < 4:\n",
    "                year.append(a)\n",
    "            count +=1\n",
    "        year_final = ''.join(year)\n",
    "        d['Year'][i] = str(year_final)"
   ]
  },
  {
   "cell_type": "code",
   "execution_count": 18,
   "metadata": {},
   "outputs": [
    {
     "output_type": "execute_result",
     "data": {
      "text/plain": [
       "      anomalie  max_temp  min_temp  rainfall_anom  rainfall  day_cloud  \\\n",
       "Year                                                                     \n",
       "1900       NaN       NaN       NaN         -90.04    376.00        NaN   \n",
       "1901       NaN       NaN       NaN         -61.12    404.92        NaN   \n",
       "1902       NaN       NaN       NaN        -146.51    319.52        NaN   \n",
       "1903       NaN       NaN       NaN          54.24    520.28        NaN   \n",
       "1904       NaN       NaN       NaN          39.79    505.83        NaN   \n",
       "\n",
       "      drough_index  \n",
       "Year                \n",
       "1900     11.750000  \n",
       "1901      9.333333  \n",
       "1902     13.533333  \n",
       "1903     18.433333  \n",
       "1904     17.608333  "
      ],
      "text/html": "<div>\n<style scoped>\n    .dataframe tbody tr th:only-of-type {\n        vertical-align: middle;\n    }\n\n    .dataframe tbody tr th {\n        vertical-align: top;\n    }\n\n    .dataframe thead th {\n        text-align: right;\n    }\n</style>\n<table border=\"1\" class=\"dataframe\">\n  <thead>\n    <tr style=\"text-align: right;\">\n      <th></th>\n      <th>anomalie</th>\n      <th>max_temp</th>\n      <th>min_temp</th>\n      <th>rainfall_anom</th>\n      <th>rainfall</th>\n      <th>day_cloud</th>\n      <th>drough_index</th>\n    </tr>\n    <tr>\n      <th>Year</th>\n      <th></th>\n      <th></th>\n      <th></th>\n      <th></th>\n      <th></th>\n      <th></th>\n      <th></th>\n    </tr>\n  </thead>\n  <tbody>\n    <tr>\n      <th>1900</th>\n      <td>NaN</td>\n      <td>NaN</td>\n      <td>NaN</td>\n      <td>-90.04</td>\n      <td>376.00</td>\n      <td>NaN</td>\n      <td>11.750000</td>\n    </tr>\n    <tr>\n      <th>1901</th>\n      <td>NaN</td>\n      <td>NaN</td>\n      <td>NaN</td>\n      <td>-61.12</td>\n      <td>404.92</td>\n      <td>NaN</td>\n      <td>9.333333</td>\n    </tr>\n    <tr>\n      <th>1902</th>\n      <td>NaN</td>\n      <td>NaN</td>\n      <td>NaN</td>\n      <td>-146.51</td>\n      <td>319.52</td>\n      <td>NaN</td>\n      <td>13.533333</td>\n    </tr>\n    <tr>\n      <th>1903</th>\n      <td>NaN</td>\n      <td>NaN</td>\n      <td>NaN</td>\n      <td>54.24</td>\n      <td>520.28</td>\n      <td>NaN</td>\n      <td>18.433333</td>\n    </tr>\n    <tr>\n      <th>1904</th>\n      <td>NaN</td>\n      <td>NaN</td>\n      <td>NaN</td>\n      <td>39.79</td>\n      <td>505.83</td>\n      <td>NaN</td>\n      <td>17.608333</td>\n    </tr>\n  </tbody>\n</table>\n</div>"
     },
     "metadata": {},
     "execution_count": 18
    }
   ],
   "source": [
    "final_df = pd.DataFrame({'Year':[int(i) for i in range(1900,2021)]})\n",
    "for d in dffs:\n",
    "    d['Year'] = d['Year'].astype(int)\n",
    "    final_df = final_df.merge(d,on=\"Year\",how=\"left\")\n",
    "final_df = final_df[['Year', 'anomalie','max_temp','min_temp','rainfall_anom',\n",
    "  'rainfall',' day_cloud', 'index']].\\\n",
    "    rename({'index':'drough_index', ' day_cloud': 'day_cloud'},axis=1).groupby('Year').mean()\n",
    "final_df.head()"
   ]
  },
  {
   "cell_type": "code",
   "execution_count": 19,
   "metadata": {},
   "outputs": [
    {
     "output_type": "execute_result",
     "data": {
      "text/plain": [
       "      anomalie  max_temp  min_temp  rainfall_anom  rainfall  day_cloud  \\\n",
       "Year                                                                     \n",
       "2016      0.99      0.83      1.15          66.06    532.09        NaN   \n",
       "2017      1.06      1.41      0.72          28.41    494.44        NaN   \n",
       "2018      1.12      1.54      0.69         -60.19    405.85        NaN   \n",
       "2019      1.52      2.10      0.94        -190.32    275.71        NaN   \n",
       "2020      1.15      1.24      1.05          19.43    485.47        NaN   \n",
       "\n",
       "      drough_index  \n",
       "Year                \n",
       "2016           NaN  \n",
       "2017           NaN  \n",
       "2018           NaN  \n",
       "2019           NaN  \n",
       "2020           NaN  "
      ],
      "text/html": "<div>\n<style scoped>\n    .dataframe tbody tr th:only-of-type {\n        vertical-align: middle;\n    }\n\n    .dataframe tbody tr th {\n        vertical-align: top;\n    }\n\n    .dataframe thead th {\n        text-align: right;\n    }\n</style>\n<table border=\"1\" class=\"dataframe\">\n  <thead>\n    <tr style=\"text-align: right;\">\n      <th></th>\n      <th>anomalie</th>\n      <th>max_temp</th>\n      <th>min_temp</th>\n      <th>rainfall_anom</th>\n      <th>rainfall</th>\n      <th>day_cloud</th>\n      <th>drough_index</th>\n    </tr>\n    <tr>\n      <th>Year</th>\n      <th></th>\n      <th></th>\n      <th></th>\n      <th></th>\n      <th></th>\n      <th></th>\n      <th></th>\n    </tr>\n  </thead>\n  <tbody>\n    <tr>\n      <th>2016</th>\n      <td>0.99</td>\n      <td>0.83</td>\n      <td>1.15</td>\n      <td>66.06</td>\n      <td>532.09</td>\n      <td>NaN</td>\n      <td>NaN</td>\n    </tr>\n    <tr>\n      <th>2017</th>\n      <td>1.06</td>\n      <td>1.41</td>\n      <td>0.72</td>\n      <td>28.41</td>\n      <td>494.44</td>\n      <td>NaN</td>\n      <td>NaN</td>\n    </tr>\n    <tr>\n      <th>2018</th>\n      <td>1.12</td>\n      <td>1.54</td>\n      <td>0.69</td>\n      <td>-60.19</td>\n      <td>405.85</td>\n      <td>NaN</td>\n      <td>NaN</td>\n    </tr>\n    <tr>\n      <th>2019</th>\n      <td>1.52</td>\n      <td>2.10</td>\n      <td>0.94</td>\n      <td>-190.32</td>\n      <td>275.71</td>\n      <td>NaN</td>\n      <td>NaN</td>\n    </tr>\n    <tr>\n      <th>2020</th>\n      <td>1.15</td>\n      <td>1.24</td>\n      <td>1.05</td>\n      <td>19.43</td>\n      <td>485.47</td>\n      <td>NaN</td>\n      <td>NaN</td>\n    </tr>\n  </tbody>\n</table>\n</div>"
     },
     "metadata": {},
     "execution_count": 19
    }
   ],
   "source": [
    "final_df.tail()"
   ]
  },
  {
   "cell_type": "code",
   "execution_count": 20,
   "metadata": {},
   "outputs": [],
   "source": [
    "dfs_d = [hail_df,rain_df,tornado_df,lightning_df,wind_df,waterspout_df]\n",
    "for df in dfs_d:\n",
    "    df['date'] = pd.to_datetime(df['Date/Time'])\n",
    "    df['Year'] = df['date'].dt.year"
   ]
  },
  {
   "cell_type": "code",
   "execution_count": 21,
   "metadata": {},
   "outputs": [],
   "source": [
    "hail_df = hail_df[['Year', 'Hail size', 'Latitude', 'Longitude', 'Nearest town',\n",
    "       'State']]\n",
    "rain_df = rain_df[['Year','Intense precipitation amount', 'Intense precipitation period',\n",
    "       'Total precipitation', 'Latitude', 'Longitude','State']]\n",
    "lightning_df = lightning_df[['Year','Flash rate','Latitude', 'Longitude','State','Nearest town']]\n",
    "tornado_df = tornado_df[['Year','Max speed (km/h)','Latitude', 'Longitude','State','Nearest town']]\n",
    "wind_df = wind_df[['Year','Max Mean Wind speed','Latitude', 'Longitude','State','Nearest town']]\n",
    "waterspout_df = waterspout_df[['Year','Number of Spouts','Latitude', 'Longitude']]\n",
    "dfs_e = [hail_df,rain_df,tornado_df,lightning_df,wind_df,waterspout_df]"
   ]
  },
  {
   "cell_type": "code",
   "execution_count": 25,
   "metadata": {},
   "outputs": [
    {
     "output_type": "execute_result",
     "data": {
      "text/plain": [
       "   Year  lightning_count  hails_count   rain_avg  tornado_count  \\\n",
       "0  1900              0.0          5.0  31.400000            3.0   \n",
       "1  1901              1.0          7.0  81.600000            7.0   \n",
       "2  1902              0.0         11.0  81.666667            7.0   \n",
       "3  1903              0.0         10.0  60.842105            9.0   \n",
       "4  1904              1.0          5.0  60.375000            6.0   \n",
       "\n",
       "   waterspouts_count  wind_speed_avg  \n",
       "0                0.0             0.0  \n",
       "1                0.0             0.0  \n",
       "2                0.0             0.0  \n",
       "3                0.0             0.0  \n",
       "4                0.0             0.0  "
      ],
      "text/html": "<div>\n<style scoped>\n    .dataframe tbody tr th:only-of-type {\n        vertical-align: middle;\n    }\n\n    .dataframe tbody tr th {\n        vertical-align: top;\n    }\n\n    .dataframe thead th {\n        text-align: right;\n    }\n</style>\n<table border=\"1\" class=\"dataframe\">\n  <thead>\n    <tr style=\"text-align: right;\">\n      <th></th>\n      <th>Year</th>\n      <th>lightning_count</th>\n      <th>hails_count</th>\n      <th>rain_avg</th>\n      <th>tornado_count</th>\n      <th>waterspouts_count</th>\n      <th>wind_speed_avg</th>\n    </tr>\n  </thead>\n  <tbody>\n    <tr>\n      <th>0</th>\n      <td>1900</td>\n      <td>0.0</td>\n      <td>5.0</td>\n      <td>31.400000</td>\n      <td>3.0</td>\n      <td>0.0</td>\n      <td>0.0</td>\n    </tr>\n    <tr>\n      <th>1</th>\n      <td>1901</td>\n      <td>1.0</td>\n      <td>7.0</td>\n      <td>81.600000</td>\n      <td>7.0</td>\n      <td>0.0</td>\n      <td>0.0</td>\n    </tr>\n    <tr>\n      <th>2</th>\n      <td>1902</td>\n      <td>0.0</td>\n      <td>11.0</td>\n      <td>81.666667</td>\n      <td>7.0</td>\n      <td>0.0</td>\n      <td>0.0</td>\n    </tr>\n    <tr>\n      <th>3</th>\n      <td>1903</td>\n      <td>0.0</td>\n      <td>10.0</td>\n      <td>60.842105</td>\n      <td>9.0</td>\n      <td>0.0</td>\n      <td>0.0</td>\n    </tr>\n    <tr>\n      <th>4</th>\n      <td>1904</td>\n      <td>1.0</td>\n      <td>5.0</td>\n      <td>60.375000</td>\n      <td>6.0</td>\n      <td>0.0</td>\n      <td>0.0</td>\n    </tr>\n  </tbody>\n</table>\n</div>"
     },
     "metadata": {},
     "execution_count": 25
    }
   ],
   "source": [
    "df2 = pd.DataFrame({'Year':[int(i) for i in range(1900,2021)]})\n",
    "new_df = lightning_df.groupby('Year').count().iloc[:,0].reset_index()\n",
    "new_df['Year'] = new_df['Year'].astype(int)\n",
    "new_df2 = hail_df.groupby('Year').count().iloc[:,0].reset_index()\n",
    "new_df2['Year'] = new_df2['Year'].astype(int)\n",
    "new_df3 = rain_df.groupby('Year').mean().iloc[:,0].reset_index()\n",
    "new_df3['Year'] = new_df3['Year'].astype(int)\n",
    "new_df4 = tornado_df.groupby('Year').count().iloc[:,0].reset_index()\n",
    "new_df4['Year'] = new_df4['Year'].astype(int)\n",
    "new_df5 = waterspout_df.groupby('Year').count().iloc[:,0].reset_index()\n",
    "new_df5['Year'] = new_df5['Year'].astype(int)\n",
    "new_df6 = wind_df.groupby('Year').mean().iloc[:,0].reset_index()\n",
    "new_df6['Year'] = new_df6['Year'].astype(int)\n",
    "df2 = df2.merge(new_df,on=\"Year\",how=\"left\")\n",
    "df2 = df2.merge(new_df2,on=\"Year\",how=\"left\")\n",
    "df2 = df2.merge(new_df3,on=\"Year\",how=\"left\")\n",
    "df2 = df2.merge(new_df4,on=\"Year\",how=\"left\")\n",
    "df2 = df2.merge(new_df5,on=\"Year\",how=\"left\")\n",
    "df2 = df2.merge(new_df6,on=\"Year\",how=\"left\")\n",
    "df2 = df2.fillna(0)\n",
    "summary_df = df2.rename({'Hail size':\"hails_count\", 'Intense precipitation amount': \"rain_avg\", 'Max speed (km/h)':\"tornado_count\",\n",
    "       'Flash rate':'lightning_count', 'Max Mean Wind speed':\"wind_speed_avg\", 'Number of Spouts':'waterspouts_count'},axis=1)\n",
    "summary_df.head()"
   ]
  },
  {
   "cell_type": "code",
   "execution_count": 26,
   "metadata": {},
   "outputs": [],
   "source": [
    "ff_df = final_df.merge(summary_df,on=\"Year\",how=\"left\")\n",
    "ff_df['Year'] = ff_df['Year'].astype(int)\n",
    "ff_df.fillna(0,inplace=True)"
   ]
  },
  {
   "cell_type": "code",
   "execution_count": 29,
   "metadata": {},
   "outputs": [],
   "source": [
    "final_df = ff_df[['Year','anomalie','max_temp', 'min_temp', \n",
    "'rainfall_anom','rainfall','day_cloud', 'drough_index', 'lightning_count', 'hails_count',\n",
    "       'rain_avg', 'tornado_count', 'waterspouts_count', 'wind_speed_avg']].\\\n",
    "           rename({'anomalie':'avg_temp'},axis=1)"
   ]
  },
  {
   "cell_type": "code",
   "execution_count": 31,
   "metadata": {},
   "outputs": [],
   "source": [
    "final_df = final_df[final_df['Year']>= 1910]"
   ]
  },
  {
   "cell_type": "code",
   "execution_count": 48,
   "metadata": {},
   "outputs": [],
   "source": [
    "final_df.to_csv('cleaned/australia_extreme_summary.csv',index=False)\n"
   ]
  },
  {
   "cell_type": "code",
   "execution_count": null,
   "metadata": {},
   "outputs": [],
   "source": []
  }
 ]
}