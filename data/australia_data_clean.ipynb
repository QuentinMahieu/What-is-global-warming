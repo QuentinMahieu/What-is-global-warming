{
 "metadata": {
  "language_info": {
   "codemirror_mode": {
    "name": "ipython",
    "version": 3
   },
   "file_extension": ".py",
   "mimetype": "text/x-python",
   "name": "python",
   "nbconvert_exporter": "python",
   "pygments_lexer": "ipython3",
   "version": "3.6.10-final"
  },
  "orig_nbformat": 2,
  "kernelspec": {
   "name": "python3",
   "display_name": "Python 3",
   "language": "python"
  }
 },
 "nbformat": 4,
 "nbformat_minor": 2,
 "cells": [
  {
   "cell_type": "code",
   "execution_count": 1,
   "metadata": {},
   "outputs": [],
   "source": [
    "import pandas as pd \n",
    "import numpy as np \n",
    "import os\n",
    "import datetime as dt"
   ]
  },
  {
   "cell_type": "code",
   "execution_count": 2,
   "metadata": {
    "tags": []
   },
   "outputs": [
    {
     "output_type": "stream",
     "name": "stdout",
     "text": "hail.csv\nrain.csv\naustralia_max_temp.csv\naustralia_rainfall_anomaly.csv\naustralia_min_temp.csv\naustralia_cloud.csv\navg_temp.csv\ntornado.csv\nlightning.csv\nwind.csv\nb'Skipping line 13: expected 9 fields, saw 10\\nSkipping line 14: expected 9 fields, saw 11\\nSkipping line 51: expected 9 fields, saw 10\\nSkipping line 71: expected 9 fields, saw 12\\nSkipping line 100: expected 9 fields, saw 10\\nSkipping line 101: expected 9 fields, saw 11\\nSkipping line 107: expected 9 fields, saw 11\\nSkipping line 114: expected 9 fields, saw 10\\nSkipping line 120: expected 9 fields, saw 10\\nSkipping line 129: expected 9 fields, saw 11\\nSkipping line 131: expected 9 fields, saw 10\\nSkipping line 139: expected 9 fields, saw 11\\nSkipping line 140: expected 9 fields, saw 11\\nSkipping line 141: expected 9 fields, saw 10\\nSkipping line 147: expected 9 fields, saw 12\\nSkipping line 159: expected 9 fields, saw 11\\nSkipping line 160: expected 9 fields, saw 13\\nSkipping line 163: expected 9 fields, saw 10\\nSkipping line 164: expected 9 fields, saw 10\\nSkipping line 168: expected 9 fields, saw 10\\nSkipping line 169: expected 9 fields, saw 10\\nSkipping line 172: expected 9 fields, saw 12\\nSkipping line 312: expected 9 fields, saw 10\\nSkipping line 356: expected 9 fields, saw 10\\nSkipping line 984: expected 9 fields, saw 10\\nSkipping line 986: expected 9 fields, saw 11\\nSkipping line 987: expected 9 fields, saw 10\\nSkipping line 991: expected 9 fields, saw 12\\nSkipping line 999: expected 9 fields, saw 10\\nSkipping line 1001: expected 9 fields, saw 10\\nSkipping line 1046: expected 9 fields, saw 10\\nSkipping line 1047: expected 9 fields, saw 11\\nSkipping line 1048: expected 9 fields, saw 10\\nSkipping line 1053: expected 9 fields, saw 10\\nSkipping line 1223: expected 9 fields, saw 11\\nSkipping line 1232: expected 9 fields, saw 14\\nSkipping line 1253: expected 9 fields, saw 11\\nSkipping line 1314: expected 9 fields, saw 13\\nSkipping line 1324: expected 9 fields, saw 15\\nSkipping line 1339: expected 9 fields, saw 11\\nSkipping line 1473: expected 9 fields, saw 17\\nSkipping line 1474: expected 9 fields, saw 13\\nSkipping line 1475: expected 9 fields, saw 17\\nSkipping line 1484: expected 9 fields, saw 15\\nSkipping line 1488: expected 9 fields, saw 21\\nSkipping line 1496: expected 9 fields, saw 11\\nSkipping line 1499: expected 9 fields, saw 11\\nSkipping line 1517: expected 9 fields, saw 10\\nSkipping line 1529: expected 9 fields, saw 13\\nSkipping line 1606: expected 9 fields, saw 10\\nSkipping line 1654: expected 9 fields, saw 10\\nSkipping line 1754: expected 9 fields, saw 11\\nSkipping line 1771: expected 9 fields, saw 10\\nSkipping line 1954: expected 9 fields, saw 10\\nSkipping line 2059: expected 9 fields, saw 10\\nSkipping line 2061: expected 9 fields, saw 10\\nSkipping line 2064: expected 9 fields, saw 18\\nSkipping line 2091: expected 9 fields, saw 12\\nSkipping line 2096: expected 9 fields, saw 15\\nSkipping line 2098: expected 9 fields, saw 11\\nSkipping line 2100: expected 9 fields, saw 10\\nSkipping line 2108: expected 9 fields, saw 14\\nSkipping line 2116: expected 9 fields, saw 10\\nSkipping line 2121: expected 9 fields, saw 18\\nSkipping line 2126: expected 9 fields, saw 11\\nSkipping line 2129: expected 9 fields, saw 12\\nSkipping line 2140: expected 9 fields, saw 13\\nSkipping line 2141: expected 9 fields, saw 12\\nSkipping line 2147: expected 9 fields, saw 12\\nSkipping line 2150: expected 9 fields, saw 14\\nSkipping line 2183: expected 9 fields, saw 11\\nSkipping line 2299: expected 9 fields, saw 10\\nSkipping line 2300: expected 9 fields, saw 12\\nSkipping line 2301: expected 9 fields, saw 12\\nSkipping line 2302: expected 9 fields, saw 10\\nSkipping line 2323: expected 9 fields, saw 14\\nSkipping line 2326: expected 9 fields, saw 10\\nSkipping line 2355: expected 9 fields, saw 10\\nSkipping line 2359: expected 9 fields, saw 11\\nSkipping line 2369: expected 9 fields, saw 10\\nSkipping line 2571: expected 9 fields, saw 11\\nSkipping line 2631: expected 9 fields, saw 10\\nSkipping line 2632: expected 9 fields, saw 10\\nSkipping line 2664: expected 9 fields, saw 13\\nSkipping line 2725: expected 9 fields, saw 10\\nSkipping line 2731: expected 9 fields, saw 10\\nSkipping line 2736: expected 9 fields, saw 11\\nSkipping line 2754: expected 9 fields, saw 10\\nSkipping line 2783: expected 9 fields, saw 10\\nSkipping line 2816: expected 9 fields, saw 12\\nSkipping line 2820: expected 9 fields, saw 13\\nSkipping line 2823: expected 9 fields, saw 11\\nSkipping line 2833: expected 9 fields, saw 10\\nSkipping line 2872: expected 9 fields, saw 10\\nSkipping line 2893: expected 9 fields, saw 11\\nSkipping line 2894: expected 9 fields, saw 11\\nSkipping line 2917: expected 9 fields, saw 11\\nSkipping line 3109: expected 9 fields, saw 10\\nSkipping line 3510: expected 9 fields, saw 10\\nSkipping line 3548: expected 9 fields, saw 10\\nSkipping line 3553: expected 9 fields, saw 10\\nSkipping line 3565: expected 9 fields, saw 14\\nSkipping line 3666: expected 9 fields, saw 10\\nSkipping line 3903: expected 9 fields, saw 10\\n'\nb'Skipping line 5: expected 10 fields, saw 11\\nSkipping line 15: expected 10 fields, saw 11\\nSkipping line 17: expected 10 fields, saw 12\\nSkipping line 22: expected 10 fields, saw 11\\nSkipping line 56: expected 10 fields, saw 11\\nSkipping line 102: expected 10 fields, saw 11\\nSkipping line 105: expected 10 fields, saw 12\\nSkipping line 106: expected 10 fields, saw 11\\nSkipping line 109: expected 10 fields, saw 11\\nSkipping line 113: expected 10 fields, saw 11\\nSkipping line 114: expected 10 fields, saw 11\\nSkipping line 115: expected 10 fields, saw 11\\nSkipping line 117: expected 10 fields, saw 11\\nSkipping line 118: expected 10 fields, saw 13\\nSkipping line 119: expected 10 fields, saw 13\\nSkipping line 120: expected 10 fields, saw 12\\nSkipping line 122: expected 10 fields, saw 11\\nSkipping line 123: expected 10 fields, saw 11\\nSkipping line 125: expected 10 fields, saw 12\\nSkipping line 126: expected 10 fields, saw 11\\nSkipping line 137: expected 10 fields, saw 11\\nSkipping line 141: expected 10 fields, saw 11\\nSkipping line 146: expected 10 fields, saw 11\\nSkipping line 147: expected 10 fields, saw 12\\nSkipping line 149: expected 10 fields, saw 14\\nSkipping line 153: expected 10 fields, saw 13\\nSkipping line 154: expected 10 fields, saw 12\\nSkipping line 155: expected 10 fields, saw 11\\nSkipping line 156: expected 10 fields, saw 13\\nSkipping line 159: expected 10 fields, saw 13\\nSkipping line 175: expected 10 fields, saw 12\\nSkipping line 207: expected 10 fields, saw 11\\nSkipping line 416: expected 10 fields, saw 11\\nSkipping line 989: expected 10 fields, saw 12\\nSkipping line 1005: expected 10 fields, saw 12\\nSkipping line 1009: expected 10 fields, saw 11\\nSkipping line 1027: expected 10 fields, saw 12\\nSkipping line 1125: expected 10 fields, saw 11\\nSkipping line 1159: expected 10 fields, saw 12\\nSkipping line 1224: expected 10 fields, saw 16\\nSkipping line 1230: expected 10 fields, saw 18\\nSkipping line 1231: expected 10 fields, saw 14\\nSkipping line 1243: expected 10 fields, saw 14\\nSkipping line 1244: expected 10 fields, saw 16\\nSkipping line 1249: expected 10 fields, saw 14\\nSkipping line 1271: expected 10 fields, saw 11\\nSkipping line 1275: expected 10 fields, saw 12\\nSkipping line 1287: expected 10 fields, saw 13\\nSkipping line 1520: expected 10 fields, saw 18\\nSkipping line 1648: expected 10 fields, saw 11\\nSkipping line 1808: expected 10 fields, saw 13\\nSkipping line 1810: expected 10 fields, saw 13\\nSkipping line 2026: expected 10 fields, saw 11\\nSkipping line 2056: expected 10 fields, saw 16\\nSkipping line 2072: expected 10 fields, saw 19\\nSkipping line 2073: expected 10 fields, saw 12\\nSkipping line 2150: expected 10 fields, saw 11\\nSkipping line 2191: expected 10 fields, saw 13\\nSkipping line 2192: expected 10 fields, saw 13\\nSkipping line 2362: expected 10 fields, saw 18\\nSkipping line 2385: expected 10 fields, saw 11\\nSkipping line 2398: expected 10 fields, saw 11\\nSkipping line 2399: expected 10 fields, saw 11\\nSkipping line 2400: expected 10 fields, saw 11\\nSkipping line 2436: expected 10 fields, saw 11\\nSkipping line 2442: expected 10 fields, saw 13\\nSkipping line 2453: expected 10 fields, saw 11\\nSkipping line 2461: expected 10 fields, saw 18\\nSkipping line 2463: expected 10 fields, saw 13\\nSkipping line 2474: expected 10 fields, saw 13\\nSkipping line 2503: expected 10 fields, saw 11\\nSkipping line 2507: expected 10 fields, saw 12\\nSkipping line 2511: expected 10 fields, saw 12\\nSkipping line 2512: expected 10 fields, saw 12\\nSkipping line 2515: expected 10 fields, saw 11\\nSkipping line 2806: expected 10 fields, saw 11\\nSkipping line 2809: expected 10 fields, saw 11\\nSkipping line 2812: expected 10 fields, saw 11\\nSkipping line 2950: expected 10 fields, saw 12\\nSkipping line 2984: expected 10 fields, saw 11\\nSkipping line 3038: expected 10 fields, saw 18\\nSkipping line 3040: expected 10 fields, saw 11\\nSkipping line 3042: expected 10 fields, saw 14\\nSkipping line 3136: expected 10 fields, saw 13\\nSkipping line 3205: expected 10 fields, saw 12\\nSkipping line 3255: expected 10 fields, saw 12\\nSkipping line 3782: expected 10 fields, saw 11\\nSkipping line 3954: expected 10 fields, saw 12\\nSkipping line 4383: expected 10 fields, saw 11\\nSkipping line 4384: expected 10 fields, saw 11\\nSkipping line 4580: expected 10 fields, saw 13\\n'\nb'Skipping line 153: expected 11 fields, saw 13\\nSkipping line 183: expected 11 fields, saw 13\\nSkipping line 209: expected 11 fields, saw 14\\nSkipping line 215: expected 11 fields, saw 15\\nSkipping line 284: expected 11 fields, saw 14\\nSkipping line 327: expected 11 fields, saw 12\\nSkipping line 328: expected 11 fields, saw 12\\nSkipping line 419: expected 11 fields, saw 13\\nSkipping line 427: expected 11 fields, saw 12\\nSkipping line 487: expected 11 fields, saw 15\\nSkipping line 521: expected 11 fields, saw 21\\nSkipping line 526: expected 11 fields, saw 13\\nSkipping line 534: expected 11 fields, saw 16\\nSkipping line 541: expected 11 fields, saw 12\\nSkipping line 546: expected 11 fields, saw 13\\nSkipping line 550: expected 11 fields, saw 12\\nSkipping line 561: expected 11 fields, saw 13\\nSkipping line 562: expected 11 fields, saw 19\\nSkipping line 563: expected 11 fields, saw 14\\nSkipping line 576: expected 11 fields, saw 12\\nSkipping line 577: expected 11 fields, saw 14\\nSkipping line 583: expected 11 fields, saw 12\\nSkipping line 592: expected 11 fields, saw 12\\nSkipping line 599: expected 11 fields, saw 16\\nSkipping line 611: expected 11 fields, saw 14\\nSkipping line 613: expected 11 fields, saw 12\\nSkipping line 617: expected 11 fields, saw 12\\nSkipping line 625: expected 11 fields, saw 12\\nSkipping line 639: expected 11 fields, saw 13\\nSkipping line 646: expected 11 fields, saw 22\\nSkipping line 674: expected 11 fields, saw 14\\nSkipping line 699: expected 11 fields, saw 20\\nSkipping line 708: expected 11 fields, saw 14\\nSkipping line 716: expected 11 fields, saw 12\\nSkipping line 717: expected 11 fields, saw 15\\nSkipping line 718: expected 11 fields, saw 15\\nSkipping line 723: expected 11 fields, saw 12\\nSkipping line 724: expected 11 fields, saw 13\\nSkipping line 731: expected 11 fields, saw 12\\nSkipping line 732: expected 11 fields, saw 14\\nSkipping line 746: expected 11 fields, saw 12\\nSkipping line 748: expected 11 fields, saw 13\\nSkipping line 825: expected 11 fields, saw 12\\nSkipping line 841: expected 11 fields, saw 13\\nSkipping line 874: expected 11 fields, saw 15\\nSkipping line 894: expected 11 fields, saw 15\\nSkipping line 909: expected 11 fields, saw 15\\nSkipping line 911: expected 11 fields, saw 13\\nSkipping line 914: expected 11 fields, saw 12\\nSkipping line 924: expected 11 fields, saw 16\\nSkipping line 941: expected 11 fields, saw 12\\nSkipping line 943: expected 11 fields, saw 17\\nSkipping line 945: expected 11 fields, saw 12\\nSkipping line 972: expected 11 fields, saw 15\\nSkipping line 980: expected 11 fields, saw 12\\nSkipping line 1046: expected 11 fields, saw 18\\nSkipping line 1049: expected 11 fields, saw 12\\nSkipping line 1091: expected 11 fields, saw 14\\nSkipping line 1106: expected 11 fields, saw 14\\nSkipping line 1138: expected 11 fields, saw 15\\nSkipping line 1140: expected 11 fields, saw 13\\nSkipping line 1148: expected 11 fields, saw 15\\nSkipping line 1161: expected 11 fields, saw 13\\nSkipping line 1175: expected 11 fields, saw 12\\nSkipping line 1185: expected 11 fields, saw 12\\nSkipping line 1186: expected 11 fields, saw 12\\n'\nb'Skipping line 113: expected 13 fields, saw 15\\nSkipping line 206: expected 13 fields, saw 16\\nSkipping line 266: expected 13 fields, saw 18\\n'\nb'Skipping line 3: expected 12 fields, saw 13\\nSkipping line 32: expected 12 fields, saw 13\\nSkipping line 135: expected 12 fields, saw 14\\nSkipping line 164: expected 12 fields, saw 13\\nSkipping line 173: expected 12 fields, saw 14\\nSkipping line 174: expected 12 fields, saw 14\\nSkipping line 195: expected 12 fields, saw 13\\nSkipping line 248: expected 12 fields, saw 15\\nSkipping line 249: expected 12 fields, saw 15\\nSkipping line 255: expected 12 fields, saw 15\\nSkipping line 366: expected 12 fields, saw 13\\nSkipping line 583: expected 12 fields, saw 13\\nSkipping line 711: expected 12 fields, saw 15\\nSkipping line 1175: expected 12 fields, saw 14\\nSkipping line 1296: expected 12 fields, saw 13\\nSkipping line 1353: expected 12 fields, saw 14\\nSkipping line 1354: expected 12 fields, saw 14\\nSkipping line 1360: expected 12 fields, saw 14\\nSkipping line 1394: expected 12 fields, saw 14\\nSkipping line 1474: expected 12 fields, saw 14\\nSkipping line 1603: expected 12 fields, saw 18\\nSkipping line 1604: expected 12 fields, saw 16\\nSkipping line 1608: expected 12 fields, saw 20\\nSkipping line 1621: expected 12 fields, saw 14\\nSkipping line 1626: expected 12 fields, saw 14\\nSkipping line 1636: expected 12 fields, saw 24\\nSkipping line 1646: expected 12 fields, saw 14\\nSkipping line 1649: expected 12 fields, saw 13\\nSkipping line 1656: expected 12 fields, saw 14\\nSkipping line 1657: expected 12 fields, saw 16\\nSkipping line 1666: expected 12 fields, saw 13\\nSkipping line 1700: expected 12 fields, saw 14\\nSkipping line 1703: expected 12 fields, saw 14\\nSkipping line 1842: expected 12 fields, saw 19\\nSkipping line 1922: expected 12 fields, saw 13\\nSkipping line 2102: expected 12 fields, saw 14\\nSkipping line 2176: expected 12 fields, saw 13\\nSkipping line 2255: expected 12 fields, saw 13\\nSkipping line 2256: expected 12 fields, saw 13\\nSkipping line 2261: expected 12 fields, saw 14\\nSkipping line 2263: expected 12 fields, saw 18\\nSkipping line 2266: expected 12 fields, saw 22\\nSkipping line 2315: expected 12 fields, saw 14\\nSkipping line 2316: expected 12 fields, saw 13\\nSkipping line 2317: expected 12 fields, saw 15\\nSkipping line 2326: expected 12 fields, saw 13\\nSkipping line 2328: expected 12 fields, saw 13\\nSkipping line 2329: expected 12 fields, saw 13\\nSkipping line 2330: expected 12 fields, saw 21\\nSkipping line 2335: expected 12 fields, saw 14\\nSkipping line 2353: expected 12 fields, saw 13\\nSkipping line 2356: expected 12 fields, saw 13\\nSkipping line 2779: expected 12 fields, saw 14\\nSkipping line 2854: expected 12 fields, saw 14\\nSkipping line 2861: expected 12 fields, saw 15\\nSkipping line 2877: expected 12 fields, saw 19\\nSkipping line 2880: expected 12 fields, saw 19\\nSkipping line 2914: expected 12 fields, saw 16\\nSkipping line 2949: expected 12 fields, saw 13\\nSkipping line 3104: expected 12 fields, saw 15\\nSkipping line 3138: expected 12 fields, saw 13\\nSkipping line 3152: expected 12 fields, saw 13\\nSkipping line 3153: expected 12 fields, saw 13\\nSkipping line 3330: expected 12 fields, saw 13\\nSkipping line 3361: expected 12 fields, saw 13\\nSkipping line 3568: expected 12 fields, saw 14\\nSkipping line 3572: expected 12 fields, saw 13\\nSkipping line 4336: expected 12 fields, saw 15\\nSkipping line 4340: expected 12 fields, saw 13\\nSkipping line 4590: expected 12 fields, saw 17\\nSkipping line 4867: expected 12 fields, saw 14\\nSkipping line 4889: expected 12 fields, saw 13\\nSkipping line 4908: expected 12 fields, saw 13\\nSkipping line 5003: expected 12 fields, saw 14\\nSkipping line 5114: expected 12 fields, saw 13\\nSkipping line 5115: expected 12 fields, saw 13\\nSkipping line 5123: expected 12 fields, saw 13\\nSkipping line 5204: expected 12 fields, saw 13\\nSkipping line 5214: expected 12 fields, saw 14\\nSkipping line 5218: expected 12 fields, saw 16\\nSkipping line 5219: expected 12 fields, saw 16\\nSkipping line 5220: expected 12 fields, saw 15\\nSkipping line 5226: expected 12 fields, saw 17\\nSkipping line 5231: expected 12 fields, saw 18\\nSkipping line 5248: expected 12 fields, saw 13\\nSkipping line 5249: expected 12 fields, saw 13\\nSkipping line 5250: expected 12 fields, saw 14\\nSkipping line 5254: expected 12 fields, saw 18\\nSkipping line 5268: expected 12 fields, saw 20\\nSkipping line 5278: expected 12 fields, saw 13\\nSkipping line 5353: expected 12 fields, saw 14\\nSkipping line 5355: expected 12 fields, saw 14\\nSkipping line 5363: expected 12 fields, saw 14\\nSkipping line 5364: expected 12 fields, saw 14\\nSkipping line 5385: expected 12 fields, saw 13\\nSkipping line 5386: expected 12 fields, saw 16\\nSkipping line 5390: expected 12 fields, saw 13\\nSkipping line 5398: expected 12 fields, saw 15\\nSkipping line 5441: expected 12 fields, saw 14\\nSkipping line 5442: expected 12 fields, saw 14\\nSkipping line 5461: expected 12 fields, saw 14\\nSkipping line 5462: expected 12 fields, saw 14\\nSkipping line 5748: expected 12 fields, saw 13\\nSkipping line 5896: expected 12 fields, saw 13\\nSkipping line 7007: expected 12 fields, saw 13\\nSkipping line 7252: expected 12 fields, saw 13\\nSkipping line 7453: expected 12 fields, saw 20\\nSkipping line 7454: expected 12 fields, saw 26\\nSkipping line 7496: expected 12 fields, saw 15\\nSkipping line 7807: expected 12 fields, saw 17\\nSkipping line 7808: expected 12 fields, saw 17\\n'\ndrought_index.csv\naustralia_rainfall.csv\nwaterspout.csv\nb'Skipping line 61: expected 9 fields, saw 10\\n'\n"
    }
   ],
   "source": [
    "dfs = []\n",
    "for f in os.listdir('raw/australia'):\n",
    "    print(f)\n",
    "    if f in [\"hail.csv\",]:\n",
    "        df = pd.read_csv(f'raw/australia/{f}',usecols=np.arange(1,7),error_bad_lines=False)\n",
    "    elif f == \"waterspout.csv\":\n",
    "        df = pd.read_csv(f'raw/australia/{f}',usecols=np.arange(1,6),error_bad_lines=False)\n",
    "    elif f == \"rain.csv\":\n",
    "        df = pd.read_csv(f'raw/australia/{f}',usecols=np.arange(1,8),error_bad_lines=False)\n",
    "    elif f == \"ligthning.csv\":\n",
    "        df = pd.read_csv(f'raw/australia/{f}',usecols=np.arange(1,11),error_bad_lines=False)\n",
    "    elif f == \"tornado.csv\":\n",
    "        df = pd.read_csv(f'raw/australia/{f}',usecols=np.arange(1,9),error_bad_lines=False)\n",
    "    elif f == \"wind.csv\":\n",
    "        df = pd.read_csv(f'raw/australia/{f}',usecols=np.arange(1,10),error_bad_lines=False)\n",
    "    df = pd.read_csv(f'raw/australia/{f}',error_bad_lines=False)\n",
    "    dfs.append(df)"
   ]
  },
  {
   "cell_type": "code",
   "execution_count": 3,
   "metadata": {
    "tags": []
   },
   "outputs": [],
   "source": [
    "hail_df = dfs[0]\n",
    "rain_df = dfs[1]\n",
    "tornado_df = dfs[7]\n",
    "lightning_df = dfs[8]\n",
    "wind_df = dfs[9]\n",
    "waterspout_df = dfs[12]\n",
    "dffs = [dfs[6],dfs[2],dfs[3],dfs[4],dfs[5],dfs[10],dfs[11]]\n",
    "for d in dffs[1:]:\n",
    "    d['Year']=''\n",
    "    yy = d.iloc[:,0]\n",
    "    for i,n in yy.iteritems():\n",
    "        n = str(n)\n",
    "        count = 0\n",
    "        year = []\n",
    "        for a in n:\n",
    "            if count < 4:\n",
    "                year.append(a)\n",
    "            count +=1\n",
    "        year_final = ''.join(year)\n",
    "        d['Year'][i] = str(year_final)"
   ]
  },
  {
   "cell_type": "code",
   "execution_count": 4,
   "metadata": {},
   "outputs": [
    {
     "output_type": "execute_result",
     "data": {
      "text/plain": "      anomalie  max_temp  min_temp  rainfall_anom  rainfall  day_cloud  \\\nYear                                                                     \n1900       NaN       NaN       NaN         -90.04    376.00        NaN   \n1901       NaN       NaN       NaN         -61.12    404.92        NaN   \n1902       NaN       NaN       NaN        -146.51    319.52        NaN   \n1903       NaN       NaN       NaN          54.24    520.28        NaN   \n1904       NaN       NaN       NaN          39.79    505.83        NaN   \n\n      drough_index  \nYear                \n1900     11.750000  \n1901      9.333333  \n1902     13.533333  \n1903     18.433333  \n1904     17.608333  ",
      "text/html": "<div>\n<style scoped>\n    .dataframe tbody tr th:only-of-type {\n        vertical-align: middle;\n    }\n\n    .dataframe tbody tr th {\n        vertical-align: top;\n    }\n\n    .dataframe thead th {\n        text-align: right;\n    }\n</style>\n<table border=\"1\" class=\"dataframe\">\n  <thead>\n    <tr style=\"text-align: right;\">\n      <th></th>\n      <th>anomalie</th>\n      <th>max_temp</th>\n      <th>min_temp</th>\n      <th>rainfall_anom</th>\n      <th>rainfall</th>\n      <th>day_cloud</th>\n      <th>drough_index</th>\n    </tr>\n    <tr>\n      <th>Year</th>\n      <th></th>\n      <th></th>\n      <th></th>\n      <th></th>\n      <th></th>\n      <th></th>\n      <th></th>\n    </tr>\n  </thead>\n  <tbody>\n    <tr>\n      <th>1900</th>\n      <td>NaN</td>\n      <td>NaN</td>\n      <td>NaN</td>\n      <td>-90.04</td>\n      <td>376.00</td>\n      <td>NaN</td>\n      <td>11.750000</td>\n    </tr>\n    <tr>\n      <th>1901</th>\n      <td>NaN</td>\n      <td>NaN</td>\n      <td>NaN</td>\n      <td>-61.12</td>\n      <td>404.92</td>\n      <td>NaN</td>\n      <td>9.333333</td>\n    </tr>\n    <tr>\n      <th>1902</th>\n      <td>NaN</td>\n      <td>NaN</td>\n      <td>NaN</td>\n      <td>-146.51</td>\n      <td>319.52</td>\n      <td>NaN</td>\n      <td>13.533333</td>\n    </tr>\n    <tr>\n      <th>1903</th>\n      <td>NaN</td>\n      <td>NaN</td>\n      <td>NaN</td>\n      <td>54.24</td>\n      <td>520.28</td>\n      <td>NaN</td>\n      <td>18.433333</td>\n    </tr>\n    <tr>\n      <th>1904</th>\n      <td>NaN</td>\n      <td>NaN</td>\n      <td>NaN</td>\n      <td>39.79</td>\n      <td>505.83</td>\n      <td>NaN</td>\n      <td>17.608333</td>\n    </tr>\n  </tbody>\n</table>\n</div>"
     },
     "metadata": {},
     "execution_count": 4
    }
   ],
   "source": [
    "final_df = pd.DataFrame({'Year':[int(i) for i in range(1900,2021)]})\n",
    "for d in dffs:\n",
    "    d['Year'] = d['Year'].astype(int)\n",
    "    final_df = final_df.merge(d,on=\"Year\",how=\"left\")\n",
    "final_df = final_df[['Year', 'anomalie','max_temp','min_temp','rainfall_anom',\n",
    "  'rainfall',' day_cloud', 'index']].\\\n",
    "    rename({'index':'drough_index', ' day_cloud': 'day_cloud'},axis=1).groupby('Year').mean()\n",
    "final_df.head()"
   ]
  },
  {
   "cell_type": "code",
   "execution_count": 5,
   "metadata": {},
   "outputs": [
    {
     "output_type": "execute_result",
     "data": {
      "text/plain": "      anomalie  max_temp  min_temp  rainfall_anom  rainfall  day_cloud  \\\nYear                                                                     \n2016      0.99      0.83      1.15          66.06    532.09        NaN   \n2017      1.06      1.41      0.72          28.41    494.44        NaN   \n2018      1.12      1.54      0.69         -60.19    405.85        NaN   \n2019      1.52      2.10      0.94        -190.32    275.71        NaN   \n2020      1.15      1.24      1.05          19.43    485.47        NaN   \n\n      drough_index  \nYear                \n2016           NaN  \n2017           NaN  \n2018           NaN  \n2019           NaN  \n2020           NaN  ",
      "text/html": "<div>\n<style scoped>\n    .dataframe tbody tr th:only-of-type {\n        vertical-align: middle;\n    }\n\n    .dataframe tbody tr th {\n        vertical-align: top;\n    }\n\n    .dataframe thead th {\n        text-align: right;\n    }\n</style>\n<table border=\"1\" class=\"dataframe\">\n  <thead>\n    <tr style=\"text-align: right;\">\n      <th></th>\n      <th>anomalie</th>\n      <th>max_temp</th>\n      <th>min_temp</th>\n      <th>rainfall_anom</th>\n      <th>rainfall</th>\n      <th>day_cloud</th>\n      <th>drough_index</th>\n    </tr>\n    <tr>\n      <th>Year</th>\n      <th></th>\n      <th></th>\n      <th></th>\n      <th></th>\n      <th></th>\n      <th></th>\n      <th></th>\n    </tr>\n  </thead>\n  <tbody>\n    <tr>\n      <th>2016</th>\n      <td>0.99</td>\n      <td>0.83</td>\n      <td>1.15</td>\n      <td>66.06</td>\n      <td>532.09</td>\n      <td>NaN</td>\n      <td>NaN</td>\n    </tr>\n    <tr>\n      <th>2017</th>\n      <td>1.06</td>\n      <td>1.41</td>\n      <td>0.72</td>\n      <td>28.41</td>\n      <td>494.44</td>\n      <td>NaN</td>\n      <td>NaN</td>\n    </tr>\n    <tr>\n      <th>2018</th>\n      <td>1.12</td>\n      <td>1.54</td>\n      <td>0.69</td>\n      <td>-60.19</td>\n      <td>405.85</td>\n      <td>NaN</td>\n      <td>NaN</td>\n    </tr>\n    <tr>\n      <th>2019</th>\n      <td>1.52</td>\n      <td>2.10</td>\n      <td>0.94</td>\n      <td>-190.32</td>\n      <td>275.71</td>\n      <td>NaN</td>\n      <td>NaN</td>\n    </tr>\n    <tr>\n      <th>2020</th>\n      <td>1.15</td>\n      <td>1.24</td>\n      <td>1.05</td>\n      <td>19.43</td>\n      <td>485.47</td>\n      <td>NaN</td>\n      <td>NaN</td>\n    </tr>\n  </tbody>\n</table>\n</div>"
     },
     "metadata": {},
     "execution_count": 5
    }
   ],
   "source": [
    "final_df.tail()"
   ]
  },
  {
   "cell_type": "code",
   "execution_count": 6,
   "metadata": {},
   "outputs": [],
   "source": [
    "dfs_d = [hail_df,rain_df,tornado_df,lightning_df,wind_df,waterspout_df]\n",
    "for df in dfs_d:\n",
    "    df['date'] = pd.to_datetime(df['Date/Time'])\n",
    "    df['Year'] = df['date'].dt.year"
   ]
  },
  {
   "cell_type": "code",
   "execution_count": 7,
   "metadata": {},
   "outputs": [],
   "source": [
    "hail_df = hail_df[['Year', 'Hail size', 'Latitude', 'Longitude', 'Nearest town',\n",
    "       'State']]\n",
    "rain_df = rain_df[['Year','Intense precipitation amount', 'Intense precipitation period',\n",
    "       'Total precipitation', 'Latitude', 'Longitude','State']]\n",
    "lightning_df = lightning_df[['Year','Flash rate','Latitude', 'Longitude','State','Nearest town']]\n",
    "tornado_df = tornado_df[['Year','Max speed (km/h)','Latitude', 'Longitude','State','Nearest town']]\n",
    "wind_df = wind_df[['Year','Max Mean Wind speed','Latitude', 'Longitude','State','Nearest town']]\n",
    "waterspout_df = waterspout_df[['Year','Number of Spouts','Latitude', 'Longitude']]\n",
    "dfs_e = [hail_df,rain_df,tornado_df,lightning_df,wind_df,waterspout_df]"
   ]
  },
  {
   "cell_type": "code",
   "execution_count": 8,
   "metadata": {},
   "outputs": [
    {
     "output_type": "execute_result",
     "data": {
      "text/plain": "   Year  lightning_count  hails_count   rain_avg  tornado_count  \\\n0  1900              0.0          5.0  31.400000            3.0   \n1  1901              1.0          7.0  81.600000            7.0   \n2  1902              0.0         11.0  81.666667            7.0   \n3  1903              0.0         10.0  60.842105            9.0   \n4  1904              1.0          5.0  60.375000            6.0   \n\n   waterspouts_count  wind_speed_avg  \n0                0.0             0.0  \n1                0.0             0.0  \n2                0.0             0.0  \n3                0.0             0.0  \n4                0.0             0.0  ",
      "text/html": "<div>\n<style scoped>\n    .dataframe tbody tr th:only-of-type {\n        vertical-align: middle;\n    }\n\n    .dataframe tbody tr th {\n        vertical-align: top;\n    }\n\n    .dataframe thead th {\n        text-align: right;\n    }\n</style>\n<table border=\"1\" class=\"dataframe\">\n  <thead>\n    <tr style=\"text-align: right;\">\n      <th></th>\n      <th>Year</th>\n      <th>lightning_count</th>\n      <th>hails_count</th>\n      <th>rain_avg</th>\n      <th>tornado_count</th>\n      <th>waterspouts_count</th>\n      <th>wind_speed_avg</th>\n    </tr>\n  </thead>\n  <tbody>\n    <tr>\n      <th>0</th>\n      <td>1900</td>\n      <td>0.0</td>\n      <td>5.0</td>\n      <td>31.400000</td>\n      <td>3.0</td>\n      <td>0.0</td>\n      <td>0.0</td>\n    </tr>\n    <tr>\n      <th>1</th>\n      <td>1901</td>\n      <td>1.0</td>\n      <td>7.0</td>\n      <td>81.600000</td>\n      <td>7.0</td>\n      <td>0.0</td>\n      <td>0.0</td>\n    </tr>\n    <tr>\n      <th>2</th>\n      <td>1902</td>\n      <td>0.0</td>\n      <td>11.0</td>\n      <td>81.666667</td>\n      <td>7.0</td>\n      <td>0.0</td>\n      <td>0.0</td>\n    </tr>\n    <tr>\n      <th>3</th>\n      <td>1903</td>\n      <td>0.0</td>\n      <td>10.0</td>\n      <td>60.842105</td>\n      <td>9.0</td>\n      <td>0.0</td>\n      <td>0.0</td>\n    </tr>\n    <tr>\n      <th>4</th>\n      <td>1904</td>\n      <td>1.0</td>\n      <td>5.0</td>\n      <td>60.375000</td>\n      <td>6.0</td>\n      <td>0.0</td>\n      <td>0.0</td>\n    </tr>\n  </tbody>\n</table>\n</div>"
     },
     "metadata": {},
     "execution_count": 8
    }
   ],
   "source": [
    "df2 = pd.DataFrame({'Year':[int(i) for i in range(1900,2021)]})\n",
    "new_df = lightning_df.groupby('Year').count().iloc[:,0].reset_index()\n",
    "new_df['Year'] = new_df['Year'].astype(int)\n",
    "new_df2 = hail_df.groupby('Year').count().iloc[:,0].reset_index()\n",
    "new_df2['Year'] = new_df2['Year'].astype(int)\n",
    "new_df3 = rain_df.groupby('Year').mean().iloc[:,0].reset_index()\n",
    "new_df3['Year'] = new_df3['Year'].astype(int)\n",
    "new_df4 = tornado_df.groupby('Year').count().iloc[:,0].reset_index()\n",
    "new_df4['Year'] = new_df4['Year'].astype(int)\n",
    "new_df5 = waterspout_df.groupby('Year').count().iloc[:,0].reset_index()\n",
    "new_df5['Year'] = new_df5['Year'].astype(int)\n",
    "new_df6 = wind_df.groupby('Year').mean().iloc[:,0].reset_index()\n",
    "new_df6['Year'] = new_df6['Year'].astype(int)\n",
    "df2 = df2.merge(new_df,on=\"Year\",how=\"left\")\n",
    "df2 = df2.merge(new_df2,on=\"Year\",how=\"left\")\n",
    "df2 = df2.merge(new_df3,on=\"Year\",how=\"left\")\n",
    "df2 = df2.merge(new_df4,on=\"Year\",how=\"left\")\n",
    "df2 = df2.merge(new_df5,on=\"Year\",how=\"left\")\n",
    "df2 = df2.merge(new_df6,on=\"Year\",how=\"left\")\n",
    "df2 = df2.fillna(0)\n",
    "summary_df = df2.rename({'Hail size':\"hails_count\", 'Intense precipitation amount': \"rain_avg\", 'Max speed (km/h)':\"tornado_count\",\n",
    "       'Flash rate':'lightning_count', 'Max Mean Wind speed':\"wind_speed_avg\", 'Number of Spouts':'waterspouts_count'},axis=1)\n",
    "summary_df.head()"
   ]
  },
  {
   "cell_type": "code",
   "execution_count": 9,
   "metadata": {},
   "outputs": [],
   "source": [
    "ff_df = final_df.merge(summary_df,on=\"Year\",how=\"left\")\n",
    "ff_df['Year'] = ff_df['Year'].astype(int)\n",
    "ff_df.fillna(0,inplace=True)"
   ]
  },
  {
   "cell_type": "code",
   "execution_count": 10,
   "metadata": {},
   "outputs": [],
   "source": [
    "final_df = ff_df[['Year','anomalie','max_temp', 'min_temp', \n",
    "'rainfall_anom','rainfall','day_cloud', 'drough_index', 'lightning_count', 'hails_count',\n",
    "       'rain_avg', 'tornado_count', 'waterspouts_count', 'wind_speed_avg']].\\\n",
    "           rename({'anomalie':'avg_temp'},axis=1)"
   ]
  },
  {
   "cell_type": "code",
   "execution_count": 11,
   "metadata": {},
   "outputs": [],
   "source": [
    "final_df = final_df[final_df['Year']>= 1910]"
   ]
  },
  {
   "cell_type": "code",
   "execution_count": 12,
   "metadata": {},
   "outputs": [
    {
     "output_type": "execute_result",
     "data": {
      "text/plain": "    Year  avg_temp  max_temp  min_temp  rainfall_anom  rainfall  day_cloud  \\\n10  1910     -0.50     -0.70     -0.31          69.53    535.56        0.0   \n11  1911     -0.68     -0.51     -0.87         -29.10    436.93        0.0   \n12  1912     -0.20      0.01     -0.42         -81.24    384.80        0.0   \n13  1913     -0.87     -0.70     -1.05         -21.11    444.92        0.0   \n14  1914      0.12      0.19      0.04         -41.01    425.02        0.0   \n\n    drough_index  lightning_count  hails_count   rain_avg  tornado_count  \\\n10     25.875000              1.0         14.0  73.500000            8.0   \n11     34.608333              1.0         11.0  44.000000            5.0   \n12     17.808333              2.0         23.0  25.500000            3.0   \n13     11.616667             10.0         19.0  55.818182           10.0   \n14     16.808333              6.0          9.0  54.705882            8.0   \n\n    waterspouts_count  wind_speed_avg  \n10                0.0             0.0  \n11                0.0             0.0  \n12                0.0             0.0  \n13                0.0             0.0  \n14                0.0             0.0  ",
      "text/html": "<div>\n<style scoped>\n    .dataframe tbody tr th:only-of-type {\n        vertical-align: middle;\n    }\n\n    .dataframe tbody tr th {\n        vertical-align: top;\n    }\n\n    .dataframe thead th {\n        text-align: right;\n    }\n</style>\n<table border=\"1\" class=\"dataframe\">\n  <thead>\n    <tr style=\"text-align: right;\">\n      <th></th>\n      <th>Year</th>\n      <th>avg_temp</th>\n      <th>max_temp</th>\n      <th>min_temp</th>\n      <th>rainfall_anom</th>\n      <th>rainfall</th>\n      <th>day_cloud</th>\n      <th>drough_index</th>\n      <th>lightning_count</th>\n      <th>hails_count</th>\n      <th>rain_avg</th>\n      <th>tornado_count</th>\n      <th>waterspouts_count</th>\n      <th>wind_speed_avg</th>\n    </tr>\n  </thead>\n  <tbody>\n    <tr>\n      <th>10</th>\n      <td>1910</td>\n      <td>-0.50</td>\n      <td>-0.70</td>\n      <td>-0.31</td>\n      <td>69.53</td>\n      <td>535.56</td>\n      <td>0.0</td>\n      <td>25.875000</td>\n      <td>1.0</td>\n      <td>14.0</td>\n      <td>73.500000</td>\n      <td>8.0</td>\n      <td>0.0</td>\n      <td>0.0</td>\n    </tr>\n    <tr>\n      <th>11</th>\n      <td>1911</td>\n      <td>-0.68</td>\n      <td>-0.51</td>\n      <td>-0.87</td>\n      <td>-29.10</td>\n      <td>436.93</td>\n      <td>0.0</td>\n      <td>34.608333</td>\n      <td>1.0</td>\n      <td>11.0</td>\n      <td>44.000000</td>\n      <td>5.0</td>\n      <td>0.0</td>\n      <td>0.0</td>\n    </tr>\n    <tr>\n      <th>12</th>\n      <td>1912</td>\n      <td>-0.20</td>\n      <td>0.01</td>\n      <td>-0.42</td>\n      <td>-81.24</td>\n      <td>384.80</td>\n      <td>0.0</td>\n      <td>17.808333</td>\n      <td>2.0</td>\n      <td>23.0</td>\n      <td>25.500000</td>\n      <td>3.0</td>\n      <td>0.0</td>\n      <td>0.0</td>\n    </tr>\n    <tr>\n      <th>13</th>\n      <td>1913</td>\n      <td>-0.87</td>\n      <td>-0.70</td>\n      <td>-1.05</td>\n      <td>-21.11</td>\n      <td>444.92</td>\n      <td>0.0</td>\n      <td>11.616667</td>\n      <td>10.0</td>\n      <td>19.0</td>\n      <td>55.818182</td>\n      <td>10.0</td>\n      <td>0.0</td>\n      <td>0.0</td>\n    </tr>\n    <tr>\n      <th>14</th>\n      <td>1914</td>\n      <td>0.12</td>\n      <td>0.19</td>\n      <td>0.04</td>\n      <td>-41.01</td>\n      <td>425.02</td>\n      <td>0.0</td>\n      <td>16.808333</td>\n      <td>6.0</td>\n      <td>9.0</td>\n      <td>54.705882</td>\n      <td>8.0</td>\n      <td>0.0</td>\n      <td>0.0</td>\n    </tr>\n  </tbody>\n</table>\n</div>"
     },
     "metadata": {},
     "execution_count": 12
    }
   ],
   "source": [
    "final_df.head()"
   ]
  },
  {
   "cell_type": "code",
   "execution_count": 13,
   "metadata": {},
   "outputs": [],
   "source": [
    "final_df.to_csv('cleaned/australia_extreme_summary.csv',index=False)\n"
   ]
  },
  {
   "cell_type": "code",
   "execution_count": null,
   "metadata": {},
   "outputs": [],
   "source": []
  }
 ]
}