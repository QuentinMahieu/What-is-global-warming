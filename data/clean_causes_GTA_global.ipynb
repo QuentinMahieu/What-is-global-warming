{
 "metadata": {
  "language_info": {
   "codemirror_mode": {
    "name": "ipython",
    "version": 3
   },
   "file_extension": ".py",
   "mimetype": "text/x-python",
   "name": "python",
   "nbconvert_exporter": "python",
   "pygments_lexer": "ipython3",
   "version": "3.8.5-final"
  },
  "orig_nbformat": 2,
  "kernelspec": {
   "name": "python3",
   "display_name": "Python 3.8.5 64-bit ('anaconda3': virtualenv)",
   "metadata": {
    "interpreter": {
     "hash": "dca0ade3e726a953b501b15e8e990130d2b7799f14cfd9f4271676035ebe5511"
    }
   }
  }
 },
 "nbformat": 4,
 "nbformat_minor": 2,
 "cells": [
  {
   "cell_type": "code",
   "execution_count": 1,
   "metadata": {},
   "outputs": [],
   "source": [
    "import pandas as pd\n",
    "import numpy as np\n",
    "import matplotlib.pyplot as plt\n",
    "from datetime import datetime as dt\n",
    "import os"
   ]
  },
  {
   "cell_type": "code",
   "execution_count": 2,
   "metadata": {},
   "outputs": [],
   "source": [
    "p1 = os.path.join(\"raw\",\"GTA.csv\")\n",
    "df = pd.read_csv(p1)\n",
    "df2 = pd.read_csv(\"raw/causes.csv\")"
   ]
  },
  {
   "cell_type": "code",
   "execution_count": 3,
   "metadata": {},
   "outputs": [
    {
     "output_type": "stream",
     "name": "stdout",
     "text": [
      "13.79\n"
     ]
    }
   ],
   "source": [
    "df_final = df[[\"Year\",\"Glob\",\"NHem\",\"SHem\"]]\n",
    "# Baseline 1951-1980 (14°C) used for the GTA file, baseline for anomalies 1880-1910:\n",
    "mean_base_df = df_final[(df_final['Year']>1879)&(df_final['Year']<1901)]\n",
    "mean_base_df[\"temp\"] = mean_base_df['Glob'] + 14\n",
    "mean_baseline = mean_base_df[\"temp\"].mean()\n",
    "print(mean_baseline)\n",
    "df_final['Glob'] = df_final['Glob']+ 0.2"
   ]
  },
  {
   "cell_type": "code",
   "execution_count": 5,
   "metadata": {
    "tags": []
   },
   "outputs": [
    {
     "output_type": "execute_result",
     "data": {
      "text/plain": [
       "     All forcings     Human   Natural  Anthropogenic tropospheric aerosol  \\\n",
       "146      0.614646  0.652811 -0.065624                           -0.475731   \n",
       "147      0.647882  0.662333 -0.024018                           -0.465583   \n",
       "148      0.740968  0.702007 -0.022988                           -0.475270   \n",
       "149      0.778828  0.716130  0.025731                           -0.451686   \n",
       "150      0.818978  0.693264  0.026963                           -0.466707   \n",
       "151      0.830929  0.694239  0.036614                           -0.521246   \n",
       "152      0.845254  0.728673  0.055374                           -0.467304   \n",
       "153      0.858285  0.769768  0.044229                           -0.456452   \n",
       "154      0.892879  0.779479  0.069768                           -0.469128   \n",
       "155      0.873757  0.813503  0.114925                           -0.489674   \n",
       "\n",
       "     Greenhouse gases  Land use  Orbital changes     Ozone     Solar  Volcanic  \n",
       "146          0.947629 -0.128402         0.007362  0.104765  0.017531 -0.018413  \n",
       "147          0.981132 -0.150241        -0.107271  0.029719 -0.041251  0.003356  \n",
       "148          0.989026 -0.171568        -0.116840  0.040501  0.002263  0.038056  \n",
       "149          0.978662 -0.185987        -0.059780  0.059232  0.012872  0.033221  \n",
       "150          1.019794 -0.157066        -0.052279  0.016140 -0.018852  0.007629  \n",
       "151          1.062342 -0.166334        -0.100424  0.028246 -0.017479  0.009175  \n",
       "152          1.104759 -0.128149        -0.090166  0.055542 -0.012858  0.014434  \n",
       "153          1.105026 -0.144010        -0.029302  0.013628 -0.010081  0.025221  \n",
       "154          1.125446 -0.169371        -0.070361  0.010390  0.001381  0.044006  \n",
       "155          1.162028 -0.147347        -0.106631  0.047901 -0.036843  0.047744  "
      ],
      "text/html": "<div>\n<style scoped>\n    .dataframe tbody tr th:only-of-type {\n        vertical-align: middle;\n    }\n\n    .dataframe tbody tr th {\n        vertical-align: top;\n    }\n\n    .dataframe thead th {\n        text-align: right;\n    }\n</style>\n<table border=\"1\" class=\"dataframe\">\n  <thead>\n    <tr style=\"text-align: right;\">\n      <th></th>\n      <th>All forcings</th>\n      <th>Human</th>\n      <th>Natural</th>\n      <th>Anthropogenic tropospheric aerosol</th>\n      <th>Greenhouse gases</th>\n      <th>Land use</th>\n      <th>Orbital changes</th>\n      <th>Ozone</th>\n      <th>Solar</th>\n      <th>Volcanic</th>\n    </tr>\n  </thead>\n  <tbody>\n    <tr>\n      <th>146</th>\n      <td>0.614646</td>\n      <td>0.652811</td>\n      <td>-0.065624</td>\n      <td>-0.475731</td>\n      <td>0.947629</td>\n      <td>-0.128402</td>\n      <td>0.007362</td>\n      <td>0.104765</td>\n      <td>0.017531</td>\n      <td>-0.018413</td>\n    </tr>\n    <tr>\n      <th>147</th>\n      <td>0.647882</td>\n      <td>0.662333</td>\n      <td>-0.024018</td>\n      <td>-0.465583</td>\n      <td>0.981132</td>\n      <td>-0.150241</td>\n      <td>-0.107271</td>\n      <td>0.029719</td>\n      <td>-0.041251</td>\n      <td>0.003356</td>\n    </tr>\n    <tr>\n      <th>148</th>\n      <td>0.740968</td>\n      <td>0.702007</td>\n      <td>-0.022988</td>\n      <td>-0.475270</td>\n      <td>0.989026</td>\n      <td>-0.171568</td>\n      <td>-0.116840</td>\n      <td>0.040501</td>\n      <td>0.002263</td>\n      <td>0.038056</td>\n    </tr>\n    <tr>\n      <th>149</th>\n      <td>0.778828</td>\n      <td>0.716130</td>\n      <td>0.025731</td>\n      <td>-0.451686</td>\n      <td>0.978662</td>\n      <td>-0.185987</td>\n      <td>-0.059780</td>\n      <td>0.059232</td>\n      <td>0.012872</td>\n      <td>0.033221</td>\n    </tr>\n    <tr>\n      <th>150</th>\n      <td>0.818978</td>\n      <td>0.693264</td>\n      <td>0.026963</td>\n      <td>-0.466707</td>\n      <td>1.019794</td>\n      <td>-0.157066</td>\n      <td>-0.052279</td>\n      <td>0.016140</td>\n      <td>-0.018852</td>\n      <td>0.007629</td>\n    </tr>\n    <tr>\n      <th>151</th>\n      <td>0.830929</td>\n      <td>0.694239</td>\n      <td>0.036614</td>\n      <td>-0.521246</td>\n      <td>1.062342</td>\n      <td>-0.166334</td>\n      <td>-0.100424</td>\n      <td>0.028246</td>\n      <td>-0.017479</td>\n      <td>0.009175</td>\n    </tr>\n    <tr>\n      <th>152</th>\n      <td>0.845254</td>\n      <td>0.728673</td>\n      <td>0.055374</td>\n      <td>-0.467304</td>\n      <td>1.104759</td>\n      <td>-0.128149</td>\n      <td>-0.090166</td>\n      <td>0.055542</td>\n      <td>-0.012858</td>\n      <td>0.014434</td>\n    </tr>\n    <tr>\n      <th>153</th>\n      <td>0.858285</td>\n      <td>0.769768</td>\n      <td>0.044229</td>\n      <td>-0.456452</td>\n      <td>1.105026</td>\n      <td>-0.144010</td>\n      <td>-0.029302</td>\n      <td>0.013628</td>\n      <td>-0.010081</td>\n      <td>0.025221</td>\n    </tr>\n    <tr>\n      <th>154</th>\n      <td>0.892879</td>\n      <td>0.779479</td>\n      <td>0.069768</td>\n      <td>-0.469128</td>\n      <td>1.125446</td>\n      <td>-0.169371</td>\n      <td>-0.070361</td>\n      <td>0.010390</td>\n      <td>0.001381</td>\n      <td>0.044006</td>\n    </tr>\n    <tr>\n      <th>155</th>\n      <td>0.873757</td>\n      <td>0.813503</td>\n      <td>0.114925</td>\n      <td>-0.489674</td>\n      <td>1.162028</td>\n      <td>-0.147347</td>\n      <td>-0.106631</td>\n      <td>0.047901</td>\n      <td>-0.036843</td>\n      <td>0.047744</td>\n    </tr>\n  </tbody>\n</table>\n</div>"
     },
     "metadata": {},
     "execution_count": 5
    }
   ],
   "source": [
    "New_df2 = df2[['All forcings','Human','Natural',\n",
    "    'Anthropogenic tropospheric aerosol','Greenhouse gases',\n",
    "    'Land use','Orbital changes','Ozone','Solar','Volcanic']]\n",
    "\n",
    "for col in New_df2.columns:\n",
    "    New_df2[f'{col}'] = New_df2[f'{col}'] - float(273.15)\n",
    "    New_df2[f'{col}'] = New_df2[f'{col}'] - 14.34\n",
    "New_df2.tail(10)"
   ]
  },
  {
   "cell_type": "code",
   "execution_count": 6,
   "metadata": {},
   "outputs": [
    {
     "output_type": "execute_result",
     "data": {
      "text/plain": [
       "   Year  Glob  NHem  SHem  All forcings     Human   Natural  \\\n",
       "0  1880  0.04 -0.27 -0.04      0.013107  0.010159 -0.027790   \n",
       "1  1881  0.13 -0.16  0.01      0.063577  0.057503  0.012034   \n",
       "2  1882  0.10 -0.20  0.00      0.039591 -0.027156  0.002750   \n",
       "3  1883  0.04 -0.26 -0.06     -0.015938  0.003433 -0.104316   \n",
       "4  1884 -0.08 -0.42 -0.14     -0.342759  0.072729 -0.412569   \n",
       "\n",
       "   Anthropogenic tropospheric aerosol  Greenhouse gases  Land use  \\\n",
       "0                           -0.127200          0.015983 -0.032528   \n",
       "1                           -0.062515          0.002324 -0.085444   \n",
       "2                           -0.069622         -0.037102 -0.051923   \n",
       "3                           -0.040968          0.010191 -0.032395   \n",
       "4                           -0.116880         -0.002025 -0.049730   \n",
       "\n",
       "   Orbital changes     Ozone     Solar  Volcanic  \n",
       "0        -0.056693 -0.089613 -0.090798 -0.049216  \n",
       "1        -0.082822 -0.094296 -0.072818 -0.019145  \n",
       "2        -0.065116 -0.103527 -0.042130 -0.021983  \n",
       "3        -0.066559 -0.090971 -0.054658 -0.087345  \n",
       "4        -0.045884 -0.094009 -0.015754 -0.419613  "
      ],
      "text/html": "<div>\n<style scoped>\n    .dataframe tbody tr th:only-of-type {\n        vertical-align: middle;\n    }\n\n    .dataframe tbody tr th {\n        vertical-align: top;\n    }\n\n    .dataframe thead th {\n        text-align: right;\n    }\n</style>\n<table border=\"1\" class=\"dataframe\">\n  <thead>\n    <tr style=\"text-align: right;\">\n      <th></th>\n      <th>Year</th>\n      <th>Glob</th>\n      <th>NHem</th>\n      <th>SHem</th>\n      <th>All forcings</th>\n      <th>Human</th>\n      <th>Natural</th>\n      <th>Anthropogenic tropospheric aerosol</th>\n      <th>Greenhouse gases</th>\n      <th>Land use</th>\n      <th>Orbital changes</th>\n      <th>Ozone</th>\n      <th>Solar</th>\n      <th>Volcanic</th>\n    </tr>\n  </thead>\n  <tbody>\n    <tr>\n      <th>0</th>\n      <td>1880</td>\n      <td>0.04</td>\n      <td>-0.27</td>\n      <td>-0.04</td>\n      <td>0.013107</td>\n      <td>0.010159</td>\n      <td>-0.027790</td>\n      <td>-0.127200</td>\n      <td>0.015983</td>\n      <td>-0.032528</td>\n      <td>-0.056693</td>\n      <td>-0.089613</td>\n      <td>-0.090798</td>\n      <td>-0.049216</td>\n    </tr>\n    <tr>\n      <th>1</th>\n      <td>1881</td>\n      <td>0.13</td>\n      <td>-0.16</td>\n      <td>0.01</td>\n      <td>0.063577</td>\n      <td>0.057503</td>\n      <td>0.012034</td>\n      <td>-0.062515</td>\n      <td>0.002324</td>\n      <td>-0.085444</td>\n      <td>-0.082822</td>\n      <td>-0.094296</td>\n      <td>-0.072818</td>\n      <td>-0.019145</td>\n    </tr>\n    <tr>\n      <th>2</th>\n      <td>1882</td>\n      <td>0.10</td>\n      <td>-0.20</td>\n      <td>0.00</td>\n      <td>0.039591</td>\n      <td>-0.027156</td>\n      <td>0.002750</td>\n      <td>-0.069622</td>\n      <td>-0.037102</td>\n      <td>-0.051923</td>\n      <td>-0.065116</td>\n      <td>-0.103527</td>\n      <td>-0.042130</td>\n      <td>-0.021983</td>\n    </tr>\n    <tr>\n      <th>3</th>\n      <td>1883</td>\n      <td>0.04</td>\n      <td>-0.26</td>\n      <td>-0.06</td>\n      <td>-0.015938</td>\n      <td>0.003433</td>\n      <td>-0.104316</td>\n      <td>-0.040968</td>\n      <td>0.010191</td>\n      <td>-0.032395</td>\n      <td>-0.066559</td>\n      <td>-0.090971</td>\n      <td>-0.054658</td>\n      <td>-0.087345</td>\n    </tr>\n    <tr>\n      <th>4</th>\n      <td>1884</td>\n      <td>-0.08</td>\n      <td>-0.42</td>\n      <td>-0.14</td>\n      <td>-0.342759</td>\n      <td>0.072729</td>\n      <td>-0.412569</td>\n      <td>-0.116880</td>\n      <td>-0.002025</td>\n      <td>-0.049730</td>\n      <td>-0.045884</td>\n      <td>-0.094009</td>\n      <td>-0.015754</td>\n      <td>-0.419613</td>\n    </tr>\n  </tbody>\n</table>\n</div>"
     },
     "metadata": {},
     "execution_count": 6
    }
   ],
   "source": [
    "New_df2['Year'] = np.arange(1850,2006)\n",
    "final_temp_anomalies_df= df_final.merge(New_df2,on=\"Year\",how='left')\n",
    "final_temp_anomalies_df.head()"
   ]
  },
  {
   "source": [],
   "cell_type": "markdown",
   "metadata": {}
  },
  {
   "cell_type": "code",
   "execution_count": 7,
   "metadata": {},
   "outputs": [
    {
     "output_type": "stream",
     "name": "stdout",
     "text": [
      "<class 'pandas.core.frame.DataFrame'>\nInt64Index: 141 entries, 0 to 140\nData columns (total 12 columns):\n #   Column                              Non-Null Count  Dtype  \n---  ------                              --------------  -----  \n 0   Year                                141 non-null    int64  \n 1   global_anom                         141 non-null    float64\n 2   All forcings                        126 non-null    float64\n 3   Human                               126 non-null    float64\n 4   Natural                             126 non-null    float64\n 5   Anthropogenic tropospheric aerosol  126 non-null    float64\n 6   Greenhouse gases                    126 non-null    float64\n 7   Land use                            126 non-null    float64\n 8   Orbital changes                     126 non-null    float64\n 9   Ozone                               126 non-null    float64\n 10  Solar                               126 non-null    float64\n 11  Volcanic                            126 non-null    float64\ndtypes: float64(11), int64(1)\nmemory usage: 14.3 KB\n"
     ]
    }
   ],
   "source": [
    "anomalies_df = final_temp_anomalies_df[['Year','Glob','All forcings','Human', 'Natural',\n",
    "       'Anthropogenic tropospheric aerosol',\n",
    "       'Greenhouse gases', 'Land use','Orbital changes', 'Ozone', 'Solar',\n",
    "       'Volcanic']].rename({'Glob':\"global_anom\"},axis=1)\n",
    "anomalies_df.info()"
   ]
  },
  {
   "cell_type": "code",
   "execution_count": 8,
   "metadata": {},
   "outputs": [
    {
     "output_type": "stream",
     "name": "stdout",
     "text": [
      "0.7470364518623644\n0.8089932502394163\n"
     ]
    }
   ],
   "source": [
    "from sklearn.linear_model import LinearRegression\n",
    "from sklearn.model_selection import train_test_split\n",
    "model_df = anomalies_df.dropna()\n",
    "X = model_df[\"global_anom\"].to_numpy().reshape(-1,1)\n",
    "y = model_df[\"All forcings\"]\n",
    "X_train, X_test, y_train, y_test = train_test_split(X,y,test_size=0.2)\n",
    "model = LinearRegression()\n",
    "model.fit(X_train,y_train)\n",
    "print(model.score(X_train,y_train))\n",
    "print(model.score(X_test,y_test))"
   ]
  },
  {
   "cell_type": "code",
   "execution_count": 9,
   "metadata": {},
   "outputs": [
    {
     "output_type": "stream",
     "name": "stdout",
     "text": [
      "###################\nAll forcings\n0.757472020495568\n0.809624269681728\n###################\n"
     ]
    }
   ],
   "source": [
    "from sklearn.linear_model import LinearRegression\n",
    "from sklearn.model_selection import train_test_split\n",
    "columns = ['All forcings']\n",
    "to_predict = pd.DataFrame({\"global_anom\": anomalies_df[anomalies_df[\"Year\"].isin(\n",
    "        range(2006,2021,1))][\"global_anom\"]})\n",
    "pred_df = pd.DataFrame({\"Year\": np.arange(2006,2021,1),\\\n",
    "        \"global_anom\": anomalies_df[anomalies_df[\"Year\"].isin(\n",
    "            range(2006,2021,1))][\"global_anom\"]})\n",
    "for col in columns:\n",
    "    model_df = anomalies_df.dropna()\n",
    "    X = model_df[\"global_anom\"].to_numpy().reshape(-1,1)\n",
    "    y = model_df[col]\n",
    "    X_train, X_test, y_train, y_test = train_test_split(X,y)\n",
    "    model = LinearRegression()\n",
    "    model.fit(X_train,y_train)\n",
    "    print(\"###################\")\n",
    "    print(col)\n",
    "    print(model.score(X_train,y_train))\n",
    "    print(model.score(X_test,y_test))\n",
    "    print(\"###################\")\n",
    "    pred_df[col] = model.predict(to_predict)"
   ]
  },
  {
   "cell_type": "code",
   "execution_count": 10,
   "metadata": {},
   "outputs": [
    {
     "output_type": "stream",
     "name": "stdout",
     "text": [
      "###################\nHuman\n0.847643879831293\n0.8559441047256586\n###################\n"
     ]
    }
   ],
   "source": [
    "columns = [ 'Human']\n",
    "to_predict2 = pred_df[['global_anom', 'All forcings']] \n",
    "for col in columns:\n",
    "    model_df = anomalies_df.dropna()\n",
    "    X = model_df[[\"global_anom\",'All forcings']]\n",
    "    y = model_df[col]\n",
    "    X_train, X_test, y_train, y_test = train_test_split(X,y)\n",
    "    model = LinearRegression()\n",
    "    model.fit(X_train,y_train)\n",
    "    print(\"###################\")\n",
    "    print(col)\n",
    "    print(model.score(X_train,y_train))\n",
    "    print(model.score(X_test,y_test))\n",
    "    print(\"###################\")\n",
    "    pred_df[col] = model.predict(to_predict2)"
   ]
  },
  {
   "cell_type": "code",
   "execution_count": 13,
   "metadata": {},
   "outputs": [
    {
     "output_type": "stream",
     "name": "stdout",
     "text": [
      "###################\nGreenhouse gases\n0.8749392710049793\n0.82091654286823\n###################\n"
     ]
    }
   ],
   "source": [
    "columns = [ 'Greenhouse gases']\n",
    "to_predict2 = pred_df[['global_anom', 'All forcings']] \n",
    "for col in columns:\n",
    "    model_df = anomalies_df.dropna()\n",
    "    X = model_df[[\"global_anom\",'All forcings']]\n",
    "    y = model_df[col]\n",
    "    X_train, X_test, y_train, y_test = train_test_split(X,y)\n",
    "    model = LinearRegression()\n",
    "    model.fit(X_train,y_train)\n",
    "    print(\"###################\")\n",
    "    print(col)\n",
    "    print(model.score(X_train,y_train))\n",
    "    print(model.score(X_test,y_test))\n",
    "    print(\"###################\")\n",
    "    pred_df[col] = model.predict(to_predict2)"
   ]
  },
  {
   "cell_type": "code",
   "execution_count": 14,
   "metadata": {},
   "outputs": [
    {
     "output_type": "stream",
     "name": "stdout",
     "text": [
      "###################\nAnthropogenic tropospheric aerosol\n0.9491790183816202\n0.926546236736091\n###################\n"
     ]
    }
   ],
   "source": [
    "columns = ['Anthropogenic tropospheric aerosol']\n",
    "to_predict2 = pred_df[['global_anom', 'All forcings','Greenhouse gases']] \n",
    "for col in columns:\n",
    "    model_df = anomalies_df.dropna()\n",
    "    X = model_df[[\"global_anom\",'All forcings','Greenhouse gases']]\n",
    "    y = model_df[col]\n",
    "    X_train, X_test, y_train, y_test = train_test_split(X,y)\n",
    "    model = LinearRegression()\n",
    "    model.fit(X_train,y_train)\n",
    "    print(\"###################\")\n",
    "    print(col)\n",
    "    print(model.score(X_train,y_train))\n",
    "    print(model.score(X_test,y_test))\n",
    "    print(\"###################\")\n",
    "    pred_df[col] = model.predict(to_predict2)"
   ]
  },
  {
   "cell_type": "code",
   "execution_count": 16,
   "metadata": {},
   "outputs": [
    {
     "output_type": "stream",
     "name": "stdout",
     "text": [
      "###################\nLand use\n0.6363530438191742\n0.6747482300368169\n###################\n"
     ]
    }
   ],
   "source": [
    "columns = ['Land use']\n",
    "to_predict2 = pred_df[['All forcings','Greenhouse gases',\n",
    "'Anthropogenic tropospheric aerosol']] \n",
    "for col in columns:\n",
    "    model_df = anomalies_df.dropna()\n",
    "    X = model_df[['All forcings','Greenhouse gases',\n",
    "    'Anthropogenic tropospheric aerosol']]\n",
    "    y = model_df[col]\n",
    "    X_train, X_test, y_train, y_test = train_test_split(X,y)\n",
    "    model = LinearRegression()\n",
    "    model.fit(X_train,y_train)\n",
    "    print(\"###################\")\n",
    "    print(col)\n",
    "    print(model.score(X_train,y_train))\n",
    "    print(model.score(X_test,y_test))\n",
    "    print(\"###################\")\n",
    "    pred_df[col] = model.predict(to_predict2)"
   ]
  },
  {
   "cell_type": "code",
   "execution_count": 17,
   "metadata": {},
   "outputs": [
    {
     "output_type": "execute_result",
     "data": {
      "text/plain": [
       "     Year  global_anom  All forcings     Human  Greenhouse gases  \\\n",
       "126  2006         0.84      0.808608  0.736079          1.139712   \n",
       "127  2007         0.87      0.834343  0.758369          1.173816   \n",
       "128  2008         0.75      0.731404  0.669210          1.037401   \n",
       "129  2009         0.86      0.825764  0.750939          1.162448   \n",
       "130  2010         0.92      0.877234  0.795518          1.230655   \n",
       "131  2011         0.81      0.782873  0.713789          1.105609   \n",
       "132  2012         0.85      0.817186  0.743509          1.151080   \n",
       "133  2013         0.88      0.842921  0.765798          1.185184   \n",
       "134  2014         0.95      0.902968  0.817808          1.264759   \n",
       "135  2015         1.10      1.031642  0.929256          1.435277   \n",
       "136  2016         1.22      1.134581  1.018415          1.571692   \n",
       "137  2017         1.13      1.057377  0.951546          1.469381   \n",
       "138  2018         1.05      0.988751  0.892107          1.378438   \n",
       "139  2019         1.19      1.108846  0.996126          1.537588   \n",
       "140  2020         1.22      1.134581  1.018415          1.571692   \n",
       "\n",
       "     Anthropogenic tropospheric aerosol  Land use  \n",
       "126                           -0.528988 -0.183551  \n",
       "127                           -0.543257 -0.187827  \n",
       "128                           -0.486182 -0.170721  \n",
       "129                           -0.538500 -0.186402  \n",
       "130                           -0.567038 -0.194955  \n",
       "131                           -0.514719 -0.179274  \n",
       "132                           -0.533744 -0.184976  \n",
       "133                           -0.548013 -0.189253  \n",
       "134                           -0.581307 -0.199231  \n",
       "135                           -0.652651 -0.220614  \n",
       "136                           -0.709726 -0.237720  \n",
       "137                           -0.666919 -0.224891  \n",
       "138                           -0.628869 -0.213487  \n",
       "139                           -0.695457 -0.233444  \n",
       "140                           -0.709726 -0.237720  "
      ],
      "text/html": "<div>\n<style scoped>\n    .dataframe tbody tr th:only-of-type {\n        vertical-align: middle;\n    }\n\n    .dataframe tbody tr th {\n        vertical-align: top;\n    }\n\n    .dataframe thead th {\n        text-align: right;\n    }\n</style>\n<table border=\"1\" class=\"dataframe\">\n  <thead>\n    <tr style=\"text-align: right;\">\n      <th></th>\n      <th>Year</th>\n      <th>global_anom</th>\n      <th>All forcings</th>\n      <th>Human</th>\n      <th>Greenhouse gases</th>\n      <th>Anthropogenic tropospheric aerosol</th>\n      <th>Land use</th>\n    </tr>\n  </thead>\n  <tbody>\n    <tr>\n      <th>126</th>\n      <td>2006</td>\n      <td>0.84</td>\n      <td>0.808608</td>\n      <td>0.736079</td>\n      <td>1.139712</td>\n      <td>-0.528988</td>\n      <td>-0.183551</td>\n    </tr>\n    <tr>\n      <th>127</th>\n      <td>2007</td>\n      <td>0.87</td>\n      <td>0.834343</td>\n      <td>0.758369</td>\n      <td>1.173816</td>\n      <td>-0.543257</td>\n      <td>-0.187827</td>\n    </tr>\n    <tr>\n      <th>128</th>\n      <td>2008</td>\n      <td>0.75</td>\n      <td>0.731404</td>\n      <td>0.669210</td>\n      <td>1.037401</td>\n      <td>-0.486182</td>\n      <td>-0.170721</td>\n    </tr>\n    <tr>\n      <th>129</th>\n      <td>2009</td>\n      <td>0.86</td>\n      <td>0.825764</td>\n      <td>0.750939</td>\n      <td>1.162448</td>\n      <td>-0.538500</td>\n      <td>-0.186402</td>\n    </tr>\n    <tr>\n      <th>130</th>\n      <td>2010</td>\n      <td>0.92</td>\n      <td>0.877234</td>\n      <td>0.795518</td>\n      <td>1.230655</td>\n      <td>-0.567038</td>\n      <td>-0.194955</td>\n    </tr>\n    <tr>\n      <th>131</th>\n      <td>2011</td>\n      <td>0.81</td>\n      <td>0.782873</td>\n      <td>0.713789</td>\n      <td>1.105609</td>\n      <td>-0.514719</td>\n      <td>-0.179274</td>\n    </tr>\n    <tr>\n      <th>132</th>\n      <td>2012</td>\n      <td>0.85</td>\n      <td>0.817186</td>\n      <td>0.743509</td>\n      <td>1.151080</td>\n      <td>-0.533744</td>\n      <td>-0.184976</td>\n    </tr>\n    <tr>\n      <th>133</th>\n      <td>2013</td>\n      <td>0.88</td>\n      <td>0.842921</td>\n      <td>0.765798</td>\n      <td>1.185184</td>\n      <td>-0.548013</td>\n      <td>-0.189253</td>\n    </tr>\n    <tr>\n      <th>134</th>\n      <td>2014</td>\n      <td>0.95</td>\n      <td>0.902968</td>\n      <td>0.817808</td>\n      <td>1.264759</td>\n      <td>-0.581307</td>\n      <td>-0.199231</td>\n    </tr>\n    <tr>\n      <th>135</th>\n      <td>2015</td>\n      <td>1.10</td>\n      <td>1.031642</td>\n      <td>0.929256</td>\n      <td>1.435277</td>\n      <td>-0.652651</td>\n      <td>-0.220614</td>\n    </tr>\n    <tr>\n      <th>136</th>\n      <td>2016</td>\n      <td>1.22</td>\n      <td>1.134581</td>\n      <td>1.018415</td>\n      <td>1.571692</td>\n      <td>-0.709726</td>\n      <td>-0.237720</td>\n    </tr>\n    <tr>\n      <th>137</th>\n      <td>2017</td>\n      <td>1.13</td>\n      <td>1.057377</td>\n      <td>0.951546</td>\n      <td>1.469381</td>\n      <td>-0.666919</td>\n      <td>-0.224891</td>\n    </tr>\n    <tr>\n      <th>138</th>\n      <td>2018</td>\n      <td>1.05</td>\n      <td>0.988751</td>\n      <td>0.892107</td>\n      <td>1.378438</td>\n      <td>-0.628869</td>\n      <td>-0.213487</td>\n    </tr>\n    <tr>\n      <th>139</th>\n      <td>2019</td>\n      <td>1.19</td>\n      <td>1.108846</td>\n      <td>0.996126</td>\n      <td>1.537588</td>\n      <td>-0.695457</td>\n      <td>-0.233444</td>\n    </tr>\n    <tr>\n      <th>140</th>\n      <td>2020</td>\n      <td>1.22</td>\n      <td>1.134581</td>\n      <td>1.018415</td>\n      <td>1.571692</td>\n      <td>-0.709726</td>\n      <td>-0.237720</td>\n    </tr>\n  </tbody>\n</table>\n</div>"
     },
     "metadata": {},
     "execution_count": 17
    }
   ],
   "source": [
    "pred_df"
   ]
  },
  {
   "cell_type": "code",
   "execution_count": 18,
   "metadata": {},
   "outputs": [
    {
     "output_type": "stream",
     "name": "stdout",
     "text": [
      "###################\nOrbital changes\n0.14616760687965757\n-0.0020467876533150076\n###################\n###################\nOzone\n0.5707027643144765\n0.5710839333098074\n###################\n###################\nSolar\n0.11202388407150843\n0.21641345433284687\n###################\n###################\nVolcanic\n0.7865801690930319\n0.6623440842166413\n###################\n"
     ]
    }
   ],
   "source": [
    "pred_df['Natural'] = pred_df['All forcings'] - pred_df['Human']\n",
    "columns = ['Orbital changes','Ozone','Solar','Volcanic']\n",
    "to_predict2 = pred_df[['All forcings','Natural']] \n",
    "for col in columns:\n",
    "    model_df = anomalies_df.dropna()\n",
    "    X = model_df[['All forcings','Natural']]\n",
    "    y = model_df[col]\n",
    "    X_train, X_test, y_train, y_test = train_test_split(X,y)\n",
    "    model = LinearRegression()\n",
    "    model.fit(X_train,y_train)\n",
    "    print(\"###################\")\n",
    "    print(col)\n",
    "    print(model.score(X_train,y_train))\n",
    "    print(model.score(X_test,y_test))\n",
    "    print(\"###################\")\n",
    "    pred_df[col] = model.predict(to_predict2)"
   ]
  },
  {
   "cell_type": "code",
   "execution_count": 19,
   "metadata": {},
   "outputs": [
    {
     "output_type": "stream",
     "name": "stdout",
     "text": [
      "#################\nOrbital changes\n0.40664074547239437\n#################\nOzone\n-0.4240691615863461\n#################\nSolar\n0.3277444301984533\n"
     ]
    }
   ],
   "source": [
    "columns = ['Orbital changes','Ozone','Solar']\n",
    "for col in columns:\n",
    "    df5 = anomalies_df[anomalies_df[\"Year\"].\\\n",
    "        isin(range(1990,2005))].dropna()\n",
    "    df5[f'{col}_percent'] = df5[col]/df5[\"Natural\"]\n",
    "    print('#################')\n",
    "    print(col)\n",
    "    print(df5[f'{col}_percent'].mean())"
   ]
  },
  {
   "cell_type": "code",
   "execution_count": 20,
   "metadata": {},
   "outputs": [
    {
     "output_type": "execute_result",
     "data": {
      "text/plain": [
       "     Year  global_anom  All forcings     Human  Greenhouse gases  \\\n",
       "126  2006         0.84      0.808608  0.736079          1.139712   \n",
       "127  2007         0.87      0.834343  0.758369          1.173816   \n",
       "128  2008         0.75      0.731404  0.669210          1.037401   \n",
       "129  2009         0.86      0.825764  0.750939          1.162448   \n",
       "130  2010         0.92      0.877234  0.795518          1.230655   \n",
       "\n",
       "     Anthropogenic tropospheric aerosol  Land use   Natural  Orbital changes  \\\n",
       "126                           -0.528988 -0.183551  0.072529         0.019736   \n",
       "127                           -0.543257 -0.187827  0.075974         0.020673   \n",
       "128                           -0.486182 -0.170721  0.062194         0.016924   \n",
       "129                           -0.538500 -0.186402  0.074826         0.020361   \n",
       "130                           -0.567038 -0.194955  0.081716         0.022236   \n",
       "\n",
       "        Ozone     Solar  Volcanic  \n",
       "126  0.019736  0.019736  0.022612  \n",
       "127  0.020673  0.020673  0.024641  \n",
       "128  0.016924  0.016924  0.016528  \n",
       "129  0.020361  0.020361  0.023964  \n",
       "130  0.022236  0.022236  0.028021  "
      ],
      "text/html": "<div>\n<style scoped>\n    .dataframe tbody tr th:only-of-type {\n        vertical-align: middle;\n    }\n\n    .dataframe tbody tr th {\n        vertical-align: top;\n    }\n\n    .dataframe thead th {\n        text-align: right;\n    }\n</style>\n<table border=\"1\" class=\"dataframe\">\n  <thead>\n    <tr style=\"text-align: right;\">\n      <th></th>\n      <th>Year</th>\n      <th>global_anom</th>\n      <th>All forcings</th>\n      <th>Human</th>\n      <th>Greenhouse gases</th>\n      <th>Anthropogenic tropospheric aerosol</th>\n      <th>Land use</th>\n      <th>Natural</th>\n      <th>Orbital changes</th>\n      <th>Ozone</th>\n      <th>Solar</th>\n      <th>Volcanic</th>\n    </tr>\n  </thead>\n  <tbody>\n    <tr>\n      <th>126</th>\n      <td>2006</td>\n      <td>0.84</td>\n      <td>0.808608</td>\n      <td>0.736079</td>\n      <td>1.139712</td>\n      <td>-0.528988</td>\n      <td>-0.183551</td>\n      <td>0.072529</td>\n      <td>0.019736</td>\n      <td>0.019736</td>\n      <td>0.019736</td>\n      <td>0.022612</td>\n    </tr>\n    <tr>\n      <th>127</th>\n      <td>2007</td>\n      <td>0.87</td>\n      <td>0.834343</td>\n      <td>0.758369</td>\n      <td>1.173816</td>\n      <td>-0.543257</td>\n      <td>-0.187827</td>\n      <td>0.075974</td>\n      <td>0.020673</td>\n      <td>0.020673</td>\n      <td>0.020673</td>\n      <td>0.024641</td>\n    </tr>\n    <tr>\n      <th>128</th>\n      <td>2008</td>\n      <td>0.75</td>\n      <td>0.731404</td>\n      <td>0.669210</td>\n      <td>1.037401</td>\n      <td>-0.486182</td>\n      <td>-0.170721</td>\n      <td>0.062194</td>\n      <td>0.016924</td>\n      <td>0.016924</td>\n      <td>0.016924</td>\n      <td>0.016528</td>\n    </tr>\n    <tr>\n      <th>129</th>\n      <td>2009</td>\n      <td>0.86</td>\n      <td>0.825764</td>\n      <td>0.750939</td>\n      <td>1.162448</td>\n      <td>-0.538500</td>\n      <td>-0.186402</td>\n      <td>0.074826</td>\n      <td>0.020361</td>\n      <td>0.020361</td>\n      <td>0.020361</td>\n      <td>0.023964</td>\n    </tr>\n    <tr>\n      <th>130</th>\n      <td>2010</td>\n      <td>0.92</td>\n      <td>0.877234</td>\n      <td>0.795518</td>\n      <td>1.230655</td>\n      <td>-0.567038</td>\n      <td>-0.194955</td>\n      <td>0.081716</td>\n      <td>0.022236</td>\n      <td>0.022236</td>\n      <td>0.022236</td>\n      <td>0.028021</td>\n    </tr>\n  </tbody>\n</table>\n</div>"
     },
     "metadata": {},
     "execution_count": 20
    }
   ],
   "source": [
    "columns = ['Orbital changes','Ozone','Solar']\n",
    "for col in columns:\n",
    "    if col == 'Orbital changes':\n",
    "        pred_df[col] = pred_df['Natural']*-0.3516818676640785\n",
    "    if col == 'Ozone':\n",
    "        pred_df[col] = pred_df['Natural']*0.37095615338116783\n",
    "    pred_df[col] = pred_df['Natural']*0.27210830497222433\n",
    "pred_df.head()  "
   ]
  },
  {
   "cell_type": "code",
   "execution_count": 27,
   "metadata": {},
   "outputs": [],
   "source": [
    "anomalies_df.iloc[-15:,2] = pred_df[\"All forcings\"]\n",
    "anomalies_df.iloc[-15:,3] = pred_df[\"Human\"]\n",
    "anomalies_df.iloc[-15:,4] = pred_df[\"Natural\"]\n",
    "anomalies_df.iloc[-15:,5] = pred_df[\"Anthropogenic tropospheric aerosol\"]\n",
    "anomalies_df.iloc[-15:,6] = pred_df[\"Greenhouse gases\"]\n",
    "anomalies_df.iloc[-15:,7] = pred_df[\"Land use\"]\n",
    "anomalies_df.iloc[-15:,8] = pred_df[\"Orbital changes\"]\n",
    "anomalies_df.iloc[-15:,9] = pred_df[\"Ozone\"]\n",
    "anomalies_df.iloc[-15:,10] = pred_df[\"Solar\"]\n",
    "anomalies_df.iloc[-15:,11] = pred_df[\"Volcanic\"]"
   ]
  },
  {
   "cell_type": "code",
   "execution_count": 28,
   "metadata": {},
   "outputs": [],
   "source": [
    "anomalies_df.to_csv('cleaned/global_anomalies.csv',index=False)"
   ]
  },
  {
   "cell_type": "code",
   "execution_count": null,
   "metadata": {},
   "outputs": [],
   "source": []
  }
 ]
}